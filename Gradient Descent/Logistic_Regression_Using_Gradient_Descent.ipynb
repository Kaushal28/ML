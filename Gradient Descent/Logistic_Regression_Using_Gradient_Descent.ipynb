{
  "nbformat": 4,
  "nbformat_minor": 0,
  "metadata": {
    "colab": {
      "name": "Logistic Regression Using Gradient Descent.ipynb",
      "version": "0.3.2",
      "provenance": [],
      "collapsed_sections": []
    },
    "kernelspec": {
      "name": "python3",
      "display_name": "Python 3"
    }
  },
  "cells": [
    {
      "cell_type": "code",
      "metadata": {
        "id": "hioPaiLjM-61",
        "colab_type": "code",
        "colab": {}
      },
      "source": [
        "# Logistic regression using batch gradient descent\n",
        "\n",
        "# Imports\n",
        "import numpy as np\n",
        "from sklearn.datasets import make_blobs\n",
        "from matplotlib import pyplot as plt\n",
        "from sklearn.linear_model import LogisticRegression"
      ],
      "execution_count": 0,
      "outputs": []
    },
    {
      "cell_type": "code",
      "metadata": {
        "id": "Q41kfrLkNjNR",
        "colab_type": "code",
        "outputId": "1e71cc03-0da7-46c5-e577-c3ece5b4c1ab",
        "colab": {
          "base_uri": "https://localhost:8080/",
          "height": 269
        }
      },
      "source": [
        "# generate linearly separable data\n",
        "X, y = make_blobs(n_samples = 100, centers = 2, cluster_std=1.0, n_features = 1, random_state = 1)\n",
        "# np.random.seed(2)\n",
        "# randomize the value of y as it's only generating 0 or 1\n",
        "y = y*np.random.rand(100) + np.random.rand(100, )\n",
        "X = X.ravel()\n",
        "plt.scatter(X, y, color = 'red')\n",
        "plt.show()"
      ],
      "execution_count": 372,
      "outputs": [
        {
          "output_type": "display_data",
          "data": {
            "image/png": "[encoded data removed]",
            "text/plain": [
              "<Figure size 432x288 with 1 Axes>"
            ]
          },
          "metadata": {
            "tags": []
          }
        }
      ]
    },
    {
      "cell_type": "code",
      "metadata": {
        "id": "FEihYL1SmBf1",
        "colab_type": "code",
        "colab": {}
      },
      "source": [
        "y = []\n",
        "for x in X:\n",
        "  if x > 2: y.append(1)\n",
        "  else: y.append(0)\n",
        "\n",
        "def sigmoid (a):\n",
        "  return 1.0 / (1 + np.exp(-a))\n",
        "\n",
        "def predict (x1, w1, b):\n",
        "  return sigmoid (w1 * x1 + b)\n",
        "\n",
        "def dw (X, y, w1, b):\n",
        "  dJ, m = 0, len(X)\n",
        "  for x_, y_ in zip (X, y):\n",
        "    a = predict(x_, w1, b) # a is predicted value\n",
        "    dJ += (a - y_) * a * (1 - a) * x_\n",
        "  return dJ / m\n",
        "\n",
        "def db (X, y, w1, b):\n",
        "  dJ, m = 0, len(X)\n",
        "  for x_, y_ in zip (X, y):\n",
        "    a = predict(x_, w1, b) # a is predicted value\n",
        "    dJ += (a - y_) * a * (1 - a)\n",
        "  return dJ / m\n"
      ],
      "execution_count": 0,
      "outputs": []
    },
    {
      "cell_type": "code",
      "metadata": {
        "id": "toSo7joQnOtA",
        "colab_type": "code",
        "outputId": "607ef50f-9ceb-4b92-f5dc-ea1d76654afb",
        "colab": {
          "base_uri": "https://localhost:8080/",
          "height": 34
        }
      },
      "source": [
        "# define learning rate\n",
        "eta = 0.2\n",
        "# print (X, y)\n",
        "# Initialize parametes w1, w2 and b\n",
        "\n",
        "w1, b = 0, 0\n",
        "prev_w1, prev_b = w1, b\n",
        "\n",
        "# Perform optimization using gradient descent\n",
        "while True:\n",
        "  \n",
        "  prev_w1, prev_b = w1, b\n",
        "  \n",
        "  w1 = w1 - eta * dw(X, y, prev_w1, prev_b)\n",
        "  b = b - eta * db(X, y, prev_w1, prev_b)\n",
        "  \n",
        "  if abs (prev_w1 - w1) <= 0.0001 and abs (prev_b - b) <= 0.0001:\n",
        "    break\n",
        "  \n",
        "print (w1, b)"
      ],
      "execution_count": 374,
      "outputs": [
        {
          "output_type": "stream",
          "text": [
            "1.8474367455658363 -2.2886391310585044\n"
          ],
          "name": "stdout"
        }
      ]
    },
    {
      "cell_type": "code",
      "metadata": {
        "id": "YbKRZje8rEcc",
        "colab_type": "code",
        "outputId": "e7b60ef4-da2a-47e1-9f95-4574c28e5569",
        "colab": {
          "base_uri": "https://localhost:8080/",
          "height": 34
        }
      },
      "source": [
        "# Compare result with actual output of sklearn\n",
        "clf = LogisticRegression (random_state=0, solver='lbfgs', multi_class='auto').fit(X.reshape(-1, 1), y)\n",
        "print (clf.coef_, clf.intercept_)"
      ],
      "execution_count": 375,
      "outputs": [
        {
          "output_type": "stream",
          "text": [
            "[[1.86559012]] [-2.8120749]\n"
          ],
          "name": "stdout"
        }
      ]
    },
    {
      "cell_type": "code",
      "metadata": {
        "id": "fbm35TFLrzMn",
        "colab_type": "code",
        "colab": {}
      },
      "source": [
        ""
      ],
      "execution_count": 0,
      "outputs": []
    }
  ]
}