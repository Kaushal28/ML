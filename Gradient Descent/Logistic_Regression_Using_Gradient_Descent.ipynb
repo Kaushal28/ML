{
  "nbformat": 4,
  "nbformat_minor": 0,
  "metadata": {
    "colab": {
      "name": "Logistic Regression Using Gradient Descent.ipynb",
      "version": "0.3.2",
      "provenance": [],
      "include_colab_link": true
    },
    "kernelspec": {
      "name": "python3",
      "display_name": "Python 3"
    }
  },
  "cells": [
    {
      "cell_type": "markdown",
      "metadata": {
        "id": "view-in-github",
        "colab_type": "text"
      },
      "source": [
        "<a href=\"https://colab.research.google.com/github/Kaushal28/ML/blob/develop/Logistic_Regression_Using_Gradient_Descent.ipynb\" target=\"_parent\"><img src=\"https://colab.research.google.com/assets/colab-badge.svg\" alt=\"Open In Colab\"/></a>"
      ]
    },
    {
      "cell_type": "code",
      "metadata": {
        "id": "hioPaiLjM-61",
        "colab_type": "code",
        "colab": {}
      },
      "source": [
        "# Logistic regression using batch gradient descent\n",
        "\n",
        "# Imports\n",
        "import numpy as np\n",
        "from sklearn.datasets import make_blobs\n",
        "from matplotlib import pyplot as plt"
      ],
      "execution_count": 0,
      "outputs": []
    },
    {
      "cell_type": "code",
      "metadata": {
        "id": "Q41kfrLkNjNR",
        "colab_type": "code",
        "outputId": "e5bc7544-add6-4013-9ab3-dae007b4544e",
        "colab": {
          "base_uri": "https://localhost:8080/",
          "height": 269
        }
      },
      "source": [
        "# generate linearly separable data\n",
        "X, y = make_blobs(n_samples = 100, centers = 2, cluster_std=1.0, n_features = 1, random_state = 1)\n",
        "\n",
        "# randomize the value of y as it's only generating 0 or 1\n",
        "y = y*np.random.rand(100) + np.random.rand(100, )\n",
        "X = X.ravel()\n",
        "plt.scatter(X, y, color = 'red')\n",
        "plt.show()"
      ],
      "execution_count": 0,
      "outputs": [
        {
          "output_type": "display_data",
          "data": {
            "image/png": "[encoded data removed]",
            "text/plain": [
              "<Figure size 432x288 with 1 Axes>"
            ]
          },
          "metadata": {
            "tags": []
          }
        }
      ]
    },
    {
      "cell_type": "code",
      "metadata": {
        "id": "BYjlmqmHYLqh",
        "colab_type": "code",
        "colab": {}
      },
      "source": [
        ""
      ],
      "execution_count": 0,
      "outputs": []
    }
  ]
}