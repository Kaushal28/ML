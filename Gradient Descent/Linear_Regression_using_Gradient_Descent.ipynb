{
  "nbformat": 4,
  "nbformat_minor": 0,
  "metadata": {
    "colab": {
      "name": "Linear Regression using Gradient Descent.ipynb",
      "version": "0.3.2",
      "provenance": [],
      "collapsed_sections": [],
      "include_colab_link": true
    },
    "language_info": {
      "codemirror_mode": {
        "name": "ipython",
        "version": 3
      },
      "file_extension": ".py",
      "mimetype": "text/x-python",
      "name": "python",
      "nbconvert_exporter": "python",
      "pygments_lexer": "ipython3",
      "version": "3.6.5"
    },
    "kernelspec": {
      "display_name": "Python 3",
      "language": "python",
      "name": "python3"
    }
  },
  "cells": [
    {
      "cell_type": "markdown",
      "metadata": {
        "id": "view-in-github",
        "colab_type": "text"
      },
      "source": [
        "<a href=\"https://colab.research.google.com/github/Kaushal28/ML/blob/develop/Linear_Regression_using_Gradient_Descent.ipynb\" target=\"_parent\"><img src=\"https://colab.research.google.com/assets/colab-badge.svg\" alt=\"Open In Colab\"/></a>"
      ]
    },
    {
      "cell_type": "code",
      "metadata": {
        "id": "8_CrZbI-hdWF",
        "colab_type": "code",
        "colab": {}
      },
      "source": [
        "# Linear regression using batch gradient descent\n",
        "\n",
        "#imports\n",
        "import numpy as np\n",
        "import time\n",
        "from sklearn import datasets\n",
        "from matplotlib import pyplot as plt"
      ],
      "execution_count": 0,
      "outputs": []
    },
    {
      "cell_type": "code",
      "metadata": {
        "id": "QYtc6n_FhdWK",
        "colab_type": "code",
        "colab": {}
      },
      "source": [
        "#Generate linear regression data\n",
        "X, y = datasets.make_regression(n_samples = 100, n_features = 1, random_state = 10, noise = 12, bias = 10)"
      ],
      "execution_count": 0,
      "outputs": []
    },
    {
      "cell_type": "code",
      "metadata": {
        "id": "SJfltOahhdWO",
        "colab_type": "code",
        "outputId": "7aae7443-25f6-41e5-f325-57eaa845ef84",
        "colab": {
          "base_uri": "https://localhost:8080/",
          "height": 269
        }
      },
      "source": [
        "#plote the generated data\n",
        "plt.scatter(X, y, color = 'red')\n",
        "plt.show()"
      ],
      "execution_count": 0,
      "outputs": [
        {
          "output_type": "display_data",
          "data": {
            "image/png": "[encoded data removed]",
            "text/plain": [
              "<Figure size 432x288 with 1 Axes>"
            ]
          },
          "metadata": {
            "tags": []
          }
        }
      ]
    },
    {
      "cell_type": "code",
      "metadata": {
        "id": "XG3WhnTNhdWW",
        "colab_type": "code",
        "colab": {}
      },
      "source": [
        "def gradient(ip, actual_op, predicted_op):\n",
        "    return (actual_op - predicted_op) * ip"
      ],
      "execution_count": 0,
      "outputs": []
    },
    {
      "cell_type": "code",
      "metadata": {
        "id": "5DGC8egzhdWZ",
        "colab_type": "code",
        "colab": {}
      },
      "source": [
        "def predict(ip, coef):\n",
        "    return np.dot(np.append(ip, 1), coef)"
      ],
      "execution_count": 0,
      "outputs": []
    },
    {
      "cell_type": "code",
      "metadata": {
        "id": "wC4bjPqrhdWd",
        "colab_type": "code",
        "colab": {}
      },
      "source": [
        "def total_cost(X, y, theta):\n",
        "    total_cost = np.zeros(2)\n",
        "    for each_training_ip, each_training_op in zip(X, y):\n",
        "        total_cost[0] += gradient(each_training_ip, each_training_op, predict(each_training_ip, theta))\n",
        "        total_cost[1] += gradient(1, each_training_op, predict(each_training_ip, theta))\n",
        "    return total_cost"
      ],
      "execution_count": 0,
      "outputs": []
    },
    {
      "cell_type": "code",
      "metadata": {
        "id": "z7cf4YUshdWi",
        "colab_type": "code",
        "colab": {}
      },
      "source": [
        "def tolerance(theta, previous_theta):\n",
        "    return (theta - previous_theta).max()"
      ],
      "execution_count": 0,
      "outputs": []
    },
    {
      "cell_type": "code",
      "metadata": {
        "id": "oeV1qYRQhdWl",
        "colab_type": "code",
        "colab": {}
      },
      "source": [
        "def gradient_descent(X, y, eta, tol):\n",
        "    \n",
        "    #initialize parameters of line\n",
        "    theta = np.zeros(2)\n",
        "    historical_theta = [theta]\n",
        "    \n",
        "    while True:\n",
        "        theta = theta + eta * total_cost(X, y, theta)\n",
        "        historical_theta.append(theta)\n",
        "        if tolerance(theta, historical_theta[len(historical_theta)-2]) <= tol:\n",
        "            return theta, historical_theta"
      ],
      "execution_count": 0,
      "outputs": []
    },
    {
      "cell_type": "code",
      "metadata": {
        "id": "RLcuPvOfhdWq",
        "colab_type": "code",
        "outputId": "653bf9bd-4227-48c8-f4ab-6ea81a973317",
        "colab": {
          "base_uri": "https://localhost:8080/",
          "height": 50
        }
      },
      "source": [
        "start_time = time.time()\n",
        "theta, historical_theta = gradient_descent(X, y, eta = 0.01, tol = 0.0001)\n",
        "end_time = time.time()\n",
        "print ('Completed in {0} iterations in {1} seconds'.format(len(historical_theta)-1, end_time-start_time))\n",
        "print ('Computed coeffients: {}'.format(theta))"
      ],
      "execution_count": 0,
      "outputs": [
        {
          "output_type": "stream",
          "text": [
            "Completed in 7 iterations in 0.028277158737182617 seconds\n",
            "Computed coeffients: [30.79615471 10.63365258]\n"
          ],
          "name": "stdout"
        }
      ]
    },
    {
      "cell_type": "code",
      "metadata": {
        "id": "MY7qkA8HhdWu",
        "colab_type": "code",
        "outputId": "70b6c4c9-e80d-4f66-ebbe-25f3b8b1282a",
        "colab": {
          "base_uri": "https://localhost:8080/",
          "height": 67
        }
      },
      "source": [
        "#Compare with actual output using sklearn\n",
        "from sklearn.linear_model import LinearRegression\n",
        "linear_reg = LinearRegression()\n",
        "start_time = time.time()\n",
        "linear_reg.fit(X, y)\n",
        "end_time = time.time()\n",
        "print ('Completed in {0} seconds'.format(end_time-start_time))\n",
        "print (linear_reg.coef_)\n",
        "print (linear_reg.intercept_)"
      ],
      "execution_count": 0,
      "outputs": [
        {
          "output_type": "stream",
          "text": [
            "Completed in 0.020981550216674805 seconds\n",
            "[30.7961586]\n",
            "10.633649813050983\n"
          ],
          "name": "stdout"
        }
      ]
    },
    {
      "cell_type": "code",
      "metadata": {
        "id": "sjjNtAJXhdWz",
        "colab_type": "code",
        "outputId": "3dc577aa-ce47-458a-a8dc-23062d34586f",
        "colab": {
          "base_uri": "https://localhost:8080/",
          "height": 269
        }
      },
      "source": [
        "# plot the actual best fit line\n",
        "plt.scatter(X, y, color = 'red')\n",
        "plt.plot([min(X), max(X)], [predict([min(X)], theta), predict([max(X)], theta)], color = 'blue')\n",
        "plt.show()"
      ],
      "execution_count": 0,
      "outputs": [
        {
          "output_type": "display_data",
          "data": {
            "image/png": "[encoded data removed]",
            "text/plain": [
              "<Figure size 432x288 with 1 Axes>"
            ]
          },
          "metadata": {
            "tags": []
          }
        }
      ]
    },
    {
      "cell_type": "code",
      "metadata": {
        "id": "iOnls3QshdW3",
        "colab_type": "code",
        "outputId": "374ae503-454d-476d-ae7e-dc25c5a8de8c",
        "colab": {
          "base_uri": "https://localhost:8080/",
          "height": 269
        }
      },
      "source": [
        "# plot the improvements in best fit line\n",
        "plt.scatter(X, y, color = 'red')\n",
        "for theta in historical_theta:\n",
        "    plt.plot([min(X), max(X)], [predict([min(X)], theta), predict([max(X)], theta)], color = 'blue')\n",
        "plt.show()"
      ],
      "execution_count": 0,
      "outputs": [
        {
          "output_type": "display_data",
          "data": {
            "image/png": "[encoded data removed]",
            "text/plain": [
              "<Figure size 432x288 with 1 Axes>"
            ]
          },
          "metadata": {
            "tags": []
          }
        }
      ]
    },
    {
      "cell_type": "code",
      "metadata": {
        "id": "VarsnM4PhdW8",
        "colab_type": "code",
        "outputId": "e9e2afb7-e17d-4167-e5ff-9382aeb84929",
        "colab": {
          "base_uri": "https://localhost:8080/",
          "height": 151
        }
      },
      "source": [
        "# print improvements in theta\n",
        "for theta in historical_theta:\n",
        "    print (theta)"
      ],
      "execution_count": 0,
      "outputs": [
        {
          "output_type": "stream",
          "text": [
            "[0. 0.]\n",
            "[29.838221   13.07937796]\n",
            "[30.5458612  10.70972602]\n",
            "[30.77546756 10.6535276 ]\n",
            "[30.79336898 10.63529303]\n",
            "[30.79586483 10.63387136]\n",
            "[30.79612381 10.63367314]\n",
            "[30.79615471 10.63365258]\n"
          ],
          "name": "stdout"
        }
      ]
    },
    {
      "cell_type": "code",
      "metadata": {
        "id": "d5sXMi7-hdXB",
        "colab_type": "code",
        "colab": {}
      },
      "source": [
        ""
      ],
      "execution_count": 0,
      "outputs": []
    }
  ]
}