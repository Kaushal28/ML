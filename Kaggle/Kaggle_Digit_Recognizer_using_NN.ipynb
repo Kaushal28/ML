{
  "nbformat": 4,
  "nbformat_minor": 0,
  "metadata": {
    "colab": {
      "name": "Kaggle_Digit_Recognizer_using_NN.ipynb",
      "version": "0.3.2",
      "provenance": [],
      "collapsed_sections": []
    },
    "kernelspec": {
      "name": "python3",
      "display_name": "Python 3"
    }
  },
  "cells": [
    {
      "cell_type": "code",
      "metadata": {
        "id": "NxbcQCi95vjA",
        "colab_type": "code",
        "colab": {}
      },
      "source": [
        "# Imports\n",
        "import os\n",
        "import numpy as np\n",
        "import pandas as pd\n",
        "from matplotlib import pyplot as plt\n",
        "from keras.models import Sequential\n",
        "from keras.layers import Dense"
      ],
      "execution_count": 0,
      "outputs": []
    },
    {
      "cell_type": "code",
      "metadata": {
        "id": "erlEiE0R6AO3",
        "colab_type": "code",
        "colab": {}
      },
      "source": [
        "# Download the data\n",
        "if not (os.path.isfile('train.csv') and os.path.isfile('test.csv')):\n",
        "  !gdown https://drive.google.com/uc?id=1j8ZNXVrvi_8a-DHaXwPhOu8Bpfhmg2Vv\n",
        "  # unzip the file\n",
        "  !unzip digit-recognizer.zip\n",
        "  !rm -rf digit-recognizer.zip\n",
        "  !rm -rf sample_submission.csv"
      ],
      "execution_count": 0,
      "outputs": []
    },
    {
      "cell_type": "code",
      "metadata": {
        "id": "5GK0tTqH6i1V",
        "colab_type": "code",
        "colab": {}
      },
      "source": [
        "# Read the dataset\n",
        "train_csv_df = pd.read_csv('train.csv')\n",
        "test_csv_df = pd.read_csv('test.csv')\n",
        "\n",
        "y_train = np.array(train_csv_df['label'])\n",
        "X_train = np.array(train_csv_df.drop('label', 1))\n",
        "\n",
        "X_test = np.array(test_csv_df)\n"
      ],
      "execution_count": 0,
      "outputs": []
    },
    {
      "cell_type": "code",
      "metadata": {
        "id": "jd2HN5mPq5RG",
        "colab_type": "code",
        "colab": {
          "base_uri": "https://localhost:8080/",
          "height": 281
        },
        "outputId": "509c03b0-cb1d-43b6-9189-85ea648b8450"
      },
      "source": [
        "# Plot few image from training dataset\n",
        "count = 0\n",
        "for index in range (0, 6):\n",
        "  plt.subplot(2, 3, count + 1)\n",
        "  plt.title(y_train[index])\n",
        "  plt.imshow(X_train[index].reshape(28, 28), cmap=\"gray\")\n",
        "  count += 1\n",
        "plt.show()"
      ],
      "execution_count": 138,
      "outputs": [
        {
          "output_type": "display_data",
          "data": {
            "image/png": "[encoded data removed]",
            "text/plain": [
              "<Figure size 432x288 with 6 Axes>"
            ]
          },
          "metadata": {
            "tags": []
          }
        }
      ]
    },
    {
      "cell_type": "code",
      "metadata": {
        "id": "FMfW2B7YsXCq",
        "colab_type": "code",
        "colab": {}
      },
      "source": [
        "# Convert training set output to one hot encoding\n",
        "y_train = np.eye(10)[y_train]\n",
        "\n",
        "# Normalize the data\n",
        "X_test = X_test / 255\n",
        "X_train = X_train / 255"
      ],
      "execution_count": 0,
      "outputs": []
    },
    {
      "cell_type": "code",
      "metadata": {
        "id": "yse9oJABrLfY",
        "colab_type": "code",
        "colab": {
          "base_uri": "https://localhost:8080/",
          "height": 1714
        },
        "outputId": "29205413-22ad-4f05-8c61-5ff7af318823"
      },
      "source": [
        "model = Sequential()\n",
        "model.add(Dense(units = 512, input_dim = 784, activation = 'relu'))\n",
        "model.add(Dense(units = 330, activation = 'relu'))\n",
        "model.add(Dense(units = 212, activation = 'relu'))\n",
        "model.add(Dense(units = 128, activation = 'relu'))\n",
        "model.add(Dense(units = 152, activation = 'relu'))\n",
        "model.add(Dense(units = 152, activation = 'relu'))\n",
        "model.add(Dense(units = 10, activation = 'softmax'))\n",
        "\n",
        "model.compile(loss='categorical_crossentropy',\n",
        "              optimizer='adam',\n",
        "              metrics=['accuracy'])\n",
        "\n",
        "model.fit(X_train, y_train, epochs=50, batch_size=6000)"
      ],
      "execution_count": 140,
      "outputs": [
        {
          "output_type": "stream",
          "text": [
            "Epoch 1/50\n",
            "42000/42000 [==============================] - 6s 134us/step - loss: 2.0043 - acc: 0.4330\n",
            "Epoch 2/50\n",
            "42000/42000 [==============================] - 4s 94us/step - loss: 0.7946 - acc: 0.7645\n",
            "Epoch 3/50\n",
            "42000/42000 [==============================] - 4s 95us/step - loss: 0.4617 - acc: 0.8485\n",
            "Epoch 4/50\n",
            "42000/42000 [==============================] - 4s 94us/step - loss: 0.3292 - acc: 0.9012\n",
            "Epoch 5/50\n",
            "42000/42000 [==============================] - 4s 93us/step - loss: 0.2598 - acc: 0.9230\n",
            "Epoch 6/50\n",
            "42000/42000 [==============================] - 4s 93us/step - loss: 0.2176 - acc: 0.9349\n",
            "Epoch 7/50\n",
            "42000/42000 [==============================] - 4s 94us/step - loss: 0.1833 - acc: 0.9453\n",
            "Epoch 8/50\n",
            "42000/42000 [==============================] - 4s 95us/step - loss: 0.1595 - acc: 0.9524\n",
            "Epoch 9/50\n",
            "42000/42000 [==============================] - 4s 93us/step - loss: 0.1389 - acc: 0.9590\n",
            "Epoch 10/50\n",
            "42000/42000 [==============================] - 4s 94us/step - loss: 0.1236 - acc: 0.9634\n",
            "Epoch 11/50\n",
            "42000/42000 [==============================] - 4s 94us/step - loss: 0.1093 - acc: 0.9676\n",
            "Epoch 12/50\n",
            "42000/42000 [==============================] - 4s 94us/step - loss: 0.0973 - acc: 0.9721\n",
            "Epoch 13/50\n",
            "42000/42000 [==============================] - 4s 94us/step - loss: 0.0879 - acc: 0.9745\n",
            "Epoch 14/50\n",
            "42000/42000 [==============================] - 4s 94us/step - loss: 0.0775 - acc: 0.9773\n",
            "Epoch 15/50\n",
            "42000/42000 [==============================] - 4s 94us/step - loss: 0.0696 - acc: 0.9795\n",
            "Epoch 16/50\n",
            "42000/42000 [==============================] - 4s 94us/step - loss: 0.0622 - acc: 0.9818\n",
            "Epoch 17/50\n",
            "42000/42000 [==============================] - 4s 94us/step - loss: 0.0555 - acc: 0.9840\n",
            "Epoch 18/50\n",
            "42000/42000 [==============================] - 4s 94us/step - loss: 0.0493 - acc: 0.9858\n",
            "Epoch 19/50\n",
            "42000/42000 [==============================] - 4s 94us/step - loss: 0.0429 - acc: 0.9878\n",
            "Epoch 20/50\n",
            "42000/42000 [==============================] - 4s 93us/step - loss: 0.0403 - acc: 0.9891\n",
            "Epoch 21/50\n",
            "42000/42000 [==============================] - 4s 94us/step - loss: 0.0354 - acc: 0.9904\n",
            "Epoch 22/50\n",
            "42000/42000 [==============================] - 4s 94us/step - loss: 0.0331 - acc: 0.9909\n",
            "Epoch 23/50\n",
            "42000/42000 [==============================] - 4s 94us/step - loss: 0.0285 - acc: 0.9925\n",
            "Epoch 24/50\n",
            "42000/42000 [==============================] - 4s 94us/step - loss: 0.0245 - acc: 0.9939\n",
            "Epoch 25/50\n",
            "42000/42000 [==============================] - 4s 95us/step - loss: 0.0216 - acc: 0.9945\n",
            "Epoch 26/50\n",
            "42000/42000 [==============================] - 4s 94us/step - loss: 0.0175 - acc: 0.9961\n",
            "Epoch 27/50\n",
            "42000/42000 [==============================] - 4s 94us/step - loss: 0.0152 - acc: 0.9971\n",
            "Epoch 28/50\n",
            "42000/42000 [==============================] - 4s 94us/step - loss: 0.0131 - acc: 0.9978\n",
            "Epoch 29/50\n",
            "42000/42000 [==============================] - 4s 94us/step - loss: 0.0110 - acc: 0.9982\n",
            "Epoch 30/50\n",
            "42000/42000 [==============================] - 4s 95us/step - loss: 0.0100 - acc: 0.9983\n",
            "Epoch 31/50\n",
            "42000/42000 [==============================] - 4s 94us/step - loss: 0.0088 - acc: 0.9987\n",
            "Epoch 32/50\n",
            "42000/42000 [==============================] - 4s 95us/step - loss: 0.0076 - acc: 0.9989\n",
            "Epoch 33/50\n",
            "42000/42000 [==============================] - 4s 94us/step - loss: 0.0066 - acc: 0.9991\n",
            "Epoch 34/50\n",
            "42000/42000 [==============================] - 4s 94us/step - loss: 0.0058 - acc: 0.9991\n",
            "Epoch 35/50\n",
            "42000/42000 [==============================] - 4s 93us/step - loss: 0.0046 - acc: 0.9995\n",
            "Epoch 36/50\n",
            "42000/42000 [==============================] - 4s 94us/step - loss: 0.0041 - acc: 0.9995\n",
            "Epoch 37/50\n",
            "42000/42000 [==============================] - 4s 94us/step - loss: 0.0035 - acc: 0.9997\n",
            "Epoch 38/50\n",
            "42000/42000 [==============================] - 4s 94us/step - loss: 0.0029 - acc: 0.9998\n",
            "Epoch 39/50\n",
            "42000/42000 [==============================] - 4s 94us/step - loss: 0.0026 - acc: 0.9999\n",
            "Epoch 40/50\n",
            "42000/42000 [==============================] - 4s 94us/step - loss: 0.0025 - acc: 0.9999\n",
            "Epoch 41/50\n",
            "42000/42000 [==============================] - 4s 95us/step - loss: 0.0022 - acc: 0.9999\n",
            "Epoch 42/50\n",
            "42000/42000 [==============================] - 4s 93us/step - loss: 0.0019 - acc: 1.0000\n",
            "Epoch 43/50\n",
            "42000/42000 [==============================] - 4s 93us/step - loss: 0.0017 - acc: 1.0000\n",
            "Epoch 44/50\n",
            "42000/42000 [==============================] - 4s 94us/step - loss: 0.0015 - acc: 1.0000\n",
            "Epoch 45/50\n",
            "42000/42000 [==============================] - 4s 94us/step - loss: 0.0014 - acc: 1.0000\n",
            "Epoch 46/50\n",
            "42000/42000 [==============================] - 4s 95us/step - loss: 0.0014 - acc: 1.0000\n",
            "Epoch 47/50\n",
            "42000/42000 [==============================] - 4s 94us/step - loss: 0.0014 - acc: 1.0000\n",
            "Epoch 48/50\n",
            "42000/42000 [==============================] - 4s 94us/step - loss: 0.0012 - acc: 1.0000\n",
            "Epoch 49/50\n",
            "42000/42000 [==============================] - 4s 94us/step - loss: 0.0011 - acc: 1.0000\n",
            "Epoch 50/50\n",
            "42000/42000 [==============================] - 4s 93us/step - loss: 0.0010 - acc: 1.0000\n"
          ],
          "name": "stdout"
        },
        {
          "output_type": "execute_result",
          "data": {
            "text/plain": [
              "<keras.callbacks.History at 0x7f41a7007ef0>"
            ]
          },
          "metadata": {
            "tags": []
          },
          "execution_count": 140
        }
      ]
    },
    {
      "cell_type": "code",
      "metadata": {
        "id": "sF5BuwMVwEMS",
        "colab_type": "code",
        "colab": {
          "base_uri": "https://localhost:8080/",
          "height": 281
        },
        "outputId": "cfe120cb-0542-4f62-eb26-fab6525688e5"
      },
      "source": [
        "predictions = model.predict(X_test)\n",
        "\n",
        "# Plot few image from training dataset\n",
        "count = 0\n",
        "for index in range (0, 6):\n",
        "  plt.subplot(2, 3, count + 1)\n",
        "  plt.title(np.argmax(predictions[index]))\n",
        "  plt.imshow(X_test[index].reshape(28, 28), cmap=\"gray\")\n",
        "  count += 1\n",
        "plt.show()"
      ],
      "execution_count": 143,
      "outputs": [
        {
          "output_type": "display_data",
          "data": {
            "image/png": "[encoded data removed]",
            "text/plain": [
              "<Figure size 432x288 with 6 Axes>"
            ]
          },
          "metadata": {
            "tags": []
          }
        }
      ]
    },
    {
      "cell_type": "code",
      "metadata": {
        "id": "7cgIm5A2wFh2",
        "colab_type": "code",
        "colab": {}
      },
      "source": [
        "with open ('output.csv', 'w+') as file:\n",
        "  file.write('ImageId,Label\\n')\n",
        "  for index in range(X_test.shape[0]):\n",
        "    file.write('{0},{1}\\n'.format(index+1, np.argmax(predictions[index])))"
      ],
      "execution_count": 0,
      "outputs": []
    },
    {
      "cell_type": "code",
      "metadata": {
        "id": "tjwzQiuXFcmU",
        "colab_type": "code",
        "colab": {}
      },
      "source": [
        "# Got 0.97228 on kaggle"
      ],
      "execution_count": 0,
      "outputs": []
    }
  ]
}