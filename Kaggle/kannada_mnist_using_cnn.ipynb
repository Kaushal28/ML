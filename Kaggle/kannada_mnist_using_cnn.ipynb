{
  "nbformat": 4,
  "nbformat_minor": 0,
  "metadata": {
    "kernelspec": {
      "display_name": "Python 3",
      "language": "python",
      "name": "python3"
    },
    "language_info": {
      "codemirror_mode": {
        "name": "ipython",
        "version": 3
      },
      "file_extension": ".py",
      "mimetype": "text/x-python",
      "name": "python",
      "nbconvert_exporter": "python",
      "pygments_lexer": "ipython3",
      "version": "3.6.6"
    },
    "colab": {
      "name": "kannada-mnist-using-cnn.ipynb",
      "provenance": [],
      "collapsed_sections": []
    }
  },
  "cells": [
    {
      "cell_type": "markdown",
      "metadata": {
        "id": "Ks1g6FFSU5Op",
        "colab_type": "text"
      },
      "source": [
        "### This notebook is for this Kaggle Challenge: https://www.kaggle.com/c/Kannada-MNIST\n",
        "### Here is my Kaggle Karnel for the same: https://www.kaggle.com/kaushal2896/kannada-mnist-using-cnn\n",
        "### Got `0.98680` accuracy using CNN\n",
        "![alt text](https://i.ibb.co/M8LVxrv/Screenshot-2019-09-29-at-2-37-08-PM.png)\n"
      ]
    },
    {
      "cell_type": "code",
      "metadata": {
        "_cell_guid": "79c7e3d0-c299-4dcb-8224-4455121ee9b0",
        "_uuid": "d629ff2d2480ee46fbb7e2d37f6b5fab8052498a",
        "id": "AQp-RwMKUBoR",
        "colab_type": "code",
        "colab": {},
        "outputId": "fbd5979c-f47b-4bf8-d197-27612f1b6c23"
      },
      "source": [
        "import pandas as pd\n",
        "import numpy as np\n",
        "import seaborn as sns\n",
        "from matplotlib import pyplot as plt\n",
        "import matplotlib.image as mpimg\n",
        "\n",
        "from keras.preprocessing.image import ImageDataGenerator\n",
        "from keras.models import Sequential\n",
        "from keras.layers import Dense,Conv2D,Flatten,MaxPool2D,Dropout,BatchNormalization\n",
        "from keras.optimizers import Adam\n",
        "from keras.callbacks import ReduceLROnPlateau\n",
        "\n",
        "from sklearn.model_selection import train_test_split\n",
        "from sklearn.metrics import confusion_matrix"
      ],
      "execution_count": 0,
      "outputs": [
        {
          "output_type": "stream",
          "text": [
            "Using TensorFlow backend.\n"
          ],
          "name": "stderr"
        }
      ]
    },
    {
      "cell_type": "markdown",
      "metadata": {
        "id": "3pk7e7WyUBoW",
        "colab_type": "text"
      },
      "source": [
        "### Define required constants\n",
        "Image size is `28*28` as per the MNIST standards and images are grayscale, so number of channels is `1`."
      ]
    },
    {
      "cell_type": "code",
      "metadata": {
        "id": "VpVzZTNAUBoX",
        "colab_type": "code",
        "colab": {}
      },
      "source": [
        "# constants\n",
        "IMG_SIZE = 28\n",
        "N_CHANNELS = 1 # because gray scale images"
      ],
      "execution_count": 0,
      "outputs": []
    },
    {
      "cell_type": "code",
      "metadata": {
        "id": "W7BCSHVpUBoa",
        "colab_type": "code",
        "colab": {}
      },
      "source": [
        "train_df = pd.read_csv('/kaggle/input/Kannada-MNIST/train.csv')\n",
        "test_df = pd.read_csv('/kaggle/input/Kannada-MNIST/Dig-MNIST.csv')\n",
        "pred_df = pd.read_csv('/kaggle/input/Kannada-MNIST/test.csv')"
      ],
      "execution_count": 0,
      "outputs": []
    },
    {
      "cell_type": "code",
      "metadata": {
        "id": "24rx8vsQUBoc",
        "colab_type": "code",
        "colab": {}
      },
      "source": [
        "train_df = train_df.append(test_df)"
      ],
      "execution_count": 0,
      "outputs": []
    },
    {
      "cell_type": "code",
      "metadata": {
        "id": "FdwsNb7vUBod",
        "colab_type": "code",
        "colab": {},
        "outputId": "12e28d1c-a6ed-4f96-888f-ad6140d4fa41"
      },
      "source": [
        "train_df.head()"
      ],
      "execution_count": 0,
      "outputs": [
        {
          "output_type": "execute_result",
          "data": {
            "text/html": [
              "<div>\n",
              "<style scoped>\n",
              "    .dataframe tbody tr th:only-of-type {\n",
              "        vertical-align: middle;\n",
              "    }\n",
              "\n",
              "    .dataframe tbody tr th {\n",
              "        vertical-align: top;\n",
              "    }\n",
              "\n",
              "    .dataframe thead th {\n",
              "        text-align: right;\n",
              "    }\n",
              "</style>\n",
              "<table border=\"1\" class=\"dataframe\">\n",
              "  <thead>\n",
              "    <tr style=\"text-align: right;\">\n",
              "      <th></th>\n",
              "      <th>label</th>\n",
              "      <th>pixel0</th>\n",
              "      <th>pixel1</th>\n",
              "      <th>pixel2</th>\n",
              "      <th>pixel3</th>\n",
              "      <th>pixel4</th>\n",
              "      <th>pixel5</th>\n",
              "      <th>pixel6</th>\n",
              "      <th>pixel7</th>\n",
              "      <th>pixel8</th>\n",
              "      <th>...</th>\n",
              "      <th>pixel774</th>\n",
              "      <th>pixel775</th>\n",
              "      <th>pixel776</th>\n",
              "      <th>pixel777</th>\n",
              "      <th>pixel778</th>\n",
              "      <th>pixel779</th>\n",
              "      <th>pixel780</th>\n",
              "      <th>pixel781</th>\n",
              "      <th>pixel782</th>\n",
              "      <th>pixel783</th>\n",
              "    </tr>\n",
              "  </thead>\n",
              "  <tbody>\n",
              "    <tr>\n",
              "      <td>0</td>\n",
              "      <td>0</td>\n",
              "      <td>0</td>\n",
              "      <td>0</td>\n",
              "      <td>0</td>\n",
              "      <td>0</td>\n",
              "      <td>0</td>\n",
              "      <td>0</td>\n",
              "      <td>0</td>\n",
              "      <td>0</td>\n",
              "      <td>0</td>\n",
              "      <td>...</td>\n",
              "      <td>0</td>\n",
              "      <td>0</td>\n",
              "      <td>0</td>\n",
              "      <td>0</td>\n",
              "      <td>0</td>\n",
              "      <td>0</td>\n",
              "      <td>0</td>\n",
              "      <td>0</td>\n",
              "      <td>0</td>\n",
              "      <td>0</td>\n",
              "    </tr>\n",
              "    <tr>\n",
              "      <td>1</td>\n",
              "      <td>1</td>\n",
              "      <td>0</td>\n",
              "      <td>0</td>\n",
              "      <td>0</td>\n",
              "      <td>0</td>\n",
              "      <td>0</td>\n",
              "      <td>0</td>\n",
              "      <td>0</td>\n",
              "      <td>0</td>\n",
              "      <td>0</td>\n",
              "      <td>...</td>\n",
              "      <td>0</td>\n",
              "      <td>0</td>\n",
              "      <td>0</td>\n",
              "      <td>0</td>\n",
              "      <td>0</td>\n",
              "      <td>0</td>\n",
              "      <td>0</td>\n",
              "      <td>0</td>\n",
              "      <td>0</td>\n",
              "      <td>0</td>\n",
              "    </tr>\n",
              "    <tr>\n",
              "      <td>2</td>\n",
              "      <td>2</td>\n",
              "      <td>0</td>\n",
              "      <td>0</td>\n",
              "      <td>0</td>\n",
              "      <td>0</td>\n",
              "      <td>0</td>\n",
              "      <td>0</td>\n",
              "      <td>0</td>\n",
              "      <td>0</td>\n",
              "      <td>0</td>\n",
              "      <td>...</td>\n",
              "      <td>0</td>\n",
              "      <td>0</td>\n",
              "      <td>0</td>\n",
              "      <td>0</td>\n",
              "      <td>0</td>\n",
              "      <td>0</td>\n",
              "      <td>0</td>\n",
              "      <td>0</td>\n",
              "      <td>0</td>\n",
              "      <td>0</td>\n",
              "    </tr>\n",
              "    <tr>\n",
              "      <td>3</td>\n",
              "      <td>3</td>\n",
              "      <td>0</td>\n",
              "      <td>0</td>\n",
              "      <td>0</td>\n",
              "      <td>0</td>\n",
              "      <td>0</td>\n",
              "      <td>0</td>\n",
              "      <td>0</td>\n",
              "      <td>0</td>\n",
              "      <td>0</td>\n",
              "      <td>...</td>\n",
              "      <td>0</td>\n",
              "      <td>0</td>\n",
              "      <td>0</td>\n",
              "      <td>0</td>\n",
              "      <td>0</td>\n",
              "      <td>0</td>\n",
              "      <td>0</td>\n",
              "      <td>0</td>\n",
              "      <td>0</td>\n",
              "      <td>0</td>\n",
              "    </tr>\n",
              "    <tr>\n",
              "      <td>4</td>\n",
              "      <td>4</td>\n",
              "      <td>0</td>\n",
              "      <td>0</td>\n",
              "      <td>0</td>\n",
              "      <td>0</td>\n",
              "      <td>0</td>\n",
              "      <td>0</td>\n",
              "      <td>0</td>\n",
              "      <td>0</td>\n",
              "      <td>0</td>\n",
              "      <td>...</td>\n",
              "      <td>0</td>\n",
              "      <td>0</td>\n",
              "      <td>0</td>\n",
              "      <td>0</td>\n",
              "      <td>0</td>\n",
              "      <td>0</td>\n",
              "      <td>0</td>\n",
              "      <td>0</td>\n",
              "      <td>0</td>\n",
              "      <td>0</td>\n",
              "    </tr>\n",
              "  </tbody>\n",
              "</table>\n",
              "<p>5 rows × 785 columns</p>\n",
              "</div>"
            ],
            "text/plain": [
              "   label  pixel0  pixel1  pixel2  pixel3  pixel4  pixel5  pixel6  pixel7  \\\n",
              "0      0       0       0       0       0       0       0       0       0   \n",
              "1      1       0       0       0       0       0       0       0       0   \n",
              "2      2       0       0       0       0       0       0       0       0   \n",
              "3      3       0       0       0       0       0       0       0       0   \n",
              "4      4       0       0       0       0       0       0       0       0   \n",
              "\n",
              "   pixel8  ...  pixel774  pixel775  pixel776  pixel777  pixel778  pixel779  \\\n",
              "0       0  ...         0         0         0         0         0         0   \n",
              "1       0  ...         0         0         0         0         0         0   \n",
              "2       0  ...         0         0         0         0         0         0   \n",
              "3       0  ...         0         0         0         0         0         0   \n",
              "4       0  ...         0         0         0         0         0         0   \n",
              "\n",
              "   pixel780  pixel781  pixel782  pixel783  \n",
              "0         0         0         0         0  \n",
              "1         0         0         0         0  \n",
              "2         0         0         0         0  \n",
              "3         0         0         0         0  \n",
              "4         0         0         0         0  \n",
              "\n",
              "[5 rows x 785 columns]"
            ]
          },
          "metadata": {
            "tags": []
          },
          "execution_count": 5
        }
      ]
    },
    {
      "cell_type": "code",
      "metadata": {
        "id": "PkRPiYHYUBog",
        "colab_type": "code",
        "colab": {},
        "outputId": "5e990364-d402-48f4-bae3-5fc381355891"
      },
      "source": [
        "print (f'Training set: {train_df.shape}')\n",
        "print (f'To be Predicted: {pred_df.shape}')"
      ],
      "execution_count": 0,
      "outputs": [
        {
          "output_type": "stream",
          "text": [
            "Training set: (70240, 785)\n",
            "To be Predicted: (5000, 785)\n"
          ],
          "name": "stdout"
        }
      ]
    },
    {
      "cell_type": "code",
      "metadata": {
        "id": "zUiPI2WjUBoj",
        "colab_type": "code",
        "colab": {}
      },
      "source": [
        "X_train = train_df.drop(['label'], axis = 1)\n",
        "Y_train = train_df['label']\n",
        "X_pred = pred_df.drop(['id'], axis = 1)"
      ],
      "execution_count": 0,
      "outputs": []
    },
    {
      "cell_type": "markdown",
      "metadata": {
        "id": "vPle5akDUBol",
        "colab_type": "text"
      },
      "source": [
        "### Split the given dataset into training and testing dataset"
      ]
    },
    {
      "cell_type": "code",
      "metadata": {
        "id": "Q62bA5iXUBom",
        "colab_type": "code",
        "colab": {}
      },
      "source": [
        "X_train, X_test, Y_train, Y_test = train_test_split(X_train, Y_train, test_size=0.05)"
      ],
      "execution_count": 0,
      "outputs": []
    },
    {
      "cell_type": "markdown",
      "metadata": {
        "id": "ar_gciJNUBon",
        "colab_type": "text"
      },
      "source": [
        "### Normalize the images "
      ]
    },
    {
      "cell_type": "code",
      "metadata": {
        "id": "c4AxPdc4UBoo",
        "colab_type": "code",
        "colab": {}
      },
      "source": [
        "X_train, X_test, X_pred = X_train.apply(lambda x: x/255), X_test.apply(lambda x: x/255), X_pred.apply(lambda x: x/255)"
      ],
      "execution_count": 0,
      "outputs": []
    },
    {
      "cell_type": "markdown",
      "metadata": {
        "id": "TZq7hXw7UBop",
        "colab_type": "text"
      },
      "source": [
        "### Convert training and testing labels (Ys) to one hot encoding"
      ]
    },
    {
      "cell_type": "code",
      "metadata": {
        "id": "UTmCQa9BUBoq",
        "colab_type": "code",
        "colab": {}
      },
      "source": [
        "Y_train, Y_test = pd.get_dummies(Y_train), pd.get_dummies(Y_test)"
      ],
      "execution_count": 0,
      "outputs": []
    },
    {
      "cell_type": "markdown",
      "metadata": {
        "id": "Cmcv_GrqUBos",
        "colab_type": "text"
      },
      "source": [
        "### CNN takes images in shape `(batch_size, h, w, channels)`, so reshape the images"
      ]
    },
    {
      "cell_type": "code",
      "metadata": {
        "id": "a0W_7pZ0UBos",
        "colab_type": "code",
        "colab": {}
      },
      "source": [
        "X_train = X_train.values.reshape(-1, IMG_SIZE, IMG_SIZE, N_CHANNELS)\n",
        "X_test = X_test.values.reshape(-1, IMG_SIZE, IMG_SIZE, N_CHANNELS)"
      ],
      "execution_count": 0,
      "outputs": []
    },
    {
      "cell_type": "code",
      "metadata": {
        "id": "WbhNV_X9UBot",
        "colab_type": "code",
        "colab": {},
        "outputId": "1db49dc2-e8af-4e3f-db00-88623bce2c6e"
      },
      "source": [
        "print (f'Training images: {X_train.shape}')\n",
        "print (f'Testing images: {X_test.shape}')"
      ],
      "execution_count": 0,
      "outputs": [
        {
          "output_type": "stream",
          "text": [
            "Training images: (66728, 28, 28, 1)\n",
            "Testing images: (3512, 28, 28, 1)\n"
          ],
          "name": "stdout"
        }
      ]
    },
    {
      "cell_type": "code",
      "metadata": {
        "id": "fseMrmTIUBov",
        "colab_type": "code",
        "colab": {}
      },
      "source": [
        "Y_train = Y_train.to_numpy()"
      ],
      "execution_count": 0,
      "outputs": []
    },
    {
      "cell_type": "code",
      "metadata": {
        "id": "UrZt9C1tUBov",
        "colab_type": "code",
        "colab": {},
        "outputId": "d21f35d3-bb5f-4784-97c7-2e4186bdf0ee"
      },
      "source": [
        "fig, ax = plt.subplots(nrows=3, ncols=4)\n",
        "count=0\n",
        "for row in ax:\n",
        "    for col in row:\n",
        "        col.set_title(np.argmax(Y_train[count, :]))\n",
        "        col.imshow(X_train[count, :, :, 0])\n",
        "        count += 1\n",
        "plt.show()"
      ],
      "execution_count": 0,
      "outputs": [
        {
          "output_type": "display_data",
          "data": {
            "image/png": "[encoded data removed]",
            "text/plain": [
              "<Figure size 432x288 with 12 Axes>"
            ]
          },
          "metadata": {
            "tags": [],
            "needs_background": "light"
          }
        }
      ]
    },
    {
      "cell_type": "markdown",
      "metadata": {
        "id": "DiwfqXqgUBow",
        "colab_type": "text"
      },
      "source": [
        "### Apply data augmentation:\n",
        "To get more training data, to avoid overfitting, data augmentation is used. Data augmentation is the creation of altered copies of each training instance (image) within a training dataset. \n",
        "I've used following data augmentation for this problem:\n",
        "* Ramdomly rotate the images by 8 degrees\n",
        "* Randomly zoom the images by 15%\n",
        "* Randomly shift its height and width by 15%"
      ]
    },
    {
      "cell_type": "code",
      "metadata": {
        "id": "6TE-qhB2UBox",
        "colab_type": "code",
        "colab": {}
      },
      "source": [
        "datagen = ImageDataGenerator(\n",
        "        featurewise_center=False,  # set input mean to 0 over the dataset\n",
        "        samplewise_center=False,  # set each sample mean to 0\n",
        "        featurewise_std_normalization=False,  # divide inputs by std of the dataset\n",
        "        samplewise_std_normalization=False,  # divide each input by its std\n",
        "        zca_whitening=False,  # apply ZCA whitening\n",
        "        rotation_range=8,  # randomly rotate images in the range (degrees, 0 to 180)\n",
        "        zoom_range = 0.15, # Randomly zoom image \n",
        "        width_shift_range=0.15,  # randomly shift images horizontally (fraction of total width)\n",
        "        height_shift_range=0.15,  # randomly shift images vertically (fraction of total height)\n",
        "        horizontal_flip=False,  # randomly flip images\n",
        "        vertical_flip=False)  # randomly flip images\n",
        "\n",
        "\n",
        "# This will just calculate parameters required to augment the given data. This won't perform any augmentations\n",
        "datagen.fit(X_train)"
      ],
      "execution_count": 0,
      "outputs": []
    },
    {
      "cell_type": "markdown",
      "metadata": {
        "id": "jqZeV_Y_UBoy",
        "colab_type": "text"
      },
      "source": [
        "### Create CNN model using Keras"
      ]
    },
    {
      "cell_type": "code",
      "metadata": {
        "id": "574Lo1dCUBoz",
        "colab_type": "code",
        "colab": {}
      },
      "source": [
        "model = Sequential()\n",
        "\n",
        "model.add(Conv2D(filters=32, kernel_size=(3, 3), padding='SAME', activation='relu', input_shape=(28, 28, 1)))\n",
        "model.add(Conv2D(filters=32, kernel_size=(3, 3), padding='SAME', activation='relu'))\n",
        "model.add(BatchNormalization(momentum=0.15))\n",
        "model.add(MaxPool2D(pool_size=(2, 2)))\n",
        "model.add(Conv2D(filters=32, kernel_size=(5, 5), padding='SAME', activation='relu'))\n",
        "model.add(Dropout(rate=0.3))\n",
        "\n",
        "model.add(Conv2D(filters=64, kernel_size=(3, 3), padding='SAME', activation='relu'))\n",
        "model.add(Conv2D(filters=64, kernel_size=(3, 3), padding='SAME', activation='relu'))\n",
        "model.add(BatchNormalization(momentum=0.15))\n",
        "model.add(MaxPool2D(pool_size=(2, 2)))\n",
        "model.add(Conv2D(filters=64, kernel_size=(5, 5), padding='SAME', activation='relu'))\n",
        "model.add(Dropout(rate=0.3))\n",
        "\n",
        "model.add(Flatten())\n",
        "model.add(Dense(128, activation = \"relu\"))\n",
        "model.add(Dropout(0.40))\n",
        "model.add(Dense(64, activation = \"relu\"))\n",
        "model.add(Dropout(0.40))\n",
        "model.add(Dense(10, activation = \"softmax\"))"
      ],
      "execution_count": 0,
      "outputs": []
    },
    {
      "cell_type": "code",
      "metadata": {
        "id": "hBiNa5o-UBo0",
        "colab_type": "code",
        "colab": {},
        "outputId": "3457cd36-704b-4433-98a7-0fca287026cf"
      },
      "source": [
        "model.summary()"
      ],
      "execution_count": 0,
      "outputs": [
        {
          "output_type": "stream",
          "text": [
            "Model: \"sequential_1\"\n",
            "_________________________________________________________________\n",
            "Layer (type)                 Output Shape              Param #   \n",
            "=================================================================\n",
            "conv2d_1 (Conv2D)            (None, 28, 28, 32)        320       \n",
            "_________________________________________________________________\n",
            "conv2d_2 (Conv2D)            (None, 28, 28, 32)        9248      \n",
            "_________________________________________________________________\n",
            "batch_normalization_1 (Batch (None, 28, 28, 32)        128       \n",
            "_________________________________________________________________\n",
            "max_pooling2d_1 (MaxPooling2 (None, 14, 14, 32)        0         \n",
            "_________________________________________________________________\n",
            "conv2d_3 (Conv2D)            (None, 14, 14, 32)        25632     \n",
            "_________________________________________________________________\n",
            "dropout_1 (Dropout)          (None, 14, 14, 32)        0         \n",
            "_________________________________________________________________\n",
            "conv2d_4 (Conv2D)            (None, 14, 14, 64)        18496     \n",
            "_________________________________________________________________\n",
            "conv2d_5 (Conv2D)            (None, 14, 14, 64)        36928     \n",
            "_________________________________________________________________\n",
            "batch_normalization_2 (Batch (None, 14, 14, 64)        256       \n",
            "_________________________________________________________________\n",
            "max_pooling2d_2 (MaxPooling2 (None, 7, 7, 64)          0         \n",
            "_________________________________________________________________\n",
            "conv2d_6 (Conv2D)            (None, 7, 7, 64)          102464    \n",
            "_________________________________________________________________\n",
            "dropout_2 (Dropout)          (None, 7, 7, 64)          0         \n",
            "_________________________________________________________________\n",
            "flatten_1 (Flatten)          (None, 3136)              0         \n",
            "_________________________________________________________________\n",
            "dense_1 (Dense)              (None, 128)               401536    \n",
            "_________________________________________________________________\n",
            "dropout_3 (Dropout)          (None, 128)               0         \n",
            "_________________________________________________________________\n",
            "dense_2 (Dense)              (None, 64)                8256      \n",
            "_________________________________________________________________\n",
            "dropout_4 (Dropout)          (None, 64)                0         \n",
            "_________________________________________________________________\n",
            "dense_3 (Dense)              (None, 10)                650       \n",
            "=================================================================\n",
            "Total params: 603,914\n",
            "Trainable params: 603,722\n",
            "Non-trainable params: 192\n",
            "_________________________________________________________________\n"
          ],
          "name": "stdout"
        }
      ]
    },
    {
      "cell_type": "code",
      "metadata": {
        "id": "njFGgNDpUBo1",
        "colab_type": "code",
        "colab": {}
      },
      "source": [
        "model.compile(optimizer=\"adam\", loss=['categorical_crossentropy'], metrics=['accuracy'])"
      ],
      "execution_count": 0,
      "outputs": []
    },
    {
      "cell_type": "code",
      "metadata": {
        "id": "feavtSN4UBo2",
        "colab_type": "code",
        "colab": {}
      },
      "source": [
        "# Set a learning rate annealer. Learning rate will be half after 3 epochs if accuracy is not increased\n",
        "learning_rate_reduction = ReduceLROnPlateau(monitor='val_accuracy', \n",
        "                                            patience=3, \n",
        "                                            verbose=1,\n",
        "                                            factor=0.5, \n",
        "                                            min_lr=0.00001)"
      ],
      "execution_count": 0,
      "outputs": []
    },
    {
      "cell_type": "code",
      "metadata": {
        "id": "4Sz9jbOFUBo5",
        "colab_type": "code",
        "colab": {}
      },
      "source": [
        "batch_size=32\n",
        "epochs = 25"
      ],
      "execution_count": 0,
      "outputs": []
    },
    {
      "cell_type": "code",
      "metadata": {
        "id": "nRQCm51nUBo6",
        "colab_type": "code",
        "colab": {},
        "outputId": "3ee9ec93-b2d4-411f-a085-53c384ab7eef"
      },
      "source": [
        "# Fit the model\n",
        "history = model.fit_generator(datagen.flow(X_train, Y_train, batch_size=batch_size),\n",
        "                              epochs = epochs, validation_data = (X_test,Y_test),\n",
        "                              steps_per_epoch=X_train.shape[0] // batch_size, \n",
        "                              callbacks=[learning_rate_reduction])\n"
      ],
      "execution_count": 0,
      "outputs": [
        {
          "output_type": "stream",
          "text": [
            "Epoch 1/25\n",
            "2085/2085 [==============================] - 43s 21ms/step - loss: 0.4498 - accuracy: 0.8596 - val_loss: 0.0996 - val_accuracy: 0.9741\n",
            "Epoch 2/25\n",
            "2085/2085 [==============================] - 41s 20ms/step - loss: 0.1502 - accuracy: 0.9626 - val_loss: 0.0634 - val_accuracy: 0.9806\n",
            "Epoch 3/25\n",
            "2085/2085 [==============================] - 42s 20ms/step - loss: 0.1284 - accuracy: 0.9682 - val_loss: 0.0555 - val_accuracy: 0.9841\n",
            "Epoch 4/25\n",
            "2085/2085 [==============================] - 41s 20ms/step - loss: 0.1069 - accuracy: 0.9734 - val_loss: 0.0489 - val_accuracy: 0.9852\n",
            "Epoch 5/25\n",
            "2085/2085 [==============================] - 40s 19ms/step - loss: 0.0995 - accuracy: 0.9764 - val_loss: 0.0457 - val_accuracy: 0.9886\n",
            "Epoch 6/25\n",
            "2085/2085 [==============================] - 41s 19ms/step - loss: 0.0950 - accuracy: 0.9772 - val_loss: 0.0395 - val_accuracy: 0.9880\n",
            "Epoch 7/25\n",
            "2085/2085 [==============================] - 41s 19ms/step - loss: 0.0838 - accuracy: 0.9797 - val_loss: 0.0309 - val_accuracy: 0.9900\n",
            "Epoch 8/25\n",
            "2085/2085 [==============================] - 41s 19ms/step - loss: 0.0785 - accuracy: 0.9810 - val_loss: 0.0289 - val_accuracy: 0.9926\n",
            "Epoch 9/25\n",
            "2085/2085 [==============================] - 40s 19ms/step - loss: 0.0268 - accuracy: 0.9930 - val_loss: 0.0197 - val_accuracy: 0.9937\n",
            "Epoch 25/25\n",
            "2085/2085 [==============================] - 39s 19ms/step - loss: 0.0278 - accuracy: 0.9932 - val_loss: 0.0223 - val_accuracy: 0.9940\n"
          ],
          "name": "stdout"
        }
      ]
    },
    {
      "cell_type": "markdown",
      "metadata": {
        "id": "S0PtqLeFUBo8",
        "colab_type": "text"
      },
      "source": [
        "### Ploting loss and accuracy"
      ]
    },
    {
      "cell_type": "code",
      "metadata": {
        "id": "R7WoFt6yUBpJ",
        "colab_type": "code",
        "colab": {}
      },
      "source": [
        "%matplotlib inline\n",
        "def PlotLoss(his, epoch):\n",
        "    plt.style.use(\"ggplot\")\n",
        "    plt.figure()\n",
        "    plt.plot(np.arange(0, epoch), his.history[\"loss\"], label=\"train_loss\")\n",
        "    plt.plot(np.arange(0, epoch), his.history[\"val_loss\"], label=\"val_loss\")\n",
        "    plt.title(\"Training Loss\")\n",
        "    plt.xlabel(\"Epoch #\")\n",
        "    plt.ylabel(\"Loss\")\n",
        "    plt.legend(loc=\"upper right\")\n",
        "    plt.show()\n",
        "\n",
        "def PlotAcc(his, epoch):\n",
        "    plt.style.use(\"ggplot\")\n",
        "    plt.figure()\n",
        "    plt.plot(np.arange(0, epoch), his.history[\"accuracy\"], label=\"train_acc\")\n",
        "    plt.plot(np.arange(0, epoch), his.history[\"val_accuracy\"], label=\"val_accuracy\")\n",
        "    plt.title(\"Training Accuracy\")\n",
        "    plt.xlabel(\"Epoch #\")\n",
        "    plt.ylabel(\"Accuracy\")\n",
        "    plt.legend(loc=\"upper right\")\n",
        "    plt.show()"
      ],
      "execution_count": 0,
      "outputs": []
    },
    {
      "cell_type": "code",
      "metadata": {
        "id": "GSEFnJotUBpK",
        "colab_type": "code",
        "colab": {},
        "outputId": "fbbfc479-bd65-4b85-cf2d-acc9982ba79c"
      },
      "source": [
        "PlotLoss(history, epochs)\n",
        "PlotAcc(history, epochs)"
      ],
      "execution_count": 0,
      "outputs": [
        {
          "output_type": "display_data",
          "data": {
            "image/png": "[encoded data removed]",
            "text/plain": [
              "<Figure size 432x288 with 1 Axes>"
            ]
          },
          "metadata": {
            "tags": []
          }
        },
        {
          "output_type": "display_data",
          "data": {
            "image/png": "[encoded data removed]",
            "text/plain": [
              "<Figure size 432x288 with 1 Axes>"
            ]
          },
          "metadata": {
            "tags": []
          }
        }
      ]
    },
    {
      "cell_type": "markdown",
      "metadata": {
        "id": "63JyuvYWUBpL",
        "colab_type": "text"
      },
      "source": [
        "### Confusion matrix "
      ]
    },
    {
      "cell_type": "code",
      "metadata": {
        "id": "BlOJecLsUBpL",
        "colab_type": "code",
        "colab": {},
        "outputId": "c7da2683-ceed-4acd-fdb8-672135807a80"
      },
      "source": [
        "cfm = confusion_matrix(np.argmax(Y_test.to_numpy(), axis=1), np.argmax(model.predict(X_test), axis=1))\n",
        "cfm = pd.DataFrame(cfm,index=range(0,10),columns=range(0,10))\n",
        "cfm"
      ],
      "execution_count": 0,
      "outputs": [
        {
          "output_type": "execute_result",
          "data": {
            "text/html": [
              "<div>\n",
              "<style scoped>\n",
              "    .dataframe tbody tr th:only-of-type {\n",
              "        vertical-align: middle;\n",
              "    }\n",
              "\n",
              "    .dataframe tbody tr th {\n",
              "        vertical-align: top;\n",
              "    }\n",
              "\n",
              "    .dataframe thead th {\n",
              "        text-align: right;\n",
              "    }\n",
              "</style>\n",
              "<table border=\"1\" class=\"dataframe\">\n",
              "  <thead>\n",
              "    <tr style=\"text-align: right;\">\n",
              "      <th></th>\n",
              "      <th>0</th>\n",
              "      <th>1</th>\n",
              "      <th>2</th>\n",
              "      <th>3</th>\n",
              "      <th>4</th>\n",
              "      <th>5</th>\n",
              "      <th>6</th>\n",
              "      <th>7</th>\n",
              "      <th>8</th>\n",
              "      <th>9</th>\n",
              "    </tr>\n",
              "  </thead>\n",
              "  <tbody>\n",
              "    <tr>\n",
              "      <td>0</td>\n",
              "      <td>319</td>\n",
              "      <td>4</td>\n",
              "      <td>0</td>\n",
              "      <td>0</td>\n",
              "      <td>0</td>\n",
              "      <td>0</td>\n",
              "      <td>0</td>\n",
              "      <td>0</td>\n",
              "      <td>0</td>\n",
              "      <td>1</td>\n",
              "    </tr>\n",
              "    <tr>\n",
              "      <td>1</td>\n",
              "      <td>1</td>\n",
              "      <td>370</td>\n",
              "      <td>0</td>\n",
              "      <td>0</td>\n",
              "      <td>0</td>\n",
              "      <td>0</td>\n",
              "      <td>0</td>\n",
              "      <td>1</td>\n",
              "      <td>0</td>\n",
              "      <td>0</td>\n",
              "    </tr>\n",
              "    <tr>\n",
              "      <td>2</td>\n",
              "      <td>0</td>\n",
              "      <td>0</td>\n",
              "      <td>359</td>\n",
              "      <td>0</td>\n",
              "      <td>0</td>\n",
              "      <td>0</td>\n",
              "      <td>0</td>\n",
              "      <td>0</td>\n",
              "      <td>0</td>\n",
              "      <td>0</td>\n",
              "    </tr>\n",
              "    <tr>\n",
              "      <td>3</td>\n",
              "      <td>0</td>\n",
              "      <td>0</td>\n",
              "      <td>1</td>\n",
              "      <td>348</td>\n",
              "      <td>0</td>\n",
              "      <td>0</td>\n",
              "      <td>0</td>\n",
              "      <td>2</td>\n",
              "      <td>0</td>\n",
              "      <td>0</td>\n",
              "    </tr>\n",
              "    <tr>\n",
              "      <td>4</td>\n",
              "      <td>0</td>\n",
              "      <td>0</td>\n",
              "      <td>1</td>\n",
              "      <td>0</td>\n",
              "      <td>338</td>\n",
              "      <td>0</td>\n",
              "      <td>0</td>\n",
              "      <td>0</td>\n",
              "      <td>1</td>\n",
              "      <td>0</td>\n",
              "    </tr>\n",
              "    <tr>\n",
              "      <td>5</td>\n",
              "      <td>0</td>\n",
              "      <td>0</td>\n",
              "      <td>0</td>\n",
              "      <td>1</td>\n",
              "      <td>0</td>\n",
              "      <td>358</td>\n",
              "      <td>0</td>\n",
              "      <td>1</td>\n",
              "      <td>0</td>\n",
              "      <td>0</td>\n",
              "    </tr>\n",
              "    <tr>\n",
              "      <td>6</td>\n",
              "      <td>0</td>\n",
              "      <td>0</td>\n",
              "      <td>0</td>\n",
              "      <td>0</td>\n",
              "      <td>0</td>\n",
              "      <td>0</td>\n",
              "      <td>350</td>\n",
              "      <td>5</td>\n",
              "      <td>0</td>\n",
              "      <td>1</td>\n",
              "    </tr>\n",
              "    <tr>\n",
              "      <td>7</td>\n",
              "      <td>0</td>\n",
              "      <td>0</td>\n",
              "      <td>0</td>\n",
              "      <td>0</td>\n",
              "      <td>0</td>\n",
              "      <td>0</td>\n",
              "      <td>1</td>\n",
              "      <td>354</td>\n",
              "      <td>0</td>\n",
              "      <td>0</td>\n",
              "    </tr>\n",
              "    <tr>\n",
              "      <td>8</td>\n",
              "      <td>0</td>\n",
              "      <td>0</td>\n",
              "      <td>0</td>\n",
              "      <td>0</td>\n",
              "      <td>0</td>\n",
              "      <td>0</td>\n",
              "      <td>0</td>\n",
              "      <td>0</td>\n",
              "      <td>367</td>\n",
              "      <td>0</td>\n",
              "    </tr>\n",
              "    <tr>\n",
              "      <td>9</td>\n",
              "      <td>0</td>\n",
              "      <td>0</td>\n",
              "      <td>0</td>\n",
              "      <td>0</td>\n",
              "      <td>0</td>\n",
              "      <td>0</td>\n",
              "      <td>0</td>\n",
              "      <td>0</td>\n",
              "      <td>0</td>\n",
              "      <td>328</td>\n",
              "    </tr>\n",
              "  </tbody>\n",
              "</table>\n",
              "</div>"
            ],
            "text/plain": [
              "     0    1    2    3    4    5    6    7    8    9\n",
              "0  319    4    0    0    0    0    0    0    0    1\n",
              "1    1  370    0    0    0    0    0    1    0    0\n",
              "2    0    0  359    0    0    0    0    0    0    0\n",
              "3    0    0    1  348    0    0    0    2    0    0\n",
              "4    0    0    1    0  338    0    0    0    1    0\n",
              "5    0    0    0    1    0  358    0    1    0    0\n",
              "6    0    0    0    0    0    0  350    5    0    1\n",
              "7    0    0    0    0    0    0    1  354    0    0\n",
              "8    0    0    0    0    0    0    0    0  367    0\n",
              "9    0    0    0    0    0    0    0    0    0  328"
            ]
          },
          "metadata": {
            "tags": []
          },
          "execution_count": 24
        }
      ]
    },
    {
      "cell_type": "markdown",
      "metadata": {
        "id": "uNiuO3dkUBpM",
        "colab_type": "text"
      },
      "source": [
        "### Make predictions using trained model"
      ]
    },
    {
      "cell_type": "code",
      "metadata": {
        "id": "mMO2M5FIUBpM",
        "colab_type": "code",
        "colab": {}
      },
      "source": [
        "preds = model.predict(X_pred.values.reshape(-1, IMG_SIZE, IMG_SIZE, N_CHANNELS))"
      ],
      "execution_count": 0,
      "outputs": []
    },
    {
      "cell_type": "markdown",
      "metadata": {
        "id": "xJfRMifBUBpN",
        "colab_type": "text"
      },
      "source": [
        "#### Predictions will be in one hot encoding, take `argmax` to make the predictions submission ready"
      ]
    },
    {
      "cell_type": "code",
      "metadata": {
        "id": "1XzNFy3dUBpN",
        "colab_type": "code",
        "colab": {}
      },
      "source": [
        "pred_df['label'] = np.argmax(preds, axis=1)"
      ],
      "execution_count": 0,
      "outputs": []
    },
    {
      "cell_type": "code",
      "metadata": {
        "id": "zZWwY6EEUBpO",
        "colab_type": "code",
        "colab": {}
      },
      "source": [
        "preds = pred_df[['id', 'label']]"
      ],
      "execution_count": 0,
      "outputs": []
    },
    {
      "cell_type": "markdown",
      "metadata": {
        "id": "AaUCCztOUBpO",
        "colab_type": "text"
      },
      "source": [
        "#### Finally create submission file"
      ]
    },
    {
      "cell_type": "code",
      "metadata": {
        "id": "BAQ9UxaXUBpP",
        "colab_type": "code",
        "colab": {}
      },
      "source": [
        "preds.to_csv('sub.csv', index=False)"
      ],
      "execution_count": 0,
      "outputs": []
    }
  ]
}