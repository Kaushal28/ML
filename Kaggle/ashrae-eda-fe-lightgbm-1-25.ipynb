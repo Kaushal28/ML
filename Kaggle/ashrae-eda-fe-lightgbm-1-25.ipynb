{
 "cells": [
  {
   "cell_type": "code",
   "execution_count": 1,
   "metadata": {
    "_cell_guid": "b1076dfc-b9ad-4769-8c92-a6c4dae69d19",
    "_uuid": "8f2839f25d086af736a60e9eeb907d3b93b6e0e5"
   },
   "outputs": [],
   "source": [
    "import numpy as np # linear algebra\n",
    "import pandas as pd # data processing, CSV file I/O (e.g. pd.read_csv)\n",
    "import matplotlib.pyplot as plt\n",
    "import seaborn as sns\n",
    "import gc, math\n",
    "\n",
    "from pandas.tseries.holiday import USFederalHolidayCalendar as calendar\n",
    "from sklearn.metrics import mean_squared_error\n",
    "import lightgbm as lgb\n",
    "from sklearn.model_selection import KFold, StratifiedKFold\n",
    "from tqdm import tqdm\n",
    "from sklearn.preprocessing import LabelEncoder"
   ]
  },
  {
   "cell_type": "markdown",
   "metadata": {},
   "source": [
    "##### Set the size and styles of graphs"
   ]
  },
  {
   "cell_type": "code",
   "execution_count": 2,
   "metadata": {},
   "outputs": [],
   "source": [
    "sns.set(rc={'figure.figsize':(11,8)})\n",
    "sns.set(style=\"whitegrid\")"
   ]
  },
  {
   "cell_type": "markdown",
   "metadata": {},
   "source": [
    "### Read the dataset\n",
    "Data is given in different CSV files which we will need to merge afterwards. \n",
    "\n",
    "`train.csv` only contains the ID of the building and meter related information including our target variable to be predicted (`meter_reading`). This `building_id` is foreign key in `building_metadata.csv`. All the information related to the buildings are given in this file. \n",
    "\n",
    "\n",
    "Same goes for `weather_train.csv` and `building_metadata.csv` files with common column (foreign key) `site_id`. So all three files are related and we will have to join these tables later"
   ]
  },
  {
   "cell_type": "code",
   "execution_count": 3,
   "metadata": {},
   "outputs": [
    {
     "name": "stdout",
     "output_type": "stream",
     "text": [
      "CPU times: user 27.5 s, sys: 10.4 s, total: 37.9 s\n",
      "Wall time: 37.4 s\n"
     ]
    }
   ],
   "source": [
    "%%time\n",
    "metadata_df = pd.read_csv('/kaggle/input/ashrae-energy-prediction/building_metadata.csv')\n",
    "train_df = pd.read_csv('/kaggle/input/ashrae-energy-prediction/train.csv')\n",
    "test_df = pd.read_csv('/kaggle/input/ashrae-energy-prediction/test.csv')\n",
    "weather_train_df = pd.read_csv('/kaggle/input/ashrae-energy-prediction/weather_train.csv')\n",
    "weather_test_df = pd.read_csv('/kaggle/input/ashrae-energy-prediction/weather_test.csv')"
   ]
  },
  {
   "cell_type": "code",
   "execution_count": 4,
   "metadata": {},
   "outputs": [],
   "source": [
    "## Function to reduce the memory usage\n",
    "def reduce_mem_usage(df, verbose=True):\n",
    "    numerics = ['int16', 'int32', 'int64', 'float16', 'float32', 'float64']\n",
    "    start_mem = df.memory_usage().sum() / 1024**2    \n",
    "    for col in df.columns:\n",
    "        col_type = df[col].dtypes\n",
    "        if col_type in numerics:\n",
    "            c_min = df[col].min()\n",
    "            c_max = df[col].max()\n",
    "            if str(col_type)[:3] == 'int':\n",
    "                if c_min > np.iinfo(np.int8).min and c_max < np.iinfo(np.int8).max:\n",
    "                    df[col] = df[col].astype(np.int8)\n",
    "                elif c_min > np.iinfo(np.int16).min and c_max < np.iinfo(np.int16).max:\n",
    "                    df[col] = df[col].astype(np.int16)\n",
    "                elif c_min > np.iinfo(np.int32).min and c_max < np.iinfo(np.int32).max:\n",
    "                    df[col] = df[col].astype(np.int32)\n",
    "                elif c_min > np.iinfo(np.int64).min and c_max < np.iinfo(np.int64).max:\n",
    "                    df[col] = df[col].astype(np.int64)  \n",
    "            else:\n",
    "                if c_min > np.finfo(np.float16).min and c_max < np.finfo(np.float16).max:\n",
    "                    df[col] = df[col].astype(np.float16)\n",
    "                elif c_min > np.finfo(np.float32).min and c_max < np.finfo(np.float32).max:\n",
    "                    df[col] = df[col].astype(np.float32)\n",
    "                else:\n",
    "                    df[col] = df[col].astype(np.float64)    \n",
    "    end_mem = df.memory_usage().sum() / 1024**2\n",
    "    if verbose: print('Mem. usage decreased to {:5.2f} Mb ({:.1f}% reduction)'.format(end_mem, 100 * (start_mem - end_mem) / start_mem))\n",
    "    return df"
   ]
  },
  {
   "cell_type": "code",
   "execution_count": 5,
   "metadata": {},
   "outputs": [
    {
     "name": "stdout",
     "output_type": "stream",
     "text": [
      "Mem. usage decreased to  0.03 Mb (60.3% reduction)\n",
      "Mem. usage decreased to 289.19 Mb (53.1% reduction)\n",
      "Mem. usage decreased to 596.49 Mb (53.1% reduction)\n",
      "Mem. usage decreased to  3.07 Mb (68.1% reduction)\n",
      "Mem. usage decreased to  6.08 Mb (68.1% reduction)\n"
     ]
    }
   ],
   "source": [
    "metadata_df = reduce_mem_usage(metadata_df)\n",
    "train_df = reduce_mem_usage(train_df)\n",
    "test_df = reduce_mem_usage(test_df)\n",
    "weather_train_df = reduce_mem_usage(weather_train_df)\n",
    "weather_test_df = reduce_mem_usage(weather_test_df)"
   ]
  },
  {
   "cell_type": "markdown",
   "metadata": {},
   "source": [
    "#### Get insights of shapes and first few data rows of all the files"
   ]
  },
  {
   "cell_type": "code",
   "execution_count": 6,
   "metadata": {},
   "outputs": [
    {
     "name": "stdout",
     "output_type": "stream",
     "text": [
      "Training data shape: (20216100, 4)\n",
      "Weather training shape: (139773, 9)\n",
      "Weather training shape: (277243, 9)\n",
      "Weather testing shape: (1449, 6)\n",
      "Test data shape: (41697600, 4)\n"
     ]
    }
   ],
   "source": [
    "print (f'Training data shape: {train_df.shape}')\n",
    "print (f'Weather training shape: {weather_train_df.shape}')\n",
    "print (f'Weather training shape: {weather_test_df.shape}')\n",
    "print (f'Weather testing shape: {metadata_df.shape}')\n",
    "print (f'Test data shape: {test_df.shape}')"
   ]
  },
  {
   "cell_type": "code",
   "execution_count": 7,
   "metadata": {},
   "outputs": [
    {
     "data": {
      "text/html": [
       "<div>\n",
       "<style scoped>\n",
       "    .dataframe tbody tr th:only-of-type {\n",
       "        vertical-align: middle;\n",
       "    }\n",
       "\n",
       "    .dataframe tbody tr th {\n",
       "        vertical-align: top;\n",
       "    }\n",
       "\n",
       "    .dataframe thead th {\n",
       "        text-align: right;\n",
       "    }\n",
       "</style>\n",
       "<table border=\"1\" class=\"dataframe\">\n",
       "  <thead>\n",
       "    <tr style=\"text-align: right;\">\n",
       "      <th></th>\n",
       "      <th>building_id</th>\n",
       "      <th>meter</th>\n",
       "      <th>timestamp</th>\n",
       "      <th>meter_reading</th>\n",
       "    </tr>\n",
       "  </thead>\n",
       "  <tbody>\n",
       "    <tr>\n",
       "      <td>0</td>\n",
       "      <td>0</td>\n",
       "      <td>0</td>\n",
       "      <td>2016-01-01 00:00:00</td>\n",
       "      <td>0.0</td>\n",
       "    </tr>\n",
       "    <tr>\n",
       "      <td>1</td>\n",
       "      <td>1</td>\n",
       "      <td>0</td>\n",
       "      <td>2016-01-01 00:00:00</td>\n",
       "      <td>0.0</td>\n",
       "    </tr>\n",
       "    <tr>\n",
       "      <td>2</td>\n",
       "      <td>2</td>\n",
       "      <td>0</td>\n",
       "      <td>2016-01-01 00:00:00</td>\n",
       "      <td>0.0</td>\n",
       "    </tr>\n",
       "    <tr>\n",
       "      <td>3</td>\n",
       "      <td>3</td>\n",
       "      <td>0</td>\n",
       "      <td>2016-01-01 00:00:00</td>\n",
       "      <td>0.0</td>\n",
       "    </tr>\n",
       "    <tr>\n",
       "      <td>4</td>\n",
       "      <td>4</td>\n",
       "      <td>0</td>\n",
       "      <td>2016-01-01 00:00:00</td>\n",
       "      <td>0.0</td>\n",
       "    </tr>\n",
       "  </tbody>\n",
       "</table>\n",
       "</div>"
      ],
      "text/plain": [
       "   building_id  meter            timestamp  meter_reading\n",
       "0            0      0  2016-01-01 00:00:00            0.0\n",
       "1            1      0  2016-01-01 00:00:00            0.0\n",
       "2            2      0  2016-01-01 00:00:00            0.0\n",
       "3            3      0  2016-01-01 00:00:00            0.0\n",
       "4            4      0  2016-01-01 00:00:00            0.0"
      ]
     },
     "execution_count": 7,
     "metadata": {},
     "output_type": "execute_result"
    }
   ],
   "source": [
    "train_df.head()"
   ]
  },
  {
   "cell_type": "code",
   "execution_count": 8,
   "metadata": {},
   "outputs": [
    {
     "data": {
      "text/html": [
       "<div>\n",
       "<style scoped>\n",
       "    .dataframe tbody tr th:only-of-type {\n",
       "        vertical-align: middle;\n",
       "    }\n",
       "\n",
       "    .dataframe tbody tr th {\n",
       "        vertical-align: top;\n",
       "    }\n",
       "\n",
       "    .dataframe thead th {\n",
       "        text-align: right;\n",
       "    }\n",
       "</style>\n",
       "<table border=\"1\" class=\"dataframe\">\n",
       "  <thead>\n",
       "    <tr style=\"text-align: right;\">\n",
       "      <th></th>\n",
       "      <th>site_id</th>\n",
       "      <th>timestamp</th>\n",
       "      <th>air_temperature</th>\n",
       "      <th>cloud_coverage</th>\n",
       "      <th>dew_temperature</th>\n",
       "      <th>precip_depth_1_hr</th>\n",
       "      <th>sea_level_pressure</th>\n",
       "      <th>wind_direction</th>\n",
       "      <th>wind_speed</th>\n",
       "    </tr>\n",
       "  </thead>\n",
       "  <tbody>\n",
       "    <tr>\n",
       "      <td>0</td>\n",
       "      <td>0</td>\n",
       "      <td>2016-01-01 00:00:00</td>\n",
       "      <td>25.000000</td>\n",
       "      <td>6.0</td>\n",
       "      <td>20.00000</td>\n",
       "      <td>NaN</td>\n",
       "      <td>1019.5</td>\n",
       "      <td>0.0</td>\n",
       "      <td>0.000000</td>\n",
       "    </tr>\n",
       "    <tr>\n",
       "      <td>1</td>\n",
       "      <td>0</td>\n",
       "      <td>2016-01-01 01:00:00</td>\n",
       "      <td>24.406250</td>\n",
       "      <td>NaN</td>\n",
       "      <td>21.09375</td>\n",
       "      <td>-1.0</td>\n",
       "      <td>1020.0</td>\n",
       "      <td>70.0</td>\n",
       "      <td>1.500000</td>\n",
       "    </tr>\n",
       "    <tr>\n",
       "      <td>2</td>\n",
       "      <td>0</td>\n",
       "      <td>2016-01-01 02:00:00</td>\n",
       "      <td>22.796875</td>\n",
       "      <td>2.0</td>\n",
       "      <td>21.09375</td>\n",
       "      <td>0.0</td>\n",
       "      <td>1020.0</td>\n",
       "      <td>0.0</td>\n",
       "      <td>0.000000</td>\n",
       "    </tr>\n",
       "    <tr>\n",
       "      <td>3</td>\n",
       "      <td>0</td>\n",
       "      <td>2016-01-01 03:00:00</td>\n",
       "      <td>21.093750</td>\n",
       "      <td>2.0</td>\n",
       "      <td>20.59375</td>\n",
       "      <td>0.0</td>\n",
       "      <td>1020.0</td>\n",
       "      <td>0.0</td>\n",
       "      <td>0.000000</td>\n",
       "    </tr>\n",
       "    <tr>\n",
       "      <td>4</td>\n",
       "      <td>0</td>\n",
       "      <td>2016-01-01 04:00:00</td>\n",
       "      <td>20.000000</td>\n",
       "      <td>2.0</td>\n",
       "      <td>20.00000</td>\n",
       "      <td>-1.0</td>\n",
       "      <td>1020.0</td>\n",
       "      <td>250.0</td>\n",
       "      <td>2.599609</td>\n",
       "    </tr>\n",
       "  </tbody>\n",
       "</table>\n",
       "</div>"
      ],
      "text/plain": [
       "   site_id            timestamp  air_temperature  cloud_coverage  \\\n",
       "0        0  2016-01-01 00:00:00        25.000000             6.0   \n",
       "1        0  2016-01-01 01:00:00        24.406250             NaN   \n",
       "2        0  2016-01-01 02:00:00        22.796875             2.0   \n",
       "3        0  2016-01-01 03:00:00        21.093750             2.0   \n",
       "4        0  2016-01-01 04:00:00        20.000000             2.0   \n",
       "\n",
       "   dew_temperature  precip_depth_1_hr  sea_level_pressure  wind_direction  \\\n",
       "0         20.00000                NaN              1019.5             0.0   \n",
       "1         21.09375               -1.0              1020.0            70.0   \n",
       "2         21.09375                0.0              1020.0             0.0   \n",
       "3         20.59375                0.0              1020.0             0.0   \n",
       "4         20.00000               -1.0              1020.0           250.0   \n",
       "\n",
       "   wind_speed  \n",
       "0    0.000000  \n",
       "1    1.500000  \n",
       "2    0.000000  \n",
       "3    0.000000  \n",
       "4    2.599609  "
      ]
     },
     "execution_count": 8,
     "metadata": {},
     "output_type": "execute_result"
    }
   ],
   "source": [
    "weather_train_df.head()"
   ]
  },
  {
   "cell_type": "code",
   "execution_count": 9,
   "metadata": {},
   "outputs": [
    {
     "data": {
      "text/html": [
       "<div>\n",
       "<style scoped>\n",
       "    .dataframe tbody tr th:only-of-type {\n",
       "        vertical-align: middle;\n",
       "    }\n",
       "\n",
       "    .dataframe tbody tr th {\n",
       "        vertical-align: top;\n",
       "    }\n",
       "\n",
       "    .dataframe thead th {\n",
       "        text-align: right;\n",
       "    }\n",
       "</style>\n",
       "<table border=\"1\" class=\"dataframe\">\n",
       "  <thead>\n",
       "    <tr style=\"text-align: right;\">\n",
       "      <th></th>\n",
       "      <th>site_id</th>\n",
       "      <th>building_id</th>\n",
       "      <th>primary_use</th>\n",
       "      <th>square_feet</th>\n",
       "      <th>year_built</th>\n",
       "      <th>floor_count</th>\n",
       "    </tr>\n",
       "  </thead>\n",
       "  <tbody>\n",
       "    <tr>\n",
       "      <td>0</td>\n",
       "      <td>0</td>\n",
       "      <td>0</td>\n",
       "      <td>Education</td>\n",
       "      <td>7432</td>\n",
       "      <td>2008.0</td>\n",
       "      <td>NaN</td>\n",
       "    </tr>\n",
       "    <tr>\n",
       "      <td>1</td>\n",
       "      <td>0</td>\n",
       "      <td>1</td>\n",
       "      <td>Education</td>\n",
       "      <td>2720</td>\n",
       "      <td>2004.0</td>\n",
       "      <td>NaN</td>\n",
       "    </tr>\n",
       "    <tr>\n",
       "      <td>2</td>\n",
       "      <td>0</td>\n",
       "      <td>2</td>\n",
       "      <td>Education</td>\n",
       "      <td>5376</td>\n",
       "      <td>1991.0</td>\n",
       "      <td>NaN</td>\n",
       "    </tr>\n",
       "    <tr>\n",
       "      <td>3</td>\n",
       "      <td>0</td>\n",
       "      <td>3</td>\n",
       "      <td>Education</td>\n",
       "      <td>23685</td>\n",
       "      <td>2002.0</td>\n",
       "      <td>NaN</td>\n",
       "    </tr>\n",
       "    <tr>\n",
       "      <td>4</td>\n",
       "      <td>0</td>\n",
       "      <td>4</td>\n",
       "      <td>Education</td>\n",
       "      <td>116607</td>\n",
       "      <td>1975.0</td>\n",
       "      <td>NaN</td>\n",
       "    </tr>\n",
       "  </tbody>\n",
       "</table>\n",
       "</div>"
      ],
      "text/plain": [
       "   site_id  building_id primary_use  square_feet  year_built  floor_count\n",
       "0        0            0   Education         7432      2008.0          NaN\n",
       "1        0            1   Education         2720      2004.0          NaN\n",
       "2        0            2   Education         5376      1991.0          NaN\n",
       "3        0            3   Education        23685      2002.0          NaN\n",
       "4        0            4   Education       116607      1975.0          NaN"
      ]
     },
     "execution_count": 9,
     "metadata": {},
     "output_type": "execute_result"
    }
   ],
   "source": [
    "metadata_df.head()"
   ]
  },
  {
   "cell_type": "code",
   "execution_count": 10,
   "metadata": {},
   "outputs": [
    {
     "data": {
      "text/html": [
       "<div>\n",
       "<style scoped>\n",
       "    .dataframe tbody tr th:only-of-type {\n",
       "        vertical-align: middle;\n",
       "    }\n",
       "\n",
       "    .dataframe tbody tr th {\n",
       "        vertical-align: top;\n",
       "    }\n",
       "\n",
       "    .dataframe thead th {\n",
       "        text-align: right;\n",
       "    }\n",
       "</style>\n",
       "<table border=\"1\" class=\"dataframe\">\n",
       "  <thead>\n",
       "    <tr style=\"text-align: right;\">\n",
       "      <th></th>\n",
       "      <th>row_id</th>\n",
       "      <th>building_id</th>\n",
       "      <th>meter</th>\n",
       "      <th>timestamp</th>\n",
       "    </tr>\n",
       "  </thead>\n",
       "  <tbody>\n",
       "    <tr>\n",
       "      <td>0</td>\n",
       "      <td>0</td>\n",
       "      <td>0</td>\n",
       "      <td>0</td>\n",
       "      <td>2017-01-01 00:00:00</td>\n",
       "    </tr>\n",
       "    <tr>\n",
       "      <td>1</td>\n",
       "      <td>1</td>\n",
       "      <td>1</td>\n",
       "      <td>0</td>\n",
       "      <td>2017-01-01 00:00:00</td>\n",
       "    </tr>\n",
       "    <tr>\n",
       "      <td>2</td>\n",
       "      <td>2</td>\n",
       "      <td>2</td>\n",
       "      <td>0</td>\n",
       "      <td>2017-01-01 00:00:00</td>\n",
       "    </tr>\n",
       "    <tr>\n",
       "      <td>3</td>\n",
       "      <td>3</td>\n",
       "      <td>3</td>\n",
       "      <td>0</td>\n",
       "      <td>2017-01-01 00:00:00</td>\n",
       "    </tr>\n",
       "    <tr>\n",
       "      <td>4</td>\n",
       "      <td>4</td>\n",
       "      <td>4</td>\n",
       "      <td>0</td>\n",
       "      <td>2017-01-01 00:00:00</td>\n",
       "    </tr>\n",
       "  </tbody>\n",
       "</table>\n",
       "</div>"
      ],
      "text/plain": [
       "   row_id  building_id  meter            timestamp\n",
       "0       0            0      0  2017-01-01 00:00:00\n",
       "1       1            1      0  2017-01-01 00:00:00\n",
       "2       2            2      0  2017-01-01 00:00:00\n",
       "3       3            3      0  2017-01-01 00:00:00\n",
       "4       4            4      0  2017-01-01 00:00:00"
      ]
     },
     "execution_count": 10,
     "metadata": {},
     "output_type": "execute_result"
    }
   ],
   "source": [
    "test_df.head()"
   ]
  },
  {
   "cell_type": "markdown",
   "metadata": {},
   "source": [
    "#### Merge necessary files\n",
    "As mentioned previously, to get a single dataframe for training and a single data frame for testing with all the feature included, we need to join the tables/files which are related by foreign keys. Let's first merge/join training data."
   ]
  },
  {
   "cell_type": "code",
   "execution_count": 11,
   "metadata": {},
   "outputs": [
    {
     "name": "stdout",
     "output_type": "stream",
     "text": [
      "CPU times: user 9.46 s, sys: 4.71 s, total: 14.2 s\n",
      "Wall time: 13 s\n"
     ]
    }
   ],
   "source": [
    "%%time\n",
    "train_metadata_df = train_df.join(other=metadata_df.set_index('building_id'), on='building_id', how='left', lsuffix='_l', rsuffix='_r')\n",
    "full_train_df = train_metadata_df.merge(right=weather_train_df, how='left')"
   ]
  },
  {
   "cell_type": "code",
   "execution_count": 12,
   "metadata": {},
   "outputs": [
    {
     "data": {
      "text/html": [
       "<div>\n",
       "<style scoped>\n",
       "    .dataframe tbody tr th:only-of-type {\n",
       "        vertical-align: middle;\n",
       "    }\n",
       "\n",
       "    .dataframe tbody tr th {\n",
       "        vertical-align: top;\n",
       "    }\n",
       "\n",
       "    .dataframe thead th {\n",
       "        text-align: right;\n",
       "    }\n",
       "</style>\n",
       "<table border=\"1\" class=\"dataframe\">\n",
       "  <thead>\n",
       "    <tr style=\"text-align: right;\">\n",
       "      <th></th>\n",
       "      <th>building_id</th>\n",
       "      <th>meter</th>\n",
       "      <th>timestamp</th>\n",
       "      <th>meter_reading</th>\n",
       "      <th>site_id</th>\n",
       "      <th>primary_use</th>\n",
       "      <th>square_feet</th>\n",
       "      <th>year_built</th>\n",
       "      <th>floor_count</th>\n",
       "      <th>air_temperature</th>\n",
       "      <th>cloud_coverage</th>\n",
       "      <th>dew_temperature</th>\n",
       "      <th>precip_depth_1_hr</th>\n",
       "      <th>sea_level_pressure</th>\n",
       "      <th>wind_direction</th>\n",
       "      <th>wind_speed</th>\n",
       "    </tr>\n",
       "  </thead>\n",
       "  <tbody>\n",
       "    <tr>\n",
       "      <td>0</td>\n",
       "      <td>0</td>\n",
       "      <td>0</td>\n",
       "      <td>2016-01-01 00:00:00</td>\n",
       "      <td>0.0</td>\n",
       "      <td>0</td>\n",
       "      <td>Education</td>\n",
       "      <td>7432</td>\n",
       "      <td>2008.0</td>\n",
       "      <td>NaN</td>\n",
       "      <td>25.0</td>\n",
       "      <td>6.0</td>\n",
       "      <td>20.0</td>\n",
       "      <td>NaN</td>\n",
       "      <td>1019.5</td>\n",
       "      <td>0.0</td>\n",
       "      <td>0.0</td>\n",
       "    </tr>\n",
       "    <tr>\n",
       "      <td>1</td>\n",
       "      <td>1</td>\n",
       "      <td>0</td>\n",
       "      <td>2016-01-01 00:00:00</td>\n",
       "      <td>0.0</td>\n",
       "      <td>0</td>\n",
       "      <td>Education</td>\n",
       "      <td>2720</td>\n",
       "      <td>2004.0</td>\n",
       "      <td>NaN</td>\n",
       "      <td>25.0</td>\n",
       "      <td>6.0</td>\n",
       "      <td>20.0</td>\n",
       "      <td>NaN</td>\n",
       "      <td>1019.5</td>\n",
       "      <td>0.0</td>\n",
       "      <td>0.0</td>\n",
       "    </tr>\n",
       "    <tr>\n",
       "      <td>2</td>\n",
       "      <td>2</td>\n",
       "      <td>0</td>\n",
       "      <td>2016-01-01 00:00:00</td>\n",
       "      <td>0.0</td>\n",
       "      <td>0</td>\n",
       "      <td>Education</td>\n",
       "      <td>5376</td>\n",
       "      <td>1991.0</td>\n",
       "      <td>NaN</td>\n",
       "      <td>25.0</td>\n",
       "      <td>6.0</td>\n",
       "      <td>20.0</td>\n",
       "      <td>NaN</td>\n",
       "      <td>1019.5</td>\n",
       "      <td>0.0</td>\n",
       "      <td>0.0</td>\n",
       "    </tr>\n",
       "    <tr>\n",
       "      <td>3</td>\n",
       "      <td>3</td>\n",
       "      <td>0</td>\n",
       "      <td>2016-01-01 00:00:00</td>\n",
       "      <td>0.0</td>\n",
       "      <td>0</td>\n",
       "      <td>Education</td>\n",
       "      <td>23685</td>\n",
       "      <td>2002.0</td>\n",
       "      <td>NaN</td>\n",
       "      <td>25.0</td>\n",
       "      <td>6.0</td>\n",
       "      <td>20.0</td>\n",
       "      <td>NaN</td>\n",
       "      <td>1019.5</td>\n",
       "      <td>0.0</td>\n",
       "      <td>0.0</td>\n",
       "    </tr>\n",
       "    <tr>\n",
       "      <td>4</td>\n",
       "      <td>4</td>\n",
       "      <td>0</td>\n",
       "      <td>2016-01-01 00:00:00</td>\n",
       "      <td>0.0</td>\n",
       "      <td>0</td>\n",
       "      <td>Education</td>\n",
       "      <td>116607</td>\n",
       "      <td>1975.0</td>\n",
       "      <td>NaN</td>\n",
       "      <td>25.0</td>\n",
       "      <td>6.0</td>\n",
       "      <td>20.0</td>\n",
       "      <td>NaN</td>\n",
       "      <td>1019.5</td>\n",
       "      <td>0.0</td>\n",
       "      <td>0.0</td>\n",
       "    </tr>\n",
       "  </tbody>\n",
       "</table>\n",
       "</div>"
      ],
      "text/plain": [
       "   building_id  meter            timestamp  meter_reading  site_id  \\\n",
       "0            0      0  2016-01-01 00:00:00            0.0        0   \n",
       "1            1      0  2016-01-01 00:00:00            0.0        0   \n",
       "2            2      0  2016-01-01 00:00:00            0.0        0   \n",
       "3            3      0  2016-01-01 00:00:00            0.0        0   \n",
       "4            4      0  2016-01-01 00:00:00            0.0        0   \n",
       "\n",
       "  primary_use  square_feet  year_built  floor_count  air_temperature  \\\n",
       "0   Education         7432      2008.0          NaN             25.0   \n",
       "1   Education         2720      2004.0          NaN             25.0   \n",
       "2   Education         5376      1991.0          NaN             25.0   \n",
       "3   Education        23685      2002.0          NaN             25.0   \n",
       "4   Education       116607      1975.0          NaN             25.0   \n",
       "\n",
       "   cloud_coverage  dew_temperature  precip_depth_1_hr  sea_level_pressure  \\\n",
       "0             6.0             20.0                NaN              1019.5   \n",
       "1             6.0             20.0                NaN              1019.5   \n",
       "2             6.0             20.0                NaN              1019.5   \n",
       "3             6.0             20.0                NaN              1019.5   \n",
       "4             6.0             20.0                NaN              1019.5   \n",
       "\n",
       "   wind_direction  wind_speed  \n",
       "0             0.0         0.0  \n",
       "1             0.0         0.0  \n",
       "2             0.0         0.0  \n",
       "3             0.0         0.0  \n",
       "4             0.0         0.0  "
      ]
     },
     "execution_count": 12,
     "metadata": {},
     "output_type": "execute_result"
    }
   ],
   "source": [
    "full_train_df.head()"
   ]
  },
  {
   "cell_type": "markdown",
   "metadata": {},
   "source": [
    "#### Reducing the memory usage\n",
    "Let's delete unnecessary dataframes from memory to lower the memory usage"
   ]
  },
  {
   "cell_type": "code",
   "execution_count": 13,
   "metadata": {},
   "outputs": [],
   "source": [
    "# Delete unnecessary dataframes to decrease memory usage\n",
    "del train_df\n",
    "del weather_train_df\n",
    "del train_metadata_df"
   ]
  },
  {
   "cell_type": "markdown",
   "metadata": {},
   "source": [
    "Now let's change the data types of necessary feature columns based on the range of the data values. This will lower the data usage. But **how**? Let's see. For example the datatype of feature `building_id` is `int64` but based on the range of this feature, it can be accomodated in lower range i.e. `int16`. So this will decrease the memory usage."
   ]
  },
  {
   "cell_type": "markdown",
   "metadata": {},
   "source": [
    "#### Let's do the same for test data"
   ]
  },
  {
   "cell_type": "code",
   "execution_count": 14,
   "metadata": {},
   "outputs": [
    {
     "name": "stdout",
     "output_type": "stream",
     "text": [
      "CPU times: user 22.1 s, sys: 13.7 s, total: 35.8 s\n",
      "Wall time: 33.2 s\n"
     ]
    }
   ],
   "source": [
    "%%time\n",
    "full_test_df = test_df.merge(metadata_df, on='building_id', how='left')\n",
    "full_test_df = full_test_df.merge(weather_test_df, on=['site_id', 'timestamp'], how='left')"
   ]
  },
  {
   "cell_type": "markdown",
   "metadata": {},
   "source": [
    "#### Reducing the memory usage\n",
    "Let's delete unnecessary dataframes from memory to lower the memory usage"
   ]
  },
  {
   "cell_type": "code",
   "execution_count": 15,
   "metadata": {},
   "outputs": [],
   "source": [
    "# Delete unnecessary dataframes to decrease memory usage\n",
    "del metadata_df\n",
    "del weather_test_df\n",
    "del test_df"
   ]
  },
  {
   "cell_type": "markdown",
   "metadata": {},
   "source": [
    "Now let's change the data types of necessary feature columns based on the range of the data values. This will lower the data usage. But **how**? Let's see. For example the datatype of feature `building_id` is `int64` but based on the range of this feature, it can be accomodated in lower range i.e. `int16`. So this will decrease the memory usage."
   ]
  },
  {
   "cell_type": "markdown",
   "metadata": {},
   "source": [
    "## Exploratory Data Analysis\n",
    "Exploratory Data Analysis (EDA) is an open-ended process where we calculate statistics and make figures to find trends, anomalies, patterns, or relationships within the data."
   ]
  },
  {
   "cell_type": "markdown",
   "metadata": {},
   "source": [
    "### Distribition of primary usage of buildings"
   ]
  },
  {
   "cell_type": "code",
   "execution_count": 16,
   "metadata": {},
   "outputs": [
    {
     "data": {
      "image/png": "[encoded data removed]",
      "text/plain": [
       "<Figure size 792x576 with 1 Axes>"
      ]
     },
     "metadata": {},
     "output_type": "display_data"
    }
   ],
   "source": [
    "ax = sns.barplot(pd.unique(full_train_df['primary_use']), full_train_df['primary_use'].value_counts())\n",
    "ax.set(xlabel='Primary Usage', ylabel='# of records', title='Primary Usage vs. # of records')\n",
    "ax.set_xticklabels(ax.get_xticklabels(), rotation=50, ha=\"right\")\n",
    "plt.show()"
   ]
  },
  {
   "cell_type": "markdown",
   "metadata": {},
   "source": [
    "### Distribution of meter types"
   ]
  },
  {
   "cell_type": "code",
   "execution_count": 17,
   "metadata": {},
   "outputs": [
    {
     "data": {
      "image/png": "[encoded data removed]",
      "text/plain": [
       "<Figure size 792x576 with 1 Axes>"
      ]
     },
     "metadata": {},
     "output_type": "display_data"
    }
   ],
   "source": [
    "meter_types = {0: 'electricity', 1: 'chilledwater', 2: 'steam', 3: 'hotwater'}\n",
    "ax = sns.barplot(np.vectorize(meter_types.get)(pd.unique(full_train_df['meter'])), full_train_df['meter'].value_counts())\n",
    "ax.set(xlabel='Meter Type', ylabel='# of records', title='Meter type vs. # of records')\n",
    "plt.show()"
   ]
  },
  {
   "cell_type": "markdown",
   "metadata": {},
   "source": [
    "### Average meter reading for training dataset"
   ]
  },
  {
   "cell_type": "code",
   "execution_count": 18,
   "metadata": {},
   "outputs": [
    {
     "name": "stdout",
     "output_type": "stream",
     "text": [
      "Average meter reading: 1988.7061767578125 kWh\n"
     ]
    }
   ],
   "source": [
    "# Average meter reading\n",
    "print (f'Average meter reading: {full_train_df.meter_reading.mean()} kWh')"
   ]
  },
  {
   "cell_type": "markdown",
   "metadata": {},
   "source": [
    "### Distribution of meter readings for each meter type"
   ]
  },
  {
   "cell_type": "code",
   "execution_count": 19,
   "metadata": {},
   "outputs": [
    {
     "data": {
      "image/png": "[encoded data removed]",
      "text/plain": [
       "<Figure size 792x576 with 1 Axes>"
      ]
     },
     "metadata": {},
     "output_type": "display_data"
    }
   ],
   "source": [
    "ax = sns.barplot(np.vectorize(meter_types.get)(full_train_df.groupby(['meter'])['meter_reading'].mean().keys()), full_train_df.groupby(['meter'])['meter_reading'].mean())\n",
    "ax.set(xlabel='Meter Type', ylabel='Meter reading', title='Meter type vs. Meter Reading')\n",
    "plt.show()"
   ]
  },
  {
   "cell_type": "markdown",
   "metadata": {},
   "source": [
    "### Distribution of buildings built in each year for both training and test datasets"
   ]
  },
  {
   "cell_type": "code",
   "execution_count": 20,
   "metadata": {},
   "outputs": [
    {
     "data": {
      "image/png": "[encoded data removed]",
      "text/plain": [
       "<Figure size 1008x432 with 1 Axes>"
      ]
     },
     "metadata": {},
     "output_type": "display_data"
    }
   ],
   "source": [
    "fig, ax = plt.subplots(1,1,figsize=(14, 6))\n",
    "ax.set(xlabel='Year Built', ylabel='# Of Buildings', title='Buildings built in each year')\n",
    "full_train_df['year_built'].value_counts(dropna=False).sort_index().plot(ax=ax);\n",
    "full_test_df['year_built'].value_counts(dropna=False).sort_index().plot(ax=ax);\n",
    "ax.legend(['Train', 'Test']);"
   ]
  },
  {
   "cell_type": "markdown",
   "metadata": {},
   "source": [
    "### Distribution of square feet area of buildings"
   ]
  },
  {
   "cell_type": "code",
   "execution_count": 21,
   "metadata": {},
   "outputs": [
    {
     "data": {
      "image/png": "[encoded data removed]",
      "text/plain": [
       "<Figure size 1080x504 with 1 Axes>"
      ]
     },
     "metadata": {},
     "output_type": "display_data"
    }
   ],
   "source": [
    "fig, ax = plt.subplots(1,1,figsize=(15, 7))\n",
    "full_train_df.groupby(['building_id'])['square_feet'].mean().plot(ax=ax)\n",
    "ax.set(xlabel='Building ID', ylabel='Area in Square Feet', title='Square Feet area of buildings')\n",
    "plt.show()"
   ]
  },
  {
   "cell_type": "markdown",
   "metadata": {},
   "source": [
    "## Feature Engineering\n",
    "The joined dataframe (full_train_df) now has 20,216,100 rows, and 16 features in training dataset."
   ]
  },
  {
   "cell_type": "markdown",
   "metadata": {},
   "source": [
    "### Analysing missing data\n",
    "First let's count and fill missing data in training datasets"
   ]
  },
  {
   "cell_type": "code",
   "execution_count": 22,
   "metadata": {},
   "outputs": [
    {
     "data": {
      "text/html": [
       "<div>\n",
       "<style scoped>\n",
       "    .dataframe tbody tr th:only-of-type {\n",
       "        vertical-align: middle;\n",
       "    }\n",
       "\n",
       "    .dataframe tbody tr th {\n",
       "        vertical-align: top;\n",
       "    }\n",
       "\n",
       "    .dataframe thead th {\n",
       "        text-align: right;\n",
       "    }\n",
       "</style>\n",
       "<table border=\"1\" class=\"dataframe\">\n",
       "  <thead>\n",
       "    <tr style=\"text-align: right;\">\n",
       "      <th></th>\n",
       "      <th>NaN Count</th>\n",
       "    </tr>\n",
       "  </thead>\n",
       "  <tbody>\n",
       "    <tr>\n",
       "      <td>floor_count</td>\n",
       "      <td>16709167</td>\n",
       "    </tr>\n",
       "    <tr>\n",
       "      <td>year_built</td>\n",
       "      <td>12127645</td>\n",
       "    </tr>\n",
       "    <tr>\n",
       "      <td>cloud_coverage</td>\n",
       "      <td>8825365</td>\n",
       "    </tr>\n",
       "    <tr>\n",
       "      <td>precip_depth_1_hr</td>\n",
       "      <td>3749023</td>\n",
       "    </tr>\n",
       "    <tr>\n",
       "      <td>wind_direction</td>\n",
       "      <td>1449048</td>\n",
       "    </tr>\n",
       "    <tr>\n",
       "      <td>sea_level_pressure</td>\n",
       "      <td>1231669</td>\n",
       "    </tr>\n",
       "    <tr>\n",
       "      <td>wind_speed</td>\n",
       "      <td>143676</td>\n",
       "    </tr>\n",
       "    <tr>\n",
       "      <td>dew_temperature</td>\n",
       "      <td>100140</td>\n",
       "    </tr>\n",
       "    <tr>\n",
       "      <td>air_temperature</td>\n",
       "      <td>96658</td>\n",
       "    </tr>\n",
       "    <tr>\n",
       "      <td>square_feet</td>\n",
       "      <td>0</td>\n",
       "    </tr>\n",
       "    <tr>\n",
       "      <td>primary_use</td>\n",
       "      <td>0</td>\n",
       "    </tr>\n",
       "    <tr>\n",
       "      <td>site_id</td>\n",
       "      <td>0</td>\n",
       "    </tr>\n",
       "    <tr>\n",
       "      <td>meter_reading</td>\n",
       "      <td>0</td>\n",
       "    </tr>\n",
       "    <tr>\n",
       "      <td>timestamp</td>\n",
       "      <td>0</td>\n",
       "    </tr>\n",
       "    <tr>\n",
       "      <td>meter</td>\n",
       "      <td>0</td>\n",
       "    </tr>\n",
       "    <tr>\n",
       "      <td>building_id</td>\n",
       "      <td>0</td>\n",
       "    </tr>\n",
       "  </tbody>\n",
       "</table>\n",
       "</div>"
      ],
      "text/plain": [
       "                    NaN Count\n",
       "floor_count          16709167\n",
       "year_built           12127645\n",
       "cloud_coverage        8825365\n",
       "precip_depth_1_hr     3749023\n",
       "wind_direction        1449048\n",
       "sea_level_pressure    1231669\n",
       "wind_speed             143676\n",
       "dew_temperature        100140\n",
       "air_temperature         96658\n",
       "square_feet                 0\n",
       "primary_use                 0\n",
       "site_id                     0\n",
       "meter_reading               0\n",
       "timestamp                   0\n",
       "meter                       0\n",
       "building_id                 0"
      ]
     },
     "execution_count": 22,
     "metadata": {},
     "output_type": "execute_result"
    }
   ],
   "source": [
    "pd.DataFrame(full_train_df.isna().sum().sort_values(ascending=False), columns=['NaN Count'])"
   ]
  },
  {
   "cell_type": "markdown",
   "metadata": {},
   "source": [
    "Let's see the ratio of available data to total data. Which signifies the percentage (%) availability of each feature in given dataset."
   ]
  },
  {
   "cell_type": "code",
   "execution_count": 23,
   "metadata": {},
   "outputs": [
    {
     "data": {
      "image/png": "[encoded data removed]",
      "text/plain": [
       "<Figure size 792x576 with 1 Axes>"
      ]
     },
     "metadata": {},
     "output_type": "display_data"
    }
   ],
   "source": [
    "missing_values = (100-full_train_df.count() / len(full_train_df) * 100).sort_values(ascending=False)\n",
    "ax = sns.barplot(missing_values.keys(), missing_values)\n",
    "ax.set(xlabel='% Missing Values', ylabel='Features', title='% Missing values per feature in training dataset')\n",
    "ax.set_xticklabels(ax.get_xticklabels(), rotation=50, ha=\"right\")\n",
    "plt.show()"
   ]
  },
  {
   "cell_type": "markdown",
   "metadata": {},
   "source": [
    "Missing data can be filled in many ways. Here are few techniques to fill missing values: \n",
    "\n",
    "* Ignore the data row\n",
    "* Back-fill or forward-fill to propagate next or previous values respectively\n",
    "* Replace with some constant value outside fixed value range-999,-1 etc.\n",
    "* Replace with mean, median value\n",
    "\n",
    "For now, we will go with last method. So let's fill all the missing data with it's average(mean) values of corresponding columns."
   ]
  },
  {
   "cell_type": "code",
   "execution_count": 24,
   "metadata": {},
   "outputs": [],
   "source": [
    "def mean_without_overflow_fast(col):\n",
    "    col /= len(col)\n",
    "    return col.mean() * len(col)"
   ]
  },
  {
   "cell_type": "code",
   "execution_count": 25,
   "metadata": {},
   "outputs": [
    {
     "name": "stdout",
     "output_type": "stream",
     "text": [
      "CPU times: user 1.4 s, sys: 1.9 s, total: 3.31 s\n",
      "Wall time: 2.68 s\n"
     ]
    }
   ],
   "source": [
    "%%time\n",
    "missing_features = full_train_df.loc[:, missing_values > 0.0]\n",
    "missing_features = missing_features.apply(mean_without_overflow_fast)"
   ]
  },
  {
   "cell_type": "code",
   "execution_count": 26,
   "metadata": {},
   "outputs": [],
   "source": [
    "for key in full_train_df.loc[:, missing_values > 0.0].keys():\n",
    "    if key == 'year_built' or key == 'floor_count':\n",
    "        full_train_df[key].fillna(math.floor(missing_features[key]), inplace=True)\n",
    "        full_test_df[key].fillna(math.floor(missing_features[key]), inplace=True)\n",
    "    else:\n",
    "        full_train_df[key].fillna(missing_features[key], inplace=True)\n",
    "        full_test_df[key].fillna(missing_features[key], inplace=True)"
   ]
  },
  {
   "cell_type": "code",
   "execution_count": 27,
   "metadata": {},
   "outputs": [
    {
     "data": {
      "text/html": [
       "<div>\n",
       "<style scoped>\n",
       "    .dataframe tbody tr th:only-of-type {\n",
       "        vertical-align: middle;\n",
       "    }\n",
       "\n",
       "    .dataframe tbody tr th {\n",
       "        vertical-align: top;\n",
       "    }\n",
       "\n",
       "    .dataframe thead th {\n",
       "        text-align: right;\n",
       "    }\n",
       "</style>\n",
       "<table border=\"1\" class=\"dataframe\">\n",
       "  <thead>\n",
       "    <tr style=\"text-align: right;\">\n",
       "      <th></th>\n",
       "      <th>building_id</th>\n",
       "      <th>meter</th>\n",
       "      <th>timestamp</th>\n",
       "      <th>meter_reading</th>\n",
       "      <th>site_id</th>\n",
       "      <th>primary_use</th>\n",
       "      <th>square_feet</th>\n",
       "      <th>year_built</th>\n",
       "      <th>floor_count</th>\n",
       "      <th>air_temperature</th>\n",
       "      <th>cloud_coverage</th>\n",
       "      <th>dew_temperature</th>\n",
       "      <th>precip_depth_1_hr</th>\n",
       "      <th>sea_level_pressure</th>\n",
       "      <th>wind_direction</th>\n",
       "      <th>wind_speed</th>\n",
       "    </tr>\n",
       "  </thead>\n",
       "  <tbody>\n",
       "    <tr>\n",
       "      <td>20216095</td>\n",
       "      <td>1444</td>\n",
       "      <td>0</td>\n",
       "      <td>2016-12-31 23:00:00</td>\n",
       "      <td>8.750000</td>\n",
       "      <td>15</td>\n",
       "      <td>Entertainment/public assembly</td>\n",
       "      <td>19619</td>\n",
       "      <td>1914.0</td>\n",
       "      <td>4.0</td>\n",
       "      <td>1.700195</td>\n",
       "      <td>1.900391</td>\n",
       "      <td>-5.601562</td>\n",
       "      <td>-1.0</td>\n",
       "      <td>1008.5</td>\n",
       "      <td>180.0</td>\n",
       "      <td>8.796875</td>\n",
       "    </tr>\n",
       "    <tr>\n",
       "      <td>20216096</td>\n",
       "      <td>1445</td>\n",
       "      <td>0</td>\n",
       "      <td>2016-12-31 23:00:00</td>\n",
       "      <td>4.825000</td>\n",
       "      <td>15</td>\n",
       "      <td>Education</td>\n",
       "      <td>4298</td>\n",
       "      <td>1968.0</td>\n",
       "      <td>4.0</td>\n",
       "      <td>1.700195</td>\n",
       "      <td>1.900391</td>\n",
       "      <td>-5.601562</td>\n",
       "      <td>-1.0</td>\n",
       "      <td>1008.5</td>\n",
       "      <td>180.0</td>\n",
       "      <td>8.796875</td>\n",
       "    </tr>\n",
       "    <tr>\n",
       "      <td>20216097</td>\n",
       "      <td>1446</td>\n",
       "      <td>0</td>\n",
       "      <td>2016-12-31 23:00:00</td>\n",
       "      <td>0.000000</td>\n",
       "      <td>15</td>\n",
       "      <td>Entertainment/public assembly</td>\n",
       "      <td>11265</td>\n",
       "      <td>1997.0</td>\n",
       "      <td>4.0</td>\n",
       "      <td>1.700195</td>\n",
       "      <td>1.900391</td>\n",
       "      <td>-5.601562</td>\n",
       "      <td>-1.0</td>\n",
       "      <td>1008.5</td>\n",
       "      <td>180.0</td>\n",
       "      <td>8.796875</td>\n",
       "    </tr>\n",
       "    <tr>\n",
       "      <td>20216098</td>\n",
       "      <td>1447</td>\n",
       "      <td>0</td>\n",
       "      <td>2016-12-31 23:00:00</td>\n",
       "      <td>159.574997</td>\n",
       "      <td>15</td>\n",
       "      <td>Lodging/residential</td>\n",
       "      <td>29775</td>\n",
       "      <td>2001.0</td>\n",
       "      <td>4.0</td>\n",
       "      <td>1.700195</td>\n",
       "      <td>1.900391</td>\n",
       "      <td>-5.601562</td>\n",
       "      <td>-1.0</td>\n",
       "      <td>1008.5</td>\n",
       "      <td>180.0</td>\n",
       "      <td>8.796875</td>\n",
       "    </tr>\n",
       "    <tr>\n",
       "      <td>20216099</td>\n",
       "      <td>1448</td>\n",
       "      <td>0</td>\n",
       "      <td>2016-12-31 23:00:00</td>\n",
       "      <td>2.850000</td>\n",
       "      <td>15</td>\n",
       "      <td>Office</td>\n",
       "      <td>92271</td>\n",
       "      <td>2001.0</td>\n",
       "      <td>4.0</td>\n",
       "      <td>1.700195</td>\n",
       "      <td>1.900391</td>\n",
       "      <td>-5.601562</td>\n",
       "      <td>-1.0</td>\n",
       "      <td>1008.5</td>\n",
       "      <td>180.0</td>\n",
       "      <td>8.796875</td>\n",
       "    </tr>\n",
       "  </tbody>\n",
       "</table>\n",
       "</div>"
      ],
      "text/plain": [
       "          building_id  meter            timestamp  meter_reading  site_id  \\\n",
       "20216095         1444      0  2016-12-31 23:00:00       8.750000       15   \n",
       "20216096         1445      0  2016-12-31 23:00:00       4.825000       15   \n",
       "20216097         1446      0  2016-12-31 23:00:00       0.000000       15   \n",
       "20216098         1447      0  2016-12-31 23:00:00     159.574997       15   \n",
       "20216099         1448      0  2016-12-31 23:00:00       2.850000       15   \n",
       "\n",
       "                            primary_use  square_feet  year_built  floor_count  \\\n",
       "20216095  Entertainment/public assembly        19619      1914.0          4.0   \n",
       "20216096                      Education         4298      1968.0          4.0   \n",
       "20216097  Entertainment/public assembly        11265      1997.0          4.0   \n",
       "20216098            Lodging/residential        29775      2001.0          4.0   \n",
       "20216099                         Office        92271      2001.0          4.0   \n",
       "\n",
       "          air_temperature  cloud_coverage  dew_temperature  precip_depth_1_hr  \\\n",
       "20216095         1.700195        1.900391        -5.601562               -1.0   \n",
       "20216096         1.700195        1.900391        -5.601562               -1.0   \n",
       "20216097         1.700195        1.900391        -5.601562               -1.0   \n",
       "20216098         1.700195        1.900391        -5.601562               -1.0   \n",
       "20216099         1.700195        1.900391        -5.601562               -1.0   \n",
       "\n",
       "          sea_level_pressure  wind_direction  wind_speed  \n",
       "20216095              1008.5           180.0    8.796875  \n",
       "20216096              1008.5           180.0    8.796875  \n",
       "20216097              1008.5           180.0    8.796875  \n",
       "20216098              1008.5           180.0    8.796875  \n",
       "20216099              1008.5           180.0    8.796875  "
      ]
     },
     "execution_count": 27,
     "metadata": {},
     "output_type": "execute_result"
    }
   ],
   "source": [
    "full_train_df.tail()"
   ]
  },
  {
   "cell_type": "code",
   "execution_count": 28,
   "metadata": {},
   "outputs": [
    {
     "data": {
      "text/html": [
       "<div>\n",
       "<style scoped>\n",
       "    .dataframe tbody tr th:only-of-type {\n",
       "        vertical-align: middle;\n",
       "    }\n",
       "\n",
       "    .dataframe tbody tr th {\n",
       "        vertical-align: top;\n",
       "    }\n",
       "\n",
       "    .dataframe thead th {\n",
       "        text-align: right;\n",
       "    }\n",
       "</style>\n",
       "<table border=\"1\" class=\"dataframe\">\n",
       "  <thead>\n",
       "    <tr style=\"text-align: right;\">\n",
       "      <th></th>\n",
       "      <th>row_id</th>\n",
       "      <th>building_id</th>\n",
       "      <th>meter</th>\n",
       "      <th>timestamp</th>\n",
       "      <th>site_id</th>\n",
       "      <th>primary_use</th>\n",
       "      <th>square_feet</th>\n",
       "      <th>year_built</th>\n",
       "      <th>floor_count</th>\n",
       "      <th>air_temperature</th>\n",
       "      <th>cloud_coverage</th>\n",
       "      <th>dew_temperature</th>\n",
       "      <th>precip_depth_1_hr</th>\n",
       "      <th>sea_level_pressure</th>\n",
       "      <th>wind_direction</th>\n",
       "      <th>wind_speed</th>\n",
       "    </tr>\n",
       "  </thead>\n",
       "  <tbody>\n",
       "    <tr>\n",
       "      <td>41697595</td>\n",
       "      <td>41697595</td>\n",
       "      <td>1444</td>\n",
       "      <td>0</td>\n",
       "      <td>2018-05-09 07:00:00</td>\n",
       "      <td>15</td>\n",
       "      <td>Entertainment/public assembly</td>\n",
       "      <td>19619</td>\n",
       "      <td>1914.0</td>\n",
       "      <td>4.0</td>\n",
       "      <td>15.984375</td>\n",
       "      <td>1.900391</td>\n",
       "      <td>7.746094</td>\n",
       "      <td>0.796387</td>\n",
       "      <td>1016.0</td>\n",
       "      <td>173.0</td>\n",
       "      <td>3.376953</td>\n",
       "    </tr>\n",
       "    <tr>\n",
       "      <td>41697596</td>\n",
       "      <td>41697596</td>\n",
       "      <td>1445</td>\n",
       "      <td>0</td>\n",
       "      <td>2018-05-09 07:00:00</td>\n",
       "      <td>15</td>\n",
       "      <td>Education</td>\n",
       "      <td>4298</td>\n",
       "      <td>1968.0</td>\n",
       "      <td>4.0</td>\n",
       "      <td>15.984375</td>\n",
       "      <td>1.900391</td>\n",
       "      <td>7.746094</td>\n",
       "      <td>0.796387</td>\n",
       "      <td>1016.0</td>\n",
       "      <td>173.0</td>\n",
       "      <td>3.376953</td>\n",
       "    </tr>\n",
       "    <tr>\n",
       "      <td>41697597</td>\n",
       "      <td>41697597</td>\n",
       "      <td>1446</td>\n",
       "      <td>0</td>\n",
       "      <td>2018-05-09 07:00:00</td>\n",
       "      <td>15</td>\n",
       "      <td>Entertainment/public assembly</td>\n",
       "      <td>11265</td>\n",
       "      <td>1997.0</td>\n",
       "      <td>4.0</td>\n",
       "      <td>15.984375</td>\n",
       "      <td>1.900391</td>\n",
       "      <td>7.746094</td>\n",
       "      <td>0.796387</td>\n",
       "      <td>1016.0</td>\n",
       "      <td>173.0</td>\n",
       "      <td>3.376953</td>\n",
       "    </tr>\n",
       "    <tr>\n",
       "      <td>41697598</td>\n",
       "      <td>41697598</td>\n",
       "      <td>1447</td>\n",
       "      <td>0</td>\n",
       "      <td>2018-05-09 07:00:00</td>\n",
       "      <td>15</td>\n",
       "      <td>Lodging/residential</td>\n",
       "      <td>29775</td>\n",
       "      <td>2001.0</td>\n",
       "      <td>4.0</td>\n",
       "      <td>15.984375</td>\n",
       "      <td>1.900391</td>\n",
       "      <td>7.746094</td>\n",
       "      <td>0.796387</td>\n",
       "      <td>1016.0</td>\n",
       "      <td>173.0</td>\n",
       "      <td>3.376953</td>\n",
       "    </tr>\n",
       "    <tr>\n",
       "      <td>41697599</td>\n",
       "      <td>41697599</td>\n",
       "      <td>1448</td>\n",
       "      <td>0</td>\n",
       "      <td>2018-05-09 07:00:00</td>\n",
       "      <td>15</td>\n",
       "      <td>Office</td>\n",
       "      <td>92271</td>\n",
       "      <td>2001.0</td>\n",
       "      <td>4.0</td>\n",
       "      <td>15.984375</td>\n",
       "      <td>1.900391</td>\n",
       "      <td>7.746094</td>\n",
       "      <td>0.796387</td>\n",
       "      <td>1016.0</td>\n",
       "      <td>173.0</td>\n",
       "      <td>3.376953</td>\n",
       "    </tr>\n",
       "  </tbody>\n",
       "</table>\n",
       "</div>"
      ],
      "text/plain": [
       "            row_id  building_id  meter            timestamp  site_id  \\\n",
       "41697595  41697595         1444      0  2018-05-09 07:00:00       15   \n",
       "41697596  41697596         1445      0  2018-05-09 07:00:00       15   \n",
       "41697597  41697597         1446      0  2018-05-09 07:00:00       15   \n",
       "41697598  41697598         1447      0  2018-05-09 07:00:00       15   \n",
       "41697599  41697599         1448      0  2018-05-09 07:00:00       15   \n",
       "\n",
       "                            primary_use  square_feet  year_built  floor_count  \\\n",
       "41697595  Entertainment/public assembly        19619      1914.0          4.0   \n",
       "41697596                      Education         4298      1968.0          4.0   \n",
       "41697597  Entertainment/public assembly        11265      1997.0          4.0   \n",
       "41697598            Lodging/residential        29775      2001.0          4.0   \n",
       "41697599                         Office        92271      2001.0          4.0   \n",
       "\n",
       "          air_temperature  cloud_coverage  dew_temperature  precip_depth_1_hr  \\\n",
       "41697595        15.984375        1.900391         7.746094           0.796387   \n",
       "41697596        15.984375        1.900391         7.746094           0.796387   \n",
       "41697597        15.984375        1.900391         7.746094           0.796387   \n",
       "41697598        15.984375        1.900391         7.746094           0.796387   \n",
       "41697599        15.984375        1.900391         7.746094           0.796387   \n",
       "\n",
       "          sea_level_pressure  wind_direction  wind_speed  \n",
       "41697595              1016.0           173.0    3.376953  \n",
       "41697596              1016.0           173.0    3.376953  \n",
       "41697597              1016.0           173.0    3.376953  \n",
       "41697598              1016.0           173.0    3.376953  \n",
       "41697599              1016.0           173.0    3.376953  "
      ]
     },
     "execution_count": 28,
     "metadata": {},
     "output_type": "execute_result"
    }
   ],
   "source": [
    "full_test_df.tail()"
   ]
  },
  {
   "cell_type": "markdown",
   "metadata": {},
   "source": [
    "Let's verify whether all the missing values are filled or not for both training and testing datasets"
   ]
  },
  {
   "cell_type": "code",
   "execution_count": 29,
   "metadata": {},
   "outputs": [
    {
     "data": {
      "text/plain": [
       "building_id           0\n",
       "meter                 0\n",
       "timestamp             0\n",
       "meter_reading         0\n",
       "site_id               0\n",
       "primary_use           0\n",
       "square_feet           0\n",
       "year_built            0\n",
       "floor_count           0\n",
       "air_temperature       0\n",
       "cloud_coverage        0\n",
       "dew_temperature       0\n",
       "precip_depth_1_hr     0\n",
       "sea_level_pressure    0\n",
       "wind_direction        0\n",
       "wind_speed            0\n",
       "dtype: int64"
      ]
     },
     "execution_count": 29,
     "metadata": {},
     "output_type": "execute_result"
    }
   ],
   "source": [
    "full_train_df.isna().sum()"
   ]
  },
  {
   "cell_type": "code",
   "execution_count": 30,
   "metadata": {},
   "outputs": [
    {
     "data": {
      "text/plain": [
       "row_id                0\n",
       "building_id           0\n",
       "meter                 0\n",
       "timestamp             0\n",
       "site_id               0\n",
       "primary_use           0\n",
       "square_feet           0\n",
       "year_built            0\n",
       "floor_count           0\n",
       "air_temperature       0\n",
       "cloud_coverage        0\n",
       "dew_temperature       0\n",
       "precip_depth_1_hr     0\n",
       "sea_level_pressure    0\n",
       "wind_direction        0\n",
       "wind_speed            0\n",
       "dtype: int64"
      ]
     },
     "execution_count": 30,
     "metadata": {},
     "output_type": "execute_result"
    }
   ],
   "source": [
    "full_test_df.isna().sum()"
   ]
  },
  {
   "cell_type": "markdown",
   "metadata": {},
   "source": [
    "So all the missing values for training and testing data is now filled with the mean of corresponding feature columns."
   ]
  },
  {
   "cell_type": "markdown",
   "metadata": {},
   "source": [
    "### Adding few more features"
   ]
  },
  {
   "cell_type": "markdown",
   "metadata": {},
   "source": [
    "First let's expand timestamp to multiple components"
   ]
  },
  {
   "cell_type": "code",
   "execution_count": 31,
   "metadata": {},
   "outputs": [
    {
     "data": {
      "text/plain": [
       "dtype('O')"
      ]
     },
     "execution_count": 31,
     "metadata": {},
     "output_type": "execute_result"
    }
   ],
   "source": [
    "full_train_df['timestamp'].dtype"
   ]
  },
  {
   "cell_type": "code",
   "execution_count": 32,
   "metadata": {},
   "outputs": [],
   "source": [
    "full_train_df[\"timestamp\"] = pd.to_datetime(full_train_df[\"timestamp\"])\n",
    "full_test_df[\"timestamp\"] = pd.to_datetime(full_test_df[\"timestamp\"])"
   ]
  },
  {
   "cell_type": "code",
   "execution_count": 33,
   "metadata": {},
   "outputs": [],
   "source": [
    "def transform(df):\n",
    "    df['hour'] = np.uint8(df['timestamp'].dt.hour)\n",
    "    df['day'] = np.uint8(df['timestamp'].dt.day)\n",
    "    df['weekday'] = np.uint8(df['timestamp'].dt.weekday)\n",
    "    df['month'] = np.uint8(df['timestamp'].dt.month)\n",
    "    df['year'] = np.uint8(df['timestamp'].dt.year-1900)\n",
    "    \n",
    "    df['square_feet'] = np.log(df['square_feet'])\n",
    "    \n",
    "    return df"
   ]
  },
  {
   "cell_type": "code",
   "execution_count": 34,
   "metadata": {},
   "outputs": [],
   "source": [
    "full_train_df = transform(full_train_df)\n",
    "full_test_df = transform(full_test_df)"
   ]
  },
  {
   "cell_type": "code",
   "execution_count": 35,
   "metadata": {},
   "outputs": [],
   "source": [
    "dates_range = pd.date_range(start='2015-12-31', end='2019-01-01')\n",
    "us_holidays = calendar().holidays(start=dates_range.min(), end=dates_range.max())\n",
    "full_train_df['is_holiday'] = (full_train_df['timestamp'].dt.date.astype('datetime64').isin(us_holidays)).astype(np.int8)\n",
    "full_test_df['is_holiday'] = (full_test_df['timestamp'].dt.date.astype('datetime64').isin(us_holidays)).astype(np.int8)"
   ]
  },
  {
   "cell_type": "code",
   "execution_count": 36,
   "metadata": {},
   "outputs": [],
   "source": [
    "# Assuming 5 days a week for all the given buildings\n",
    "full_train_df.loc[(full_train_df['weekday'] == 5) | (full_train_df['weekday'] == 6) , 'is_holiday'] = 1\n",
    "full_test_df.loc[(full_test_df['weekday']) == 5 | (full_test_df['weekday'] == 6) , 'is_holiday'] = 1"
   ]
  },
  {
   "cell_type": "code",
   "execution_count": 37,
   "metadata": {},
   "outputs": [],
   "source": [
    "# Adding seasons as a feature\n",
    "full_train_df.loc[(full_train_df['month'] >= 3) & (full_train_df['month'] <= 5) , 'season'] = 0\n",
    "full_train_df.loc[(full_train_df['month'] >= 6) & (full_train_df['month'] <= 8) , 'season'] = 1\n",
    "full_train_df.loc[(full_train_df['month'] >= 9) & (full_train_df['month'] <= 11) , 'season'] = 2\n",
    "full_train_df.loc[(full_train_df['month'] == 12) | (full_train_df['month'] == 1) | (full_train_df['month'] == 2) , 'season'] = 3\n",
    "\n",
    "full_test_df.loc[(full_test_df['month'] >= 3) & (full_test_df['month'] <= 5) , 'season'] = 0\n",
    "full_test_df.loc[(full_test_df['month'] >= 6) & (full_test_df['month'] <= 8) , 'season'] = 1\n",
    "full_test_df.loc[(full_test_df['month'] >= 9) & (full_test_df['month'] <= 11) , 'season'] = 2\n",
    "full_test_df.loc[(full_test_df['month'] == 12) | (full_test_df['month'] == 1) | (full_test_df['month'] == 2) , 'season'] = 3"
   ]
  },
  {
   "cell_type": "code",
   "execution_count": 38,
   "metadata": {},
   "outputs": [
    {
     "name": "stdout",
     "output_type": "stream",
     "text": [
      "Shape of training dataset: (20216100, 22)\n",
      "Shape of testing dataset: (41697600, 22)\n"
     ]
    }
   ],
   "source": [
    "full_test_df = full_test_df.drop(['timestamp'], axis=1)\n",
    "full_train_df = full_train_df.drop(['timestamp'], axis=1)\n",
    "print (f'Shape of training dataset: {full_train_df.shape}')\n",
    "print (f'Shape of testing dataset: {full_test_df.shape}')"
   ]
  },
  {
   "cell_type": "code",
   "execution_count": 39,
   "metadata": {},
   "outputs": [
    {
     "data": {
      "text/html": [
       "<div>\n",
       "<style scoped>\n",
       "    .dataframe tbody tr th:only-of-type {\n",
       "        vertical-align: middle;\n",
       "    }\n",
       "\n",
       "    .dataframe tbody tr th {\n",
       "        vertical-align: top;\n",
       "    }\n",
       "\n",
       "    .dataframe thead th {\n",
       "        text-align: right;\n",
       "    }\n",
       "</style>\n",
       "<table border=\"1\" class=\"dataframe\">\n",
       "  <thead>\n",
       "    <tr style=\"text-align: right;\">\n",
       "      <th></th>\n",
       "      <th>building_id</th>\n",
       "      <th>meter</th>\n",
       "      <th>meter_reading</th>\n",
       "      <th>site_id</th>\n",
       "      <th>primary_use</th>\n",
       "      <th>square_feet</th>\n",
       "      <th>year_built</th>\n",
       "      <th>floor_count</th>\n",
       "      <th>air_temperature</th>\n",
       "      <th>cloud_coverage</th>\n",
       "      <th>...</th>\n",
       "      <th>sea_level_pressure</th>\n",
       "      <th>wind_direction</th>\n",
       "      <th>wind_speed</th>\n",
       "      <th>hour</th>\n",
       "      <th>day</th>\n",
       "      <th>weekday</th>\n",
       "      <th>month</th>\n",
       "      <th>year</th>\n",
       "      <th>is_holiday</th>\n",
       "      <th>season</th>\n",
       "    </tr>\n",
       "  </thead>\n",
       "  <tbody>\n",
       "    <tr>\n",
       "      <td>20216095</td>\n",
       "      <td>1444</td>\n",
       "      <td>0</td>\n",
       "      <td>8.750000</td>\n",
       "      <td>15</td>\n",
       "      <td>Entertainment/public assembly</td>\n",
       "      <td>9.884254</td>\n",
       "      <td>1914.0</td>\n",
       "      <td>4.0</td>\n",
       "      <td>1.700195</td>\n",
       "      <td>1.900391</td>\n",
       "      <td>...</td>\n",
       "      <td>1008.5</td>\n",
       "      <td>180.0</td>\n",
       "      <td>8.796875</td>\n",
       "      <td>23</td>\n",
       "      <td>31</td>\n",
       "      <td>5</td>\n",
       "      <td>12</td>\n",
       "      <td>116</td>\n",
       "      <td>1</td>\n",
       "      <td>3.0</td>\n",
       "    </tr>\n",
       "    <tr>\n",
       "      <td>20216096</td>\n",
       "      <td>1445</td>\n",
       "      <td>0</td>\n",
       "      <td>4.825000</td>\n",
       "      <td>15</td>\n",
       "      <td>Education</td>\n",
       "      <td>8.365905</td>\n",
       "      <td>1968.0</td>\n",
       "      <td>4.0</td>\n",
       "      <td>1.700195</td>\n",
       "      <td>1.900391</td>\n",
       "      <td>...</td>\n",
       "      <td>1008.5</td>\n",
       "      <td>180.0</td>\n",
       "      <td>8.796875</td>\n",
       "      <td>23</td>\n",
       "      <td>31</td>\n",
       "      <td>5</td>\n",
       "      <td>12</td>\n",
       "      <td>116</td>\n",
       "      <td>1</td>\n",
       "      <td>3.0</td>\n",
       "    </tr>\n",
       "    <tr>\n",
       "      <td>20216097</td>\n",
       "      <td>1446</td>\n",
       "      <td>0</td>\n",
       "      <td>0.000000</td>\n",
       "      <td>15</td>\n",
       "      <td>Entertainment/public assembly</td>\n",
       "      <td>9.329456</td>\n",
       "      <td>1997.0</td>\n",
       "      <td>4.0</td>\n",
       "      <td>1.700195</td>\n",
       "      <td>1.900391</td>\n",
       "      <td>...</td>\n",
       "      <td>1008.5</td>\n",
       "      <td>180.0</td>\n",
       "      <td>8.796875</td>\n",
       "      <td>23</td>\n",
       "      <td>31</td>\n",
       "      <td>5</td>\n",
       "      <td>12</td>\n",
       "      <td>116</td>\n",
       "      <td>1</td>\n",
       "      <td>3.0</td>\n",
       "    </tr>\n",
       "    <tr>\n",
       "      <td>20216098</td>\n",
       "      <td>1447</td>\n",
       "      <td>0</td>\n",
       "      <td>159.574997</td>\n",
       "      <td>15</td>\n",
       "      <td>Lodging/residential</td>\n",
       "      <td>10.301424</td>\n",
       "      <td>2001.0</td>\n",
       "      <td>4.0</td>\n",
       "      <td>1.700195</td>\n",
       "      <td>1.900391</td>\n",
       "      <td>...</td>\n",
       "      <td>1008.5</td>\n",
       "      <td>180.0</td>\n",
       "      <td>8.796875</td>\n",
       "      <td>23</td>\n",
       "      <td>31</td>\n",
       "      <td>5</td>\n",
       "      <td>12</td>\n",
       "      <td>116</td>\n",
       "      <td>1</td>\n",
       "      <td>3.0</td>\n",
       "    </tr>\n",
       "    <tr>\n",
       "      <td>20216099</td>\n",
       "      <td>1448</td>\n",
       "      <td>0</td>\n",
       "      <td>2.850000</td>\n",
       "      <td>15</td>\n",
       "      <td>Office</td>\n",
       "      <td>11.432485</td>\n",
       "      <td>2001.0</td>\n",
       "      <td>4.0</td>\n",
       "      <td>1.700195</td>\n",
       "      <td>1.900391</td>\n",
       "      <td>...</td>\n",
       "      <td>1008.5</td>\n",
       "      <td>180.0</td>\n",
       "      <td>8.796875</td>\n",
       "      <td>23</td>\n",
       "      <td>31</td>\n",
       "      <td>5</td>\n",
       "      <td>12</td>\n",
       "      <td>116</td>\n",
       "      <td>1</td>\n",
       "      <td>3.0</td>\n",
       "    </tr>\n",
       "  </tbody>\n",
       "</table>\n",
       "<p>5 rows × 22 columns</p>\n",
       "</div>"
      ],
      "text/plain": [
       "          building_id  meter  meter_reading  site_id  \\\n",
       "20216095         1444      0       8.750000       15   \n",
       "20216096         1445      0       4.825000       15   \n",
       "20216097         1446      0       0.000000       15   \n",
       "20216098         1447      0     159.574997       15   \n",
       "20216099         1448      0       2.850000       15   \n",
       "\n",
       "                            primary_use  square_feet  year_built  floor_count  \\\n",
       "20216095  Entertainment/public assembly     9.884254      1914.0          4.0   \n",
       "20216096                      Education     8.365905      1968.0          4.0   \n",
       "20216097  Entertainment/public assembly     9.329456      1997.0          4.0   \n",
       "20216098            Lodging/residential    10.301424      2001.0          4.0   \n",
       "20216099                         Office    11.432485      2001.0          4.0   \n",
       "\n",
       "          air_temperature  cloud_coverage  ...  sea_level_pressure  \\\n",
       "20216095         1.700195        1.900391  ...              1008.5   \n",
       "20216096         1.700195        1.900391  ...              1008.5   \n",
       "20216097         1.700195        1.900391  ...              1008.5   \n",
       "20216098         1.700195        1.900391  ...              1008.5   \n",
       "20216099         1.700195        1.900391  ...              1008.5   \n",
       "\n",
       "          wind_direction  wind_speed  hour  day  weekday  month  year  \\\n",
       "20216095           180.0    8.796875    23   31        5     12   116   \n",
       "20216096           180.0    8.796875    23   31        5     12   116   \n",
       "20216097           180.0    8.796875    23   31        5     12   116   \n",
       "20216098           180.0    8.796875    23   31        5     12   116   \n",
       "20216099           180.0    8.796875    23   31        5     12   116   \n",
       "\n",
       "          is_holiday  season  \n",
       "20216095           1     3.0  \n",
       "20216096           1     3.0  \n",
       "20216097           1     3.0  \n",
       "20216098           1     3.0  \n",
       "20216099           1     3.0  \n",
       "\n",
       "[5 rows x 22 columns]"
      ]
     },
     "execution_count": 39,
     "metadata": {},
     "output_type": "execute_result"
    }
   ],
   "source": [
    "full_train_df.tail()"
   ]
  },
  {
   "cell_type": "code",
   "execution_count": 40,
   "metadata": {},
   "outputs": [
    {
     "data": {
      "text/html": [
       "<div>\n",
       "<style scoped>\n",
       "    .dataframe tbody tr th:only-of-type {\n",
       "        vertical-align: middle;\n",
       "    }\n",
       "\n",
       "    .dataframe tbody tr th {\n",
       "        vertical-align: top;\n",
       "    }\n",
       "\n",
       "    .dataframe thead th {\n",
       "        text-align: right;\n",
       "    }\n",
       "</style>\n",
       "<table border=\"1\" class=\"dataframe\">\n",
       "  <thead>\n",
       "    <tr style=\"text-align: right;\">\n",
       "      <th></th>\n",
       "      <th>building_id</th>\n",
       "      <th>meter</th>\n",
       "      <th>meter_reading</th>\n",
       "      <th>site_id</th>\n",
       "      <th>primary_use</th>\n",
       "      <th>square_feet</th>\n",
       "      <th>year_built</th>\n",
       "      <th>floor_count</th>\n",
       "      <th>air_temperature</th>\n",
       "      <th>cloud_coverage</th>\n",
       "      <th>...</th>\n",
       "      <th>sea_level_pressure</th>\n",
       "      <th>wind_direction</th>\n",
       "      <th>wind_speed</th>\n",
       "      <th>hour</th>\n",
       "      <th>day</th>\n",
       "      <th>weekday</th>\n",
       "      <th>month</th>\n",
       "      <th>year</th>\n",
       "      <th>is_holiday</th>\n",
       "      <th>season</th>\n",
       "    </tr>\n",
       "  </thead>\n",
       "  <tbody>\n",
       "    <tr>\n",
       "      <td>20216095</td>\n",
       "      <td>1444</td>\n",
       "      <td>0</td>\n",
       "      <td>8.750000</td>\n",
       "      <td>15</td>\n",
       "      <td>Entertainment/public assembly</td>\n",
       "      <td>9.884254</td>\n",
       "      <td>1914.0</td>\n",
       "      <td>4.0</td>\n",
       "      <td>1.700195</td>\n",
       "      <td>1.900391</td>\n",
       "      <td>...</td>\n",
       "      <td>1008.5</td>\n",
       "      <td>180.0</td>\n",
       "      <td>8.796875</td>\n",
       "      <td>23</td>\n",
       "      <td>31</td>\n",
       "      <td>5</td>\n",
       "      <td>12</td>\n",
       "      <td>116</td>\n",
       "      <td>1</td>\n",
       "      <td>3.0</td>\n",
       "    </tr>\n",
       "    <tr>\n",
       "      <td>20216096</td>\n",
       "      <td>1445</td>\n",
       "      <td>0</td>\n",
       "      <td>4.825000</td>\n",
       "      <td>15</td>\n",
       "      <td>Education</td>\n",
       "      <td>8.365905</td>\n",
       "      <td>1968.0</td>\n",
       "      <td>4.0</td>\n",
       "      <td>1.700195</td>\n",
       "      <td>1.900391</td>\n",
       "      <td>...</td>\n",
       "      <td>1008.5</td>\n",
       "      <td>180.0</td>\n",
       "      <td>8.796875</td>\n",
       "      <td>23</td>\n",
       "      <td>31</td>\n",
       "      <td>5</td>\n",
       "      <td>12</td>\n",
       "      <td>116</td>\n",
       "      <td>1</td>\n",
       "      <td>3.0</td>\n",
       "    </tr>\n",
       "    <tr>\n",
       "      <td>20216097</td>\n",
       "      <td>1446</td>\n",
       "      <td>0</td>\n",
       "      <td>0.000000</td>\n",
       "      <td>15</td>\n",
       "      <td>Entertainment/public assembly</td>\n",
       "      <td>9.329456</td>\n",
       "      <td>1997.0</td>\n",
       "      <td>4.0</td>\n",
       "      <td>1.700195</td>\n",
       "      <td>1.900391</td>\n",
       "      <td>...</td>\n",
       "      <td>1008.5</td>\n",
       "      <td>180.0</td>\n",
       "      <td>8.796875</td>\n",
       "      <td>23</td>\n",
       "      <td>31</td>\n",
       "      <td>5</td>\n",
       "      <td>12</td>\n",
       "      <td>116</td>\n",
       "      <td>1</td>\n",
       "      <td>3.0</td>\n",
       "    </tr>\n",
       "    <tr>\n",
       "      <td>20216098</td>\n",
       "      <td>1447</td>\n",
       "      <td>0</td>\n",
       "      <td>159.574997</td>\n",
       "      <td>15</td>\n",
       "      <td>Lodging/residential</td>\n",
       "      <td>10.301424</td>\n",
       "      <td>2001.0</td>\n",
       "      <td>4.0</td>\n",
       "      <td>1.700195</td>\n",
       "      <td>1.900391</td>\n",
       "      <td>...</td>\n",
       "      <td>1008.5</td>\n",
       "      <td>180.0</td>\n",
       "      <td>8.796875</td>\n",
       "      <td>23</td>\n",
       "      <td>31</td>\n",
       "      <td>5</td>\n",
       "      <td>12</td>\n",
       "      <td>116</td>\n",
       "      <td>1</td>\n",
       "      <td>3.0</td>\n",
       "    </tr>\n",
       "    <tr>\n",
       "      <td>20216099</td>\n",
       "      <td>1448</td>\n",
       "      <td>0</td>\n",
       "      <td>2.850000</td>\n",
       "      <td>15</td>\n",
       "      <td>Office</td>\n",
       "      <td>11.432485</td>\n",
       "      <td>2001.0</td>\n",
       "      <td>4.0</td>\n",
       "      <td>1.700195</td>\n",
       "      <td>1.900391</td>\n",
       "      <td>...</td>\n",
       "      <td>1008.5</td>\n",
       "      <td>180.0</td>\n",
       "      <td>8.796875</td>\n",
       "      <td>23</td>\n",
       "      <td>31</td>\n",
       "      <td>5</td>\n",
       "      <td>12</td>\n",
       "      <td>116</td>\n",
       "      <td>1</td>\n",
       "      <td>3.0</td>\n",
       "    </tr>\n",
       "  </tbody>\n",
       "</table>\n",
       "<p>5 rows × 22 columns</p>\n",
       "</div>"
      ],
      "text/plain": [
       "          building_id  meter  meter_reading  site_id  \\\n",
       "20216095         1444      0       8.750000       15   \n",
       "20216096         1445      0       4.825000       15   \n",
       "20216097         1446      0       0.000000       15   \n",
       "20216098         1447      0     159.574997       15   \n",
       "20216099         1448      0       2.850000       15   \n",
       "\n",
       "                            primary_use  square_feet  year_built  floor_count  \\\n",
       "20216095  Entertainment/public assembly     9.884254      1914.0          4.0   \n",
       "20216096                      Education     8.365905      1968.0          4.0   \n",
       "20216097  Entertainment/public assembly     9.329456      1997.0          4.0   \n",
       "20216098            Lodging/residential    10.301424      2001.0          4.0   \n",
       "20216099                         Office    11.432485      2001.0          4.0   \n",
       "\n",
       "          air_temperature  cloud_coverage  ...  sea_level_pressure  \\\n",
       "20216095         1.700195        1.900391  ...              1008.5   \n",
       "20216096         1.700195        1.900391  ...              1008.5   \n",
       "20216097         1.700195        1.900391  ...              1008.5   \n",
       "20216098         1.700195        1.900391  ...              1008.5   \n",
       "20216099         1.700195        1.900391  ...              1008.5   \n",
       "\n",
       "          wind_direction  wind_speed  hour  day  weekday  month  year  \\\n",
       "20216095           180.0    8.796875    23   31        5     12   116   \n",
       "20216096           180.0    8.796875    23   31        5     12   116   \n",
       "20216097           180.0    8.796875    23   31        5     12   116   \n",
       "20216098           180.0    8.796875    23   31        5     12   116   \n",
       "20216099           180.0    8.796875    23   31        5     12   116   \n",
       "\n",
       "          is_holiday  season  \n",
       "20216095           1     3.0  \n",
       "20216096           1     3.0  \n",
       "20216097           1     3.0  \n",
       "20216098           1     3.0  \n",
       "20216099           1     3.0  \n",
       "\n",
       "[5 rows x 22 columns]"
      ]
     },
     "execution_count": 40,
     "metadata": {},
     "output_type": "execute_result"
    }
   ],
   "source": [
    "full_train_df.tail()"
   ]
  },
  {
   "cell_type": "code",
   "execution_count": 41,
   "metadata": {},
   "outputs": [
    {
     "name": "stdout",
     "output_type": "stream",
     "text": [
      "Mem. usage decreased to 1002.54 Mb (18.8% reduction)\n",
      "Mem. usage decreased to 2067.83 Mb (18.8% reduction)\n"
     ]
    }
   ],
   "source": [
    "## Reducing memory\n",
    "full_train_df = reduce_mem_usage(full_train_df)\n",
    "full_test_df = reduce_mem_usage(full_test_df)"
   ]
  },
  {
   "cell_type": "code",
   "execution_count": 42,
   "metadata": {},
   "outputs": [],
   "source": [
    "def degToCompass(num):\n",
    "    val=int((num/22.5)+.5)\n",
    "    arr=[i for i in range(0,16)]\n",
    "    return arr[(val % 16)]"
   ]
  },
  {
   "cell_type": "code",
   "execution_count": 43,
   "metadata": {},
   "outputs": [],
   "source": [
    "full_train_df['wind_direction'] = full_train_df['wind_direction'].apply(degToCompass)"
   ]
  },
  {
   "cell_type": "code",
   "execution_count": 44,
   "metadata": {},
   "outputs": [],
   "source": [
    "beaufort = [(0, 0, 0.3), (1, 0.3, 1.6), (2, 1.6, 3.4), (3, 3.4, 5.5), (4, 5.5, 8), (5, 8, 10.8), (6, 10.8, 13.9), \n",
    "          (7, 13.9, 17.2), (8, 17.2, 20.8), (9, 20.8, 24.5), (10, 24.5, 28.5), (11, 28.5, 33), (12, 33, 200)]\n",
    "\n",
    "for item in beaufort:\n",
    "    full_train_df.loc[(full_train_df['wind_speed']>=item[1]) & (full_train_df['wind_speed']<item[2]), 'beaufort_scale'] = item[0]"
   ]
  },
  {
   "cell_type": "code",
   "execution_count": 45,
   "metadata": {},
   "outputs": [],
   "source": [
    "le = LabelEncoder()\n",
    "full_train_df['primary_use'] = le.fit_transform(full_train_df['primary_use'])\n",
    "\n",
    "categoricals = ['site_id', 'building_id', 'primary_use', 'hour', 'weekday', 'meter',  'wind_direction', 'season', 'is_holiday']\n",
    "drop_cols = ['sea_level_pressure', 'wind_speed']\n",
    "numericals = ['square_feet', 'year_built', 'air_temperature', 'cloud_coverage',\n",
    "              'dew_temperature', 'precip_depth_1_hr', 'floor_count', 'beaufort_scale']\n",
    "\n",
    "feat_cols = categoricals + numericals"
   ]
  },
  {
   "cell_type": "code",
   "execution_count": 46,
   "metadata": {},
   "outputs": [
    {
     "data": {
      "text/html": [
       "<div>\n",
       "<style scoped>\n",
       "    .dataframe tbody tr th:only-of-type {\n",
       "        vertical-align: middle;\n",
       "    }\n",
       "\n",
       "    .dataframe tbody tr th {\n",
       "        vertical-align: top;\n",
       "    }\n",
       "\n",
       "    .dataframe thead th {\n",
       "        text-align: right;\n",
       "    }\n",
       "</style>\n",
       "<table border=\"1\" class=\"dataframe\">\n",
       "  <thead>\n",
       "    <tr style=\"text-align: right;\">\n",
       "      <th></th>\n",
       "      <th>building_id</th>\n",
       "      <th>meter</th>\n",
       "      <th>meter_reading</th>\n",
       "      <th>site_id</th>\n",
       "      <th>primary_use</th>\n",
       "      <th>square_feet</th>\n",
       "      <th>year_built</th>\n",
       "      <th>floor_count</th>\n",
       "      <th>air_temperature</th>\n",
       "      <th>cloud_coverage</th>\n",
       "      <th>...</th>\n",
       "      <th>wind_direction</th>\n",
       "      <th>wind_speed</th>\n",
       "      <th>hour</th>\n",
       "      <th>day</th>\n",
       "      <th>weekday</th>\n",
       "      <th>month</th>\n",
       "      <th>year</th>\n",
       "      <th>is_holiday</th>\n",
       "      <th>season</th>\n",
       "      <th>beaufort_scale</th>\n",
       "    </tr>\n",
       "  </thead>\n",
       "  <tbody>\n",
       "    <tr>\n",
       "      <td>20216095</td>\n",
       "      <td>1444</td>\n",
       "      <td>0</td>\n",
       "      <td>8.750000</td>\n",
       "      <td>15</td>\n",
       "      <td>1</td>\n",
       "      <td>9.882812</td>\n",
       "      <td>1914.0</td>\n",
       "      <td>4.0</td>\n",
       "      <td>1.700195</td>\n",
       "      <td>1.900391</td>\n",
       "      <td>...</td>\n",
       "      <td>8</td>\n",
       "      <td>8.796875</td>\n",
       "      <td>23</td>\n",
       "      <td>31</td>\n",
       "      <td>5</td>\n",
       "      <td>12</td>\n",
       "      <td>116</td>\n",
       "      <td>1</td>\n",
       "      <td>3.0</td>\n",
       "      <td>5.0</td>\n",
       "    </tr>\n",
       "    <tr>\n",
       "      <td>20216096</td>\n",
       "      <td>1445</td>\n",
       "      <td>0</td>\n",
       "      <td>4.825000</td>\n",
       "      <td>15</td>\n",
       "      <td>0</td>\n",
       "      <td>8.367188</td>\n",
       "      <td>1968.0</td>\n",
       "      <td>4.0</td>\n",
       "      <td>1.700195</td>\n",
       "      <td>1.900391</td>\n",
       "      <td>...</td>\n",
       "      <td>8</td>\n",
       "      <td>8.796875</td>\n",
       "      <td>23</td>\n",
       "      <td>31</td>\n",
       "      <td>5</td>\n",
       "      <td>12</td>\n",
       "      <td>116</td>\n",
       "      <td>1</td>\n",
       "      <td>3.0</td>\n",
       "      <td>5.0</td>\n",
       "    </tr>\n",
       "    <tr>\n",
       "      <td>20216097</td>\n",
       "      <td>1446</td>\n",
       "      <td>0</td>\n",
       "      <td>0.000000</td>\n",
       "      <td>15</td>\n",
       "      <td>1</td>\n",
       "      <td>9.328125</td>\n",
       "      <td>1997.0</td>\n",
       "      <td>4.0</td>\n",
       "      <td>1.700195</td>\n",
       "      <td>1.900391</td>\n",
       "      <td>...</td>\n",
       "      <td>8</td>\n",
       "      <td>8.796875</td>\n",
       "      <td>23</td>\n",
       "      <td>31</td>\n",
       "      <td>5</td>\n",
       "      <td>12</td>\n",
       "      <td>116</td>\n",
       "      <td>1</td>\n",
       "      <td>3.0</td>\n",
       "      <td>5.0</td>\n",
       "    </tr>\n",
       "    <tr>\n",
       "      <td>20216098</td>\n",
       "      <td>1447</td>\n",
       "      <td>0</td>\n",
       "      <td>159.574997</td>\n",
       "      <td>15</td>\n",
       "      <td>4</td>\n",
       "      <td>10.304688</td>\n",
       "      <td>2001.0</td>\n",
       "      <td>4.0</td>\n",
       "      <td>1.700195</td>\n",
       "      <td>1.900391</td>\n",
       "      <td>...</td>\n",
       "      <td>8</td>\n",
       "      <td>8.796875</td>\n",
       "      <td>23</td>\n",
       "      <td>31</td>\n",
       "      <td>5</td>\n",
       "      <td>12</td>\n",
       "      <td>116</td>\n",
       "      <td>1</td>\n",
       "      <td>3.0</td>\n",
       "      <td>5.0</td>\n",
       "    </tr>\n",
       "    <tr>\n",
       "      <td>20216099</td>\n",
       "      <td>1448</td>\n",
       "      <td>0</td>\n",
       "      <td>2.850000</td>\n",
       "      <td>15</td>\n",
       "      <td>6</td>\n",
       "      <td>11.429688</td>\n",
       "      <td>2001.0</td>\n",
       "      <td>4.0</td>\n",
       "      <td>1.700195</td>\n",
       "      <td>1.900391</td>\n",
       "      <td>...</td>\n",
       "      <td>8</td>\n",
       "      <td>8.796875</td>\n",
       "      <td>23</td>\n",
       "      <td>31</td>\n",
       "      <td>5</td>\n",
       "      <td>12</td>\n",
       "      <td>116</td>\n",
       "      <td>1</td>\n",
       "      <td>3.0</td>\n",
       "      <td>5.0</td>\n",
       "    </tr>\n",
       "  </tbody>\n",
       "</table>\n",
       "<p>5 rows × 23 columns</p>\n",
       "</div>"
      ],
      "text/plain": [
       "          building_id  meter  meter_reading  site_id  primary_use  \\\n",
       "20216095         1444      0       8.750000       15            1   \n",
       "20216096         1445      0       4.825000       15            0   \n",
       "20216097         1446      0       0.000000       15            1   \n",
       "20216098         1447      0     159.574997       15            4   \n",
       "20216099         1448      0       2.850000       15            6   \n",
       "\n",
       "          square_feet  year_built  floor_count  air_temperature  \\\n",
       "20216095     9.882812      1914.0          4.0         1.700195   \n",
       "20216096     8.367188      1968.0          4.0         1.700195   \n",
       "20216097     9.328125      1997.0          4.0         1.700195   \n",
       "20216098    10.304688      2001.0          4.0         1.700195   \n",
       "20216099    11.429688      2001.0          4.0         1.700195   \n",
       "\n",
       "          cloud_coverage  ...  wind_direction  wind_speed  hour  day  weekday  \\\n",
       "20216095        1.900391  ...               8    8.796875    23   31        5   \n",
       "20216096        1.900391  ...               8    8.796875    23   31        5   \n",
       "20216097        1.900391  ...               8    8.796875    23   31        5   \n",
       "20216098        1.900391  ...               8    8.796875    23   31        5   \n",
       "20216099        1.900391  ...               8    8.796875    23   31        5   \n",
       "\n",
       "          month  year  is_holiday  season  beaufort_scale  \n",
       "20216095     12   116           1     3.0             5.0  \n",
       "20216096     12   116           1     3.0             5.0  \n",
       "20216097     12   116           1     3.0             5.0  \n",
       "20216098     12   116           1     3.0             5.0  \n",
       "20216099     12   116           1     3.0             5.0  \n",
       "\n",
       "[5 rows x 23 columns]"
      ]
     },
     "execution_count": 46,
     "metadata": {},
     "output_type": "execute_result"
    }
   ],
   "source": [
    "full_train_df.tail()"
   ]
  },
  {
   "cell_type": "code",
   "execution_count": 47,
   "metadata": {},
   "outputs": [],
   "source": [
    "target = np.log1p(full_train_df[\"meter_reading\"])\n",
    "del full_train_df[\"meter_reading\"] \n",
    "full_train_df = full_train_df.drop(drop_cols, axis = 1)"
   ]
  },
  {
   "cell_type": "code",
   "execution_count": 48,
   "metadata": {},
   "outputs": [],
   "source": [
    "# Save the testing dataset to freeup the RAM. We'll read after training\n",
    "full_test_df.to_pickle('full_test_df.pkl')\n",
    "del full_test_df"
   ]
  },
  {
   "cell_type": "code",
   "execution_count": 49,
   "metadata": {},
   "outputs": [
    {
     "data": {
      "text/plain": [
       "22"
      ]
     },
     "execution_count": 49,
     "metadata": {},
     "output_type": "execute_result"
    }
   ],
   "source": [
    "gc.collect()"
   ]
  },
  {
   "cell_type": "code",
   "execution_count": 50,
   "metadata": {},
   "outputs": [
    {
     "name": "stdout",
     "output_type": "stream",
     "text": [
      "Mem. usage decreased to 732.62 Mb (34.5% reduction)\n"
     ]
    }
   ],
   "source": [
    "full_train_df = reduce_mem_usage(full_train_df)"
   ]
  },
  {
   "cell_type": "code",
   "execution_count": 51,
   "metadata": {},
   "outputs": [
    {
     "name": "stderr",
     "output_type": "stream",
     "text": [
      "/opt/conda/lib/python3.6/site-packages/lightgbm/basic.py:1205: UserWarning: Using categorical_feature in Dataset.\n",
      "  warnings.warn('Using categorical_feature in Dataset.')\n",
      "/opt/conda/lib/python3.6/site-packages/lightgbm/basic.py:762: UserWarning: categorical_feature in param dict is overridden.\n",
      "  warnings.warn('categorical_feature in param dict is overridden.')\n"
     ]
    },
    {
     "name": "stdout",
     "output_type": "stream",
     "text": [
      "Training until validation scores don't improve for 100 rounds.\n",
      "[100]\ttraining's rmse: 0.987944\tvalid_1's rmse: 0.988913\n",
      "[200]\ttraining's rmse: 0.939084\tvalid_1's rmse: 0.940598\n",
      "[300]\ttraining's rmse: 0.913017\tvalid_1's rmse: 0.915167\n",
      "[400]\ttraining's rmse: 0.895205\tvalid_1's rmse: 0.897965\n",
      "[500]\ttraining's rmse: 0.880232\tvalid_1's rmse: 0.883576\n",
      "Did not meet early stopping. Best iteration is:\n",
      "[500]\ttraining's rmse: 0.880232\tvalid_1's rmse: 0.883576\n",
      "Training until validation scores don't improve for 100 rounds.\n",
      "[100]\ttraining's rmse: 0.985721\tvalid_1's rmse: 0.98602\n",
      "[200]\ttraining's rmse: 0.936119\tvalid_1's rmse: 0.936695\n",
      "[300]\ttraining's rmse: 0.910683\tvalid_1's rmse: 0.91181\n",
      "[400]\ttraining's rmse: 0.892744\tvalid_1's rmse: 0.89431\n",
      "[500]\ttraining's rmse: 0.879073\tvalid_1's rmse: 0.881262\n",
      "Did not meet early stopping. Best iteration is:\n",
      "[500]\ttraining's rmse: 0.879073\tvalid_1's rmse: 0.881262\n",
      "Training until validation scores don't improve for 100 rounds.\n",
      "[100]\ttraining's rmse: 0.974875\tvalid_1's rmse: 0.974034\n",
      "[200]\ttraining's rmse: 0.926134\tvalid_1's rmse: 0.925916\n",
      "[300]\ttraining's rmse: 0.907068\tvalid_1's rmse: 0.907662\n",
      "[400]\ttraining's rmse: 0.889907\tvalid_1's rmse: 0.891062\n",
      "[500]\ttraining's rmse: 0.879011\tvalid_1's rmse: 0.880764\n",
      "Did not meet early stopping. Best iteration is:\n",
      "[500]\ttraining's rmse: 0.879011\tvalid_1's rmse: 0.880764\n",
      "Training until validation scores don't improve for 100 rounds.\n",
      "[100]\ttraining's rmse: 0.985759\tvalid_1's rmse: 0.98905\n",
      "[200]\ttraining's rmse: 0.933095\tvalid_1's rmse: 0.937044\n",
      "[300]\ttraining's rmse: 0.909866\tvalid_1's rmse: 0.914343\n",
      "[400]\ttraining's rmse: 0.895071\tvalid_1's rmse: 0.900108\n",
      "[500]\ttraining's rmse: 0.881842\tvalid_1's rmse: 0.887507\n",
      "Did not meet early stopping. Best iteration is:\n",
      "[500]\ttraining's rmse: 0.881842\tvalid_1's rmse: 0.887507\n"
     ]
    }
   ],
   "source": [
    "params = {\n",
    "            'boosting_type': 'gbdt',\n",
    "            'objective': 'regression',\n",
    "            'metric': {'rmse'},\n",
    "            'subsample': 0.25,\n",
    "            'subsample_freq': 1,\n",
    "            'learning_rate': 0.4,\n",
    "            'num_leaves': 18,\n",
    "            'feature_fraction': 0.9,\n",
    "            'lambda_l1': 1,  \n",
    "            'lambda_l2': 1\n",
    "            }\n",
    "\n",
    "folds = 4\n",
    "seed = 666\n",
    "\n",
    "kf = StratifiedKFold(n_splits=folds, shuffle=True, random_state=seed)\n",
    "\n",
    "models = []\n",
    "for train_index, val_index in kf.split(full_train_df, full_train_df['building_id']):\n",
    "    train_X = full_train_df[feat_cols].iloc[train_index]\n",
    "    val_X = full_train_df[feat_cols].iloc[val_index]\n",
    "    train_y = target.iloc[train_index]\n",
    "    val_y = target.iloc[val_index]\n",
    "    lgb_train = lgb.Dataset(train_X, train_y, categorical_feature=categoricals)\n",
    "    lgb_eval = lgb.Dataset(val_X, val_y, categorical_feature=categoricals)\n",
    "    gbm = lgb.train(params,\n",
    "                lgb_train,\n",
    "                num_boost_round=500,\n",
    "                valid_sets=(lgb_train, lgb_eval),\n",
    "                early_stopping_rounds=100,\n",
    "                verbose_eval = 100)\n",
    "    models.append(gbm)"
   ]
  },
  {
   "cell_type": "code",
   "execution_count": 52,
   "metadata": {},
   "outputs": [
    {
     "data": {
      "text/plain": [
       "216"
      ]
     },
     "execution_count": 52,
     "metadata": {},
     "output_type": "execute_result"
    }
   ],
   "source": [
    "del full_train_df, train_X, val_X, lgb_train, lgb_eval, train_y, val_y, target\n",
    "gc.collect()"
   ]
  },
  {
   "cell_type": "code",
   "execution_count": 53,
   "metadata": {},
   "outputs": [],
   "source": [
    "full_test_df = pd.read_pickle('full_test_df.pkl')"
   ]
  },
  {
   "cell_type": "code",
   "execution_count": 54,
   "metadata": {},
   "outputs": [],
   "source": [
    "full_test_df[\"primary_use\"] = le.transform(full_test_df[\"primary_use\"])\n",
    "full_test_df['wind_direction'] = full_test_df['wind_direction'].apply(degToCompass)"
   ]
  },
  {
   "cell_type": "code",
   "execution_count": 55,
   "metadata": {},
   "outputs": [],
   "source": [
    "for item in beaufort:\n",
    "    full_test_df.loc[(full_test_df['wind_speed']>=item[1]) & (full_test_df['wind_speed']<item[2]), 'beaufort_scale'] = item[0]"
   ]
  },
  {
   "cell_type": "code",
   "execution_count": 56,
   "metadata": {},
   "outputs": [],
   "source": [
    "full_test_df = full_test_df[feat_cols]"
   ]
  },
  {
   "cell_type": "code",
   "execution_count": 57,
   "metadata": {},
   "outputs": [
    {
     "name": "stderr",
     "output_type": "stream",
     "text": [
      "100%|██████████| 834/834 [27:39<00:00,  1.99s/it]\n"
     ]
    }
   ],
   "source": [
    "i=0\n",
    "res=[]\n",
    "step_size = 50000\n",
    "for j in tqdm(range(int(np.ceil(full_test_df.shape[0]/50000)))):\n",
    "    res.append(np.expm1(sum([model.predict(full_test_df.iloc[i:i+step_size]) for model in models])/folds))\n",
    "    i+=step_size"
   ]
  },
  {
   "cell_type": "code",
   "execution_count": 58,
   "metadata": {},
   "outputs": [],
   "source": [
    "res = np.concatenate(res)"
   ]
  },
  {
   "cell_type": "code",
   "execution_count": 59,
   "metadata": {},
   "outputs": [
    {
     "data": {
      "text/html": [
       "<div>\n",
       "<style scoped>\n",
       "    .dataframe tbody tr th:only-of-type {\n",
       "        vertical-align: middle;\n",
       "    }\n",
       "\n",
       "    .dataframe tbody tr th {\n",
       "        vertical-align: top;\n",
       "    }\n",
       "\n",
       "    .dataframe thead th {\n",
       "        text-align: right;\n",
       "    }\n",
       "</style>\n",
       "<table border=\"1\" class=\"dataframe\">\n",
       "  <thead>\n",
       "    <tr style=\"text-align: right;\">\n",
       "      <th></th>\n",
       "      <th>row_id</th>\n",
       "      <th>meter_reading</th>\n",
       "    </tr>\n",
       "  </thead>\n",
       "  <tbody>\n",
       "    <tr>\n",
       "      <td>0</td>\n",
       "      <td>0</td>\n",
       "      <td>1.888577</td>\n",
       "    </tr>\n",
       "    <tr>\n",
       "      <td>1</td>\n",
       "      <td>1</td>\n",
       "      <td>1.353396</td>\n",
       "    </tr>\n",
       "    <tr>\n",
       "      <td>2</td>\n",
       "      <td>2</td>\n",
       "      <td>0.308291</td>\n",
       "    </tr>\n",
       "    <tr>\n",
       "      <td>3</td>\n",
       "      <td>3</td>\n",
       "      <td>2.874905</td>\n",
       "    </tr>\n",
       "    <tr>\n",
       "      <td>4</td>\n",
       "      <td>4</td>\n",
       "      <td>7.014469</td>\n",
       "    </tr>\n",
       "    <tr>\n",
       "      <td>...</td>\n",
       "      <td>...</td>\n",
       "      <td>...</td>\n",
       "    </tr>\n",
       "    <tr>\n",
       "      <td>41697595</td>\n",
       "      <td>41697595</td>\n",
       "      <td>7.145852</td>\n",
       "    </tr>\n",
       "    <tr>\n",
       "      <td>41697596</td>\n",
       "      <td>41697596</td>\n",
       "      <td>4.867592</td>\n",
       "    </tr>\n",
       "    <tr>\n",
       "      <td>41697597</td>\n",
       "      <td>41697597</td>\n",
       "      <td>2.725946</td>\n",
       "    </tr>\n",
       "    <tr>\n",
       "      <td>41697598</td>\n",
       "      <td>41697598</td>\n",
       "      <td>157.306162</td>\n",
       "    </tr>\n",
       "    <tr>\n",
       "      <td>41697599</td>\n",
       "      <td>41697599</td>\n",
       "      <td>3.470250</td>\n",
       "    </tr>\n",
       "  </tbody>\n",
       "</table>\n",
       "<p>41697600 rows × 2 columns</p>\n",
       "</div>"
      ],
      "text/plain": [
       "            row_id  meter_reading\n",
       "0                0       1.888577\n",
       "1                1       1.353396\n",
       "2                2       0.308291\n",
       "3                3       2.874905\n",
       "4                4       7.014469\n",
       "...            ...            ...\n",
       "41697595  41697595       7.145852\n",
       "41697596  41697596       4.867592\n",
       "41697597  41697597       2.725946\n",
       "41697598  41697598     157.306162\n",
       "41697599  41697599       3.470250\n",
       "\n",
       "[41697600 rows x 2 columns]"
      ]
     },
     "execution_count": 59,
     "metadata": {},
     "output_type": "execute_result"
    }
   ],
   "source": [
    "submission = pd.read_csv('/kaggle/input/ashrae-energy-prediction/sample_submission.csv')\n",
    "submission['meter_reading'] = res\n",
    "submission.loc[submission['meter_reading']<0, 'meter_reading'] = 0\n",
    "submission.to_csv('submission_fe_lgbm.csv', index=False)\n",
    "submission"
   ]
  },
  {
   "cell_type": "markdown",
   "metadata": {},
   "source": [
    "### Help me improve the kernel by your valuable suggestions and please upvote if you find this helpful!"
   ]
  }
 ],
 "metadata": {
  "kernelspec": {
   "display_name": "Python 3",
   "language": "python",
   "name": "python3"
  },
  "language_info": {
   "codemirror_mode": {
    "name": "ipython",
    "version": 3
   },
   "file_extension": ".py",
   "mimetype": "text/x-python",
   "name": "python",
   "nbconvert_exporter": "python",
   "pygments_lexer": "ipython3",
   "version": "3.6.6"
  }
 },
 "nbformat": 4,
 "nbformat_minor": 1
}
