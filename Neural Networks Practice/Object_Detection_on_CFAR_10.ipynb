{
  "nbformat": 4,
  "nbformat_minor": 0,
  "metadata": {
    "colab": {
      "name": "Object Detection on CFAR-10.ipynb",
      "version": "0.3.2",
      "provenance": [],
      "collapsed_sections": [],
      "include_colab_link": true
    },
    "kernelspec": {
      "name": "python3",
      "display_name": "Python 3"
    }
  },
  "cells": [
    {
      "cell_type": "markdown",
      "metadata": {
        "id": "view-in-github",
        "colab_type": "text"
      },
      "source": [
        "<a href=\"https://colab.research.google.com/github/Kaushal28/ML/blob/master/Object_Detection_on_CFAR_10.ipynb\" target=\"_parent\"><img src=\"https://colab.research.google.com/assets/colab-badge.svg\" alt=\"Open In Colab\"/></a>"
      ]
    },
    {
      "cell_type": "code",
      "metadata": {
        "id": "gD8N4pYSu-zB",
        "colab_type": "code",
        "outputId": "c473f584-0b41-4796-985c-1b345eb0918e",
        "colab": {
          "base_uri": "https://localhost:8080/",
          "height": 34
        }
      },
      "source": [
        "# imports\n",
        "import numpy as np\n",
        "import pickle\n",
        "from keras.models import Sequential\n",
        "from keras.layers import Dense\n",
        "import matplotlib.pyplot as plt"
      ],
      "execution_count": 0,
      "outputs": [
        {
          "output_type": "stream",
          "text": [
            "Using TensorFlow backend.\n"
          ],
          "name": "stderr"
        }
      ]
    },
    {
      "cell_type": "code",
      "metadata": {
        "id": "IxNxdUUh58aU",
        "colab_type": "code",
        "outputId": "b5b77f3a-706b-449f-9bc0-065a0b813872",
        "colab": {
          "base_uri": "https://localhost:8080/",
          "height": 454
        }
      },
      "source": [
        "!wget cifar.tar.gz https://www.cs.toronto.edu/~kriz/cifar-10-python.tar.gz\n",
        "!tar zxvf cifar-10-python.tar.gz -C ."
      ],
      "execution_count": 0,
      "outputs": [
        {
          "output_type": "stream",
          "text": [
            "--2019-06-06 04:47:28--  http://cifar.tar.gz/\n",
            "Resolving cifar.tar.gz (cifar.tar.gz)... failed: Name or service not known.\n",
            "wget: unable to resolve host address ‘cifar.tar.gz’\n",
            "--2019-06-06 04:47:28--  https://www.cs.toronto.edu/~kriz/cifar-10-python.tar.gz\n",
            "Resolving www.cs.toronto.edu (www.cs.toronto.edu)... 128.100.3.30\n",
            "Connecting to www.cs.toronto.edu (www.cs.toronto.edu)|128.100.3.30|:443... connected.\n",
            "HTTP request sent, awaiting response... 200 OK\n",
            "Length: 170498071 (163M) [application/x-gzip]\n",
            "Saving to: ‘cifar-10-python.tar.gz’\n",
            "\n",
            "cifar-10-python.tar 100%[===================>] 162.60M  74.8MB/s    in 2.2s    \n",
            "\n",
            "2019-06-06 04:47:30 (74.8 MB/s) - ‘cifar-10-python.tar.gz’ saved [170498071/170498071]\n",
            "\n",
            "FINISHED --2019-06-06 04:47:30--\n",
            "Total wall clock time: 2.5s\n",
            "Downloaded: 1 files, 163M in 2.2s (74.8 MB/s)\n",
            "cifar-10-batches-py/\n",
            "cifar-10-batches-py/data_batch_4\n",
            "cifar-10-batches-py/readme.html\n",
            "cifar-10-batches-py/test_batch\n",
            "cifar-10-batches-py/data_batch_3\n",
            "cifar-10-batches-py/batches.meta\n",
            "cifar-10-batches-py/data_batch_2\n",
            "cifar-10-batches-py/data_batch_5\n",
            "cifar-10-batches-py/data_batch_1\n"
          ],
          "name": "stdout"
        }
      ]
    },
    {
      "cell_type": "code",
      "metadata": {
        "id": "DvyPEEWuvWKj",
        "colab_type": "code",
        "colab": {}
      },
      "source": [
        "# function to read the dateset\n",
        "def unpickle(file):\n",
        "    with open(file, 'rb') as fo:\n",
        "        dict = pickle.load(fo, encoding='bytes')\n",
        "    return dict"
      ],
      "execution_count": 0,
      "outputs": []
    },
    {
      "cell_type": "code",
      "metadata": {
        "id": "5rhoWjfWwuyv",
        "colab_type": "code",
        "outputId": "34f0d86f-7c74-4116-b5ba-49992c08c050",
        "colab": {
          "base_uri": "https://localhost:8080/",
          "height": 202
        }
      },
      "source": [
        "# read the meta file and print possible labels\n",
        "meta_data = unpickle('cifar-10-batches-py/batches.meta')\n",
        "print ('Possible Labels')\n",
        "for index in range(10):\n",
        "  print ('{0} - {1}'.format(index, str(meta_data[b'label_names'][index])[2:-1]))"
      ],
      "execution_count": 0,
      "outputs": [
        {
          "output_type": "stream",
          "text": [
            "Possible Labels\n",
            "0 - airplane\n",
            "1 - automobile\n",
            "2 - bird\n",
            "3 - cat\n",
            "4 - deer\n",
            "5 - dog\n",
            "6 - frog\n",
            "7 - horse\n",
            "8 - ship\n",
            "9 - truck\n"
          ],
          "name": "stdout"
        }
      ]
    },
    {
      "cell_type": "code",
      "metadata": {
        "id": "o_uRrx3dxCY9",
        "colab_type": "code",
        "colab": {}
      },
      "source": [
        "# Process the training and testing data and make in Neural Network comfortable\n",
        "\n",
        "def process_batch(batch_path, a, b):\n",
        "  batch = unpickle(batch_path)\n",
        "  imgs = np.array(batch[b'data'])\n",
        "  labels = np.array(batch[b'labels'])\n",
        "  \n",
        "  if (a.size == 0 and b.size == 0):\n",
        "    a = imgs\n",
        "    b = labels\n",
        "  else:\n",
        "    a = np.r_[a, imgs]\n",
        "    b = np.r_[b, labels]\n",
        "  \n",
        "  return a, b\n",
        "  \n",
        "  print (imgs[0])\n",
        "#   print (labels.shape)\n",
        "\n",
        "X_train, y_train, X_test, y_test = np.array([]), np.array([]), np.array([]), np.array([])\n",
        "\n",
        "X_train, y_train = process_batch('cifar-10-batches-py/data_batch_1', X_train, y_train)\n",
        "X_train, y_train = process_batch('cifar-10-batches-py/data_batch_2', X_train, y_train)\n",
        "X_train, y_train = process_batch('cifar-10-batches-py/data_batch_3', X_train, y_train)\n",
        "X_train, y_train = process_batch('cifar-10-batches-py/data_batch_4', X_train, y_train)\n",
        "X_train, y_train = process_batch('cifar-10-batches-py/data_batch_5', X_train, y_train)\n",
        "\n",
        "X_test, y_test = process_batch('cifar-10-batches-py/test_batch', X_test, y_test)\n",
        "\n",
        "y_train = np.eye(10)[y_train]\n",
        "y_test = np.eye(10)[y_test]\n",
        "\n",
        "# Normalize the data\n",
        "X_train = X_train / 255.0\n",
        "X_test = X_test / 255.0"
      ],
      "execution_count": 0,
      "outputs": []
    },
    {
      "cell_type": "code",
      "metadata": {
        "id": "NhlDu4GvariP",
        "colab_type": "code",
        "outputId": "3e415f4a-66a2-40b3-dce4-72b7f05385a2",
        "colab": {
          "base_uri": "https://localhost:8080/",
          "height": 281
        }
      },
      "source": [
        "# # Plot few images from training set\n",
        "count = 0\n",
        "for index in range (7, 13):\n",
        "  plt.subplot(2, 3, count + 1)\n",
        "  plt.title(str(meta_data[b'label_names'][np.argmax(y_train[index], axis = 0)])[2:-1], color = 'white')\n",
        "  plt.imshow(X_train[index].reshape(3, 32, 32).transpose([1, 2, 0]))\n",
        "  count += 1\n",
        "  \n",
        "plt.show()"
      ],
      "execution_count": 0,
      "outputs": [
        {
          "output_type": "display_data",
          "data": {
            "image/png": "[encoded data removed]",
            "text/plain": [
              "<Figure size 432x288 with 6 Axes>"
            ]
          },
          "metadata": {
            "tags": []
          }
        }
      ]
    },
    {
      "cell_type": "code",
      "metadata": {
        "id": "yOFg-uoVzzf0",
        "colab_type": "code",
        "outputId": "c0f0556d-3552-449a-e073-ce213cd397b3",
        "colab": {
          "base_uri": "https://localhost:8080/",
          "height": 3514
        }
      },
      "source": [
        "\n",
        "# Define the model and train it\n",
        "model = Sequential()\n",
        "\n",
        "model.add(Dense(units = 3072, input_dim = 3072, activation = 'relu'))\n",
        "model.add(Dense(units = 1024, activation = 'relu'))\n",
        "model.add(Dense(units = 525, activation = 'relu'))\n",
        "model.add(Dense(units = 150, activation = 'relu'))\n",
        "model.add(Dense(units = 125, activation = 'relu'))\n",
        "model.add(Dense(units = 95, activation = 'relu'))\n",
        "model.add(Dense(units = 10, activation = 'softmax'))\n",
        "\n",
        "model.compile(loss='categorical_crossentropy',\n",
        "              optimizer='adam',\n",
        "              metrics=['accuracy'])\n",
        "\n",
        "model.fit(X_train, y_train, epochs=100, batch_size=12000)"
      ],
      "execution_count": 0,
      "outputs": [
        {
          "output_type": "stream",
          "text": [
            "WARNING:tensorflow:From /usr/local/lib/python3.6/dist-packages/tensorflow/python/framework/op_def_library.py:263: colocate_with (from tensorflow.python.framework.ops) is deprecated and will be removed in a future version.\n",
            "Instructions for updating:\n",
            "Colocations handled automatically by placer.\n",
            "WARNING:tensorflow:From /usr/local/lib/python3.6/dist-packages/tensorflow/python/ops/math_ops.py:3066: to_int32 (from tensorflow.python.ops.math_ops) is deprecated and will be removed in a future version.\n",
            "Instructions for updating:\n",
            "Use tf.cast instead.\n",
            "Epoch 1/100\n",
            "50000/50000 [==============================] - 53s 1ms/step - loss: 2.5554 - acc: 0.1094\n",
            "Epoch 2/100\n",
            "50000/50000 [==============================] - 51s 1ms/step - loss: 2.4527 - acc: 0.1043\n",
            "Epoch 3/100\n",
            "50000/50000 [==============================] - 51s 1ms/step - loss: 2.2991 - acc: 0.1315\n",
            "Epoch 4/100\n",
            "50000/50000 [==============================] - 51s 1ms/step - loss: 2.2541 - acc: 0.1461\n",
            "Epoch 5/100\n",
            "50000/50000 [==============================] - 51s 1ms/step - loss: 2.2038 - acc: 0.1609\n",
            "Epoch 6/100\n",
            "50000/50000 [==============================] - 51s 1ms/step - loss: 2.1452 - acc: 0.1893\n",
            "Epoch 7/100\n",
            "50000/50000 [==============================] - 51s 1ms/step - loss: 2.0935 - acc: 0.2118\n",
            "Epoch 8/100\n",
            "50000/50000 [==============================] - 51s 1ms/step - loss: 2.0451 - acc: 0.2306\n",
            "Epoch 9/100\n",
            "50000/50000 [==============================] - 51s 1ms/step - loss: 2.0018 - acc: 0.2459\n",
            "Epoch 10/100\n",
            "50000/50000 [==============================] - 51s 1ms/step - loss: 1.9747 - acc: 0.2692\n",
            "Epoch 11/100\n",
            "50000/50000 [==============================] - 51s 1ms/step - loss: 1.9584 - acc: 0.2788\n",
            "Epoch 12/100\n",
            "50000/50000 [==============================] - 51s 1ms/step - loss: 1.9256 - acc: 0.2951\n",
            "Epoch 13/100\n",
            "50000/50000 [==============================] - 51s 1ms/step - loss: 1.9021 - acc: 0.3086\n",
            "Epoch 14/100\n",
            "50000/50000 [==============================] - 51s 1ms/step - loss: 1.8760 - acc: 0.3176\n",
            "Epoch 15/100\n",
            "50000/50000 [==============================] - 51s 1ms/step - loss: 1.8567 - acc: 0.3277\n",
            "Epoch 16/100\n",
            "50000/50000 [==============================] - 51s 1ms/step - loss: 1.8728 - acc: 0.3238\n",
            "Epoch 17/100\n",
            "50000/50000 [==============================] - 51s 1ms/step - loss: 1.8264 - acc: 0.3380\n",
            "Epoch 18/100\n",
            "50000/50000 [==============================] - 51s 1ms/step - loss: 1.8012 - acc: 0.3465\n",
            "Epoch 19/100\n",
            "50000/50000 [==============================] - 51s 1ms/step - loss: 1.7815 - acc: 0.3565\n",
            "Epoch 20/100\n",
            "50000/50000 [==============================] - 51s 1ms/step - loss: 1.8160 - acc: 0.3436\n",
            "Epoch 21/100\n",
            "50000/50000 [==============================] - 51s 1ms/step - loss: 1.7783 - acc: 0.3563\n",
            "Epoch 22/100\n",
            "50000/50000 [==============================] - 51s 1ms/step - loss: 1.7483 - acc: 0.3677\n",
            "Epoch 23/100\n",
            "50000/50000 [==============================] - 51s 1ms/step - loss: 1.7345 - acc: 0.3753\n",
            "Epoch 24/100\n",
            "50000/50000 [==============================] - 51s 1ms/step - loss: 1.7261 - acc: 0.3801\n",
            "Epoch 25/100\n",
            "50000/50000 [==============================] - 51s 1ms/step - loss: 1.7156 - acc: 0.3792\n",
            "Epoch 26/100\n",
            "50000/50000 [==============================] - 51s 1ms/step - loss: 1.7179 - acc: 0.3801\n",
            "Epoch 27/100\n",
            "50000/50000 [==============================] - 51s 1ms/step - loss: 1.6884 - acc: 0.3921\n",
            "Epoch 28/100\n",
            "50000/50000 [==============================] - 51s 1ms/step - loss: 1.6855 - acc: 0.3947\n",
            "Epoch 29/100\n",
            "50000/50000 [==============================] - 51s 1ms/step - loss: 1.6811 - acc: 0.3956\n",
            "Epoch 30/100\n",
            "50000/50000 [==============================] - 51s 1ms/step - loss: 1.6657 - acc: 0.4024\n",
            "Epoch 31/100\n",
            "50000/50000 [==============================] - 51s 1ms/step - loss: 1.6543 - acc: 0.4065\n",
            "Epoch 32/100\n",
            "50000/50000 [==============================] - 51s 1ms/step - loss: 1.6379 - acc: 0.4158\n",
            "Epoch 33/100\n",
            "50000/50000 [==============================] - 51s 1ms/step - loss: 1.6266 - acc: 0.4187\n",
            "Epoch 34/100\n",
            "50000/50000 [==============================] - 51s 1ms/step - loss: 1.6849 - acc: 0.3959\n",
            "Epoch 35/100\n",
            "50000/50000 [==============================] - 51s 1ms/step - loss: 1.6437 - acc: 0.4130\n",
            "Epoch 36/100\n",
            "50000/50000 [==============================] - 51s 1ms/step - loss: 1.6176 - acc: 0.4220\n",
            "Epoch 37/100\n",
            "50000/50000 [==============================] - 51s 1ms/step - loss: 1.6053 - acc: 0.4271\n",
            "Epoch 38/100\n",
            "50000/50000 [==============================] - 51s 1ms/step - loss: 1.5878 - acc: 0.4335\n",
            "Epoch 39/100\n",
            "50000/50000 [==============================] - 51s 1ms/step - loss: 1.6159 - acc: 0.4240\n",
            "Epoch 40/100\n",
            "50000/50000 [==============================] - 51s 1ms/step - loss: 1.5943 - acc: 0.4329\n",
            "Epoch 41/100\n",
            "50000/50000 [==============================] - 51s 1ms/step - loss: 1.5727 - acc: 0.4392\n",
            "Epoch 42/100\n",
            "50000/50000 [==============================] - 51s 1ms/step - loss: 1.6007 - acc: 0.4298\n",
            "Epoch 43/100\n",
            "50000/50000 [==============================] - 51s 1ms/step - loss: 1.5906 - acc: 0.4330\n",
            "Epoch 44/100\n",
            "50000/50000 [==============================] - 51s 1ms/step - loss: 1.5528 - acc: 0.4490\n",
            "Epoch 45/100\n",
            "50000/50000 [==============================] - 51s 1ms/step - loss: 1.5376 - acc: 0.4531\n",
            "Epoch 46/100\n",
            "50000/50000 [==============================] - 51s 1ms/step - loss: 1.5423 - acc: 0.4497\n",
            "Epoch 47/100\n",
            "50000/50000 [==============================] - 51s 1ms/step - loss: 1.5153 - acc: 0.4638\n",
            "Epoch 48/100\n",
            "50000/50000 [==============================] - 51s 1ms/step - loss: 1.5164 - acc: 0.4629\n",
            "Epoch 49/100\n",
            "50000/50000 [==============================] - 51s 1ms/step - loss: 1.5227 - acc: 0.4593\n",
            "Epoch 50/100\n",
            "50000/50000 [==============================] - 51s 1ms/step - loss: 1.5051 - acc: 0.4654\n",
            "Epoch 51/100\n",
            "50000/50000 [==============================] - 51s 1ms/step - loss: 1.4947 - acc: 0.4685\n",
            "Epoch 52/100\n",
            "50000/50000 [==============================] - 51s 1ms/step - loss: 1.5742 - acc: 0.4403\n",
            "Epoch 53/100\n",
            "50000/50000 [==============================] - 51s 1ms/step - loss: 1.5306 - acc: 0.4571\n",
            "Epoch 54/100\n",
            "50000/50000 [==============================] - 51s 1ms/step - loss: 1.5161 - acc: 0.4610\n",
            "Epoch 55/100\n",
            "50000/50000 [==============================] - 51s 1ms/step - loss: 1.4993 - acc: 0.4657\n",
            "Epoch 56/100\n",
            "50000/50000 [==============================] - 50s 1ms/step - loss: 1.4800 - acc: 0.4746\n",
            "Epoch 57/100\n",
            "50000/50000 [==============================] - 50s 1ms/step - loss: 1.4581 - acc: 0.4826\n",
            "Epoch 58/100\n",
            "50000/50000 [==============================] - 51s 1ms/step - loss: 1.4607 - acc: 0.4803\n",
            "Epoch 59/100\n",
            "50000/50000 [==============================] - 51s 1ms/step - loss: 1.4606 - acc: 0.4809\n",
            "Epoch 60/100\n",
            "50000/50000 [==============================] - 51s 1ms/step - loss: 1.4394 - acc: 0.4891\n",
            "Epoch 61/100\n",
            "50000/50000 [==============================] - 51s 1ms/step - loss: 1.4550 - acc: 0.4859\n",
            "Epoch 62/100\n",
            "50000/50000 [==============================] - 51s 1ms/step - loss: 1.4639 - acc: 0.4782\n",
            "Epoch 63/100\n",
            "50000/50000 [==============================] - 51s 1ms/step - loss: 1.4435 - acc: 0.4889\n",
            "Epoch 64/100\n",
            "50000/50000 [==============================] - 51s 1ms/step - loss: 1.4544 - acc: 0.4812\n",
            "Epoch 65/100\n",
            "50000/50000 [==============================] - 51s 1ms/step - loss: 1.4317 - acc: 0.4889\n",
            "Epoch 66/100\n",
            "50000/50000 [==============================] - 51s 1ms/step - loss: 1.4098 - acc: 0.4988\n",
            "Epoch 67/100\n",
            "50000/50000 [==============================] - 51s 1ms/step - loss: 1.4061 - acc: 0.4985\n",
            "Epoch 68/100\n",
            "50000/50000 [==============================] - 51s 1ms/step - loss: 1.3987 - acc: 0.5026\n",
            "Epoch 69/100\n",
            "50000/50000 [==============================] - 51s 1ms/step - loss: 1.4026 - acc: 0.5016\n",
            "Epoch 70/100\n",
            "50000/50000 [==============================] - 51s 1ms/step - loss: 1.3847 - acc: 0.5095\n",
            "Epoch 71/100\n",
            "50000/50000 [==============================] - 51s 1ms/step - loss: 1.3707 - acc: 0.5147\n",
            "Epoch 72/100\n",
            "50000/50000 [==============================] - 51s 1ms/step - loss: 1.3819 - acc: 0.5093\n",
            "Epoch 73/100\n",
            "50000/50000 [==============================] - 51s 1ms/step - loss: 1.4056 - acc: 0.4998\n",
            "Epoch 74/100\n",
            "50000/50000 [==============================] - 51s 1ms/step - loss: 1.3681 - acc: 0.5167\n",
            "Epoch 75/100\n",
            "50000/50000 [==============================] - 51s 1ms/step - loss: 1.3577 - acc: 0.5200\n",
            "Epoch 76/100\n",
            "50000/50000 [==============================] - 51s 1ms/step - loss: 1.3514 - acc: 0.5227\n",
            "Epoch 77/100\n",
            "50000/50000 [==============================] - 51s 1ms/step - loss: 1.3467 - acc: 0.5212\n",
            "Epoch 78/100\n",
            "50000/50000 [==============================] - 51s 1ms/step - loss: 1.3456 - acc: 0.5228\n",
            "Epoch 79/100\n",
            "50000/50000 [==============================] - 51s 1ms/step - loss: 1.3183 - acc: 0.5344\n",
            "Epoch 80/100\n",
            "50000/50000 [==============================] - 51s 1ms/step - loss: 1.3416 - acc: 0.5213\n",
            "Epoch 81/100\n",
            "50000/50000 [==============================] - 51s 1ms/step - loss: 1.3559 - acc: 0.5200\n",
            "Epoch 82/100\n",
            "50000/50000 [==============================] - 51s 1ms/step - loss: 1.3345 - acc: 0.5270\n",
            "Epoch 83/100\n",
            "50000/50000 [==============================] - 51s 1ms/step - loss: 1.3421 - acc: 0.5243\n",
            "Epoch 84/100\n",
            "50000/50000 [==============================] - 51s 1ms/step - loss: 1.3106 - acc: 0.5380\n",
            "Epoch 85/100\n",
            "50000/50000 [==============================] - 51s 1ms/step - loss: 1.3650 - acc: 0.5151\n",
            "Epoch 86/100\n",
            "50000/50000 [==============================] - 51s 1ms/step - loss: 1.3654 - acc: 0.5174\n",
            "Epoch 87/100\n",
            "50000/50000 [==============================] - 51s 1ms/step - loss: 1.3202 - acc: 0.5324\n",
            "Epoch 88/100\n",
            "50000/50000 [==============================] - 51s 1ms/step - loss: 1.3383 - acc: 0.5252\n",
            "Epoch 89/100\n",
            "50000/50000 [==============================] - 51s 1ms/step - loss: 1.4272 - acc: 0.4912\n",
            "Epoch 90/100\n",
            "50000/50000 [==============================] - 51s 1ms/step - loss: 1.3728 - acc: 0.5125\n",
            "Epoch 91/100\n",
            "50000/50000 [==============================] - 51s 1ms/step - loss: 1.3409 - acc: 0.5194\n",
            "Epoch 92/100\n",
            "50000/50000 [==============================] - 51s 1ms/step - loss: 1.3021 - acc: 0.5345\n",
            "Epoch 93/100\n",
            "50000/50000 [==============================] - 51s 1ms/step - loss: 1.2814 - acc: 0.5472\n",
            "Epoch 94/100\n",
            "50000/50000 [==============================] - 51s 1ms/step - loss: 1.2643 - acc: 0.5525\n",
            "Epoch 95/100\n",
            "50000/50000 [==============================] - 51s 1ms/step - loss: 1.2682 - acc: 0.5510\n",
            "Epoch 96/100\n",
            "50000/50000 [==============================] - 51s 1ms/step - loss: 1.2467 - acc: 0.5592\n",
            "Epoch 97/100\n",
            "50000/50000 [==============================] - 51s 1ms/step - loss: 1.2260 - acc: 0.5657\n",
            "Epoch 98/100\n",
            "50000/50000 [==============================] - 51s 1ms/step - loss: 1.2342 - acc: 0.5606\n",
            "Epoch 99/100\n",
            "50000/50000 [==============================] - 51s 1ms/step - loss: 1.2356 - acc: 0.5628\n",
            "Epoch 100/100\n",
            "50000/50000 [==============================] - 51s 1ms/step - loss: 1.2194 - acc: 0.5687\n"
          ],
          "name": "stdout"
        },
        {
          "output_type": "execute_result",
          "data": {
            "text/plain": [
              "<keras.callbacks.History at 0x7f70aaafee48>"
            ]
          },
          "metadata": {
            "tags": []
          },
          "execution_count": 8
        }
      ]
    },
    {
      "cell_type": "markdown",
      "metadata": {
        "id": "oRbSQ_TmJooR",
        "colab_type": "text"
      },
      "source": [
        ""
      ]
    },
    {
      "cell_type": "code",
      "metadata": {
        "id": "4mVF7KxyUuSo",
        "colab_type": "code",
        "outputId": "10e80329-d560-460b-9c6b-598af9ff6e62",
        "colab": {
          "base_uri": "https://localhost:8080/",
          "height": 67
        }
      },
      "source": [
        "# Evaluate the mode\n",
        "print (model.evaluate(X_test, y_test))\n",
        "\n",
        "wrong = 0\n",
        "\n",
        "for x, y in zip(X_test, y_test):\n",
        "  if not (np.argmax(model.predict(x.reshape(1, -1))) == np.argmax(y)):\n",
        "    wrong += 1\n",
        "    \n",
        "print ('Manually calculated accuracy: {0}'.format((1 - wrong / 10000) * 100))\n"
      ],
      "execution_count": 0,
      "outputs": [
        {
          "output_type": "stream",
          "text": [
            "10000/10000 [==============================] - 10s 995us/step\n",
            "[1.3971461105346679, 0.5097]\n",
            "Manually calculated accuracy: 50.970000000000006\n"
          ],
          "name": "stdout"
        }
      ]
    },
    {
      "cell_type": "code",
      "metadata": {
        "id": "-Llp-AGSU6nR",
        "colab_type": "code",
        "outputId": "954613b6-00b8-4077-c540-6a7881e6d517",
        "colab": {
          "base_uri": "https://localhost:8080/",
          "height": 281
        }
      },
      "source": [
        "# Plot few predications\n",
        "count = 0\n",
        "for index in range (13, 19):\n",
        "  plt.subplot(2, 3, count + 1)\n",
        "  string = str(meta_data[b'label_names'][np.argmax(model.predict(X_test[index].reshape(1, -1)))])[2:-1]\n",
        "  plt.title(string, color = 'white')\n",
        "  plt.imshow(X_train[index].reshape(3, 32, 32).transpose([1, 2, 0]))\n",
        "  count += 1\n",
        "  \n",
        "plt.show()"
      ],
      "execution_count": 0,
      "outputs": [
        {
          "output_type": "display_data",
          "data": {
            "image/png": "[encoded data removed]",
            "text/plain": [
              "<Figure size 432x288 with 6 Axes>"
            ]
          },
          "metadata": {
            "tags": []
          }
        }
      ]
    },
    {
      "cell_type": "code",
      "metadata": {
        "id": "8Guy-zwZgcy9",
        "colab_type": "code",
        "colab": {}
      },
      "source": [
        ""
      ],
      "execution_count": 0,
      "outputs": []
    }
  ]
}