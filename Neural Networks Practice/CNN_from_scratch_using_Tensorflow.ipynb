{
  "nbformat": 4,
  "nbformat_minor": 0,
  "metadata": {
    "colab": {
      "name": "CNN from scratch using Tensorflow.ipynb",
      "version": "0.3.2",
      "provenance": [],
      "collapsed_sections": []
    },
    "kernelspec": {
      "name": "python3",
      "display_name": "Python 3"
    }
  },
  "cells": [
    {
      "cell_type": "code",
      "metadata": {
        "id": "MDXv68N0oVAp",
        "colab_type": "code",
        "colab": {}
      },
      "source": [
        "import tensorflow as tf\n",
        "import numpy as np\n",
        "import pandas as pd\n",
        "from sklearn.model_selection import train_test_split\n",
        "import matplotlib.pyplot as plt"
      ],
      "execution_count": 0,
      "outputs": []
    },
    {
      "cell_type": "code",
      "metadata": {
        "id": "CMJoRkMPofZ-",
        "colab_type": "code",
        "colab": {
          "base_uri": "https://localhost:8080/",
          "height": 34
        },
        "outputId": "750b967d-96ca-4825-9827-f2532f5c3df1"
      },
      "source": [
        "from google.colab import drive\n",
        "drive.mount('/content/drive')"
      ],
      "execution_count": 2,
      "outputs": [
        {
          "output_type": "stream",
          "text": [
            "Drive already mounted at /content/drive; to attempt to forcibly remount, call drive.mount(\"/content/drive\", force_remount=True).\n"
          ],
          "name": "stdout"
        }
      ]
    },
    {
      "cell_type": "code",
      "metadata": {
        "id": "bi8lq3u2ohn5",
        "colab_type": "code",
        "colab": {}
      },
      "source": [
        "# !cp /content/drive/My\\ Drive/Datasets/digit-recognizer.zip /content\n",
        "# !unzip digit-recognizer.zip\n",
        "# ! rm -rf sample_data digit-recognizer.zip\n",
        "# !rm -rf test.csv\n",
        "# !rm -rf sample_submission.csv"
      ],
      "execution_count": 0,
      "outputs": []
    },
    {
      "cell_type": "code",
      "metadata": {
        "id": "44Whf9HHo2gm",
        "colab_type": "code",
        "colab": {}
      },
      "source": [
        "data_df = pd.read_csv('train.csv')"
      ],
      "execution_count": 0,
      "outputs": []
    },
    {
      "cell_type": "code",
      "metadata": {
        "id": "7wmv9etspO4N",
        "colab_type": "code",
        "colab": {}
      },
      "source": [
        "X = data_df.drop(['label'], axis = 1)\n",
        "Y = data_df['label']"
      ],
      "execution_count": 0,
      "outputs": []
    },
    {
      "cell_type": "code",
      "metadata": {
        "id": "VTMCLCEvq0UY",
        "colab_type": "code",
        "colab": {}
      },
      "source": [
        "# Normalize the input images\n",
        "X = X.to_numpy() / 255.0\n",
        "# One hot encode the labels\n",
        "Y = pd.get_dummies(Y.to_numpy()).to_numpy()"
      ],
      "execution_count": 0,
      "outputs": []
    },
    {
      "cell_type": "code",
      "metadata": {
        "id": "yo2tYdBqza-E",
        "colab_type": "code",
        "colab": {}
      },
      "source": [
        "# Resize in shape of (m, h, w, c) for CNN\n",
        "X = X.reshape(-1, 28, 28, 1)"
      ],
      "execution_count": 0,
      "outputs": []
    },
    {
      "cell_type": "code",
      "metadata": {
        "id": "WRN4pNA2pR_t",
        "colab_type": "code",
        "outputId": "debdb896-9161-4145-e925-a27923f7d57a",
        "colab": {
          "base_uri": "https://localhost:8080/",
          "height": 50
        }
      },
      "source": [
        "print (X.shape)\n",
        "print (Y.shape)"
      ],
      "execution_count": 8,
      "outputs": [
        {
          "output_type": "stream",
          "text": [
            "(42000, 28, 28, 1)\n",
            "(42000, 10)\n"
          ],
          "name": "stdout"
        }
      ]
    },
    {
      "cell_type": "code",
      "metadata": {
        "id": "Wx8jLyyrqwrU",
        "colab_type": "code",
        "colab": {}
      },
      "source": [
        "X_train, X_test, Y_train, Y_test = train_test_split(X, Y, test_size = 0.12)"
      ],
      "execution_count": 0,
      "outputs": []
    },
    {
      "cell_type": "code",
      "metadata": {
        "id": "XbxmcMNyrFEm",
        "colab_type": "code",
        "outputId": "a7dd7abc-b2ff-4943-a335-fff09f9d600a",
        "colab": {
          "base_uri": "https://localhost:8080/",
          "height": 84
        }
      },
      "source": [
        "print (X_train.shape)\n",
        "print (Y_train.shape)\n",
        "print (X_test.shape)\n",
        "print (Y_test.shape)"
      ],
      "execution_count": 10,
      "outputs": [
        {
          "output_type": "stream",
          "text": [
            "(36960, 28, 28, 1)\n",
            "(36960, 10)\n",
            "(5040, 28, 28, 1)\n",
            "(5040, 10)\n"
          ],
          "name": "stdout"
        }
      ]
    },
    {
      "cell_type": "code",
      "metadata": {
        "id": "J6VmbaerHtNW",
        "colab_type": "code",
        "colab": {}
      },
      "source": [
        "n_classes, image_size, n_channels = 10, 28, 1"
      ],
      "execution_count": 0,
      "outputs": []
    },
    {
      "cell_type": "code",
      "metadata": {
        "id": "OnBQbNV4rcuq",
        "colab_type": "code",
        "colab": {}
      },
      "source": [
        "def conv_relu(inp, filter_size, n_filter):\n",
        "    weights = tf.get_variable(name = 'weights', shape = [filter_size, filter_size, inp.shape[3], n_filter], initializer=tf.contrib.layers.xavier_initializer())\n",
        "    biases = tf.get_variable(name = 'biases', shape = [n_filter], initializer = tf.zeros_initializer())\n",
        "    conv = tf.nn.conv2d(input = inp, filter = weights, strides = [1, 1, 1, 1], padding = 'SAME')\n",
        "    return tf.nn.relu(tf.add(conv, biases))  \n",
        "\n",
        "def max_pool(inp, filter_size):\n",
        "    return tf.nn.max_pool(value=inp, ksize=[1, filter_size, filter_size, 1], strides=[1, filter_size, filter_size, 1], padding = 'SAME')\n",
        "\n",
        "def fully_connected(inp, n_neurons):\n",
        "    weights = tf.get_variable(name = 'weights', shape = [inp.shape[1], n_neurons], initializer=tf.contrib.layers.xavier_initializer())\n",
        "    biases = tf.get_variable(name = 'biases', shape = [n_neurons], initializer=tf.zeros_initializer())\n",
        "\n",
        "    return tf.add(tf.matmul(inp, weights), biases)\n",
        "\n",
        "def fully_connected_relu(inp, n_neurons):\n",
        "    return tf.nn.relu(fully_connected(inp, n_neurons))\n",
        "\n",
        "def dropout(inp, dropout_rate = 0.2):\n",
        "    return tf.nn.dropout(x=inp, rate=dropout_rate, seed = 28) # rate is 1 - keep_prob"
      ],
      "execution_count": 0,
      "outputs": []
    },
    {
      "cell_type": "code",
      "metadata": {
        "id": "0gRgAFVdG1J1",
        "colab_type": "code",
        "colab": {}
      },
      "source": [
        "# Get placeholders for X and Y with batch size as variable parameter\n",
        "def get_placeholders():\n",
        "    X = tf.placeholder(name='X', shape=[None, image_size, image_size, n_channels], dtype=tf.float32)\n",
        "    Y = tf.placeholder(name='Y', shape = [None, n_classes], dtype=tf.float32) # One hot encoded size of Y\n",
        "    is_training = tf.placeholder(name='is_training', dtype=tf.bool)\n",
        "    return X, Y, is_training"
      ],
      "execution_count": 0,
      "outputs": []
    },
    {
      "cell_type": "code",
      "metadata": {
        "id": "-jEa4F7K_y3K",
        "colab_type": "code",
        "colab": {}
      },
      "source": [
        "def cnn_forward_propagate(data, is_training):\n",
        "\n",
        "    # Adding first convolution layer\n",
        "    with tf.variable_scope(name_or_scope='conv0', reuse=tf.AUTO_REUSE):\n",
        "        conv = conv_relu(data, filter_size=3, n_filter=64)\n",
        "        pool = max_pool(conv, filter_size = 2)\n",
        "        # pool = tf.cond(is_training, lambda: dropout(pool, 0.2), lambda: pool)\n",
        "        \n",
        "    # # Adding second convolution layer\n",
        "    # with tf.variable_scope(name_or_scope='conv1', reuse=tf.AUTO_REUSE):\n",
        "    #     conv = conv_relu(pool, filter_size = 2, n_filter = 64)\n",
        "    #     pool = max_pool(conv, filter_size = 2)\n",
        "    #     # pool = tf.cond(is_training, lambda: dropout(pool, 0.2), lambda: pool)\n",
        "\n",
        "    # # Adding third convolution layer\n",
        "    # with tf.variable_scope(name_or_scope='conv2'):\n",
        "    #     conv = conv_relu(pool, filter_size=2, n_filter=128)\n",
        "    #     pool = max_pool(conv, filter_size=2)\n",
        "    #     # pool = tf.cond(is_training, lambda: dropout(pool, 0.2), lambda: pool)\n",
        "\n",
        "    # Flatten the output for inject it in fully connected layer\n",
        "    shapes = pool.get_shape().as_list()\n",
        "    flattened = tf.reshape(pool, [-1, shapes[1] * shapes[2] * shapes[3]])\n",
        "    \n",
        "    # Adding fully connected layer of size 16\n",
        "    with tf.variable_scope(name_or_scope='fc0', reuse=tf.AUTO_REUSE):\n",
        "        fc_relu = fully_connected_relu(flattened, 32)\n",
        "    \n",
        "    # # Adding another fully connected layer with 16 neurons\n",
        "    # with tf.variable_scope(name_or_scope='fc1', reuse=tf.AUTO_REUSE):\n",
        "    #     fc_relu = fully_connected_relu(fc_relu, 16)\n",
        "\n",
        "    # Output layer with 10 neurons (n_classes = 10)\n",
        "    with tf.variable_scope(name_or_scope='output', reuse=tf.AUTO_REUSE):\n",
        "        logits = fully_connected(fc_relu, n_classes)\n",
        "    \n",
        "    return logits"
      ],
      "execution_count": 0,
      "outputs": []
    },
    {
      "cell_type": "code",
      "metadata": {
        "id": "hZNL30YLI_T1",
        "colab_type": "code",
        "colab": {}
      },
      "source": [
        "def calculate_loss(labels, logits):\n",
        "    return tf.reduce_mean(tf.nn.softmax_cross_entropy_with_logits_v2(labels=labels, logits=logits))"
      ],
      "execution_count": 0,
      "outputs": []
    },
    {
      "cell_type": "code",
      "metadata": {
        "id": "KyeGAJWIut7u",
        "colab_type": "code",
        "colab": {}
      },
      "source": [
        "def get_random_minibatches(X, Y, minibatch_size = 64, seed = 28):\n",
        "    import math\n",
        "    # First set the seed\n",
        "    np.random.seed(seed)\n",
        "    m = X.shape[0]\n",
        "    minibatches = []\n",
        "\n",
        "    # Then get the permutation of indices and using that, shuffel X and Y\n",
        "    permutation = list(np.random.permutation(m))\n",
        "    X = X[permutation, :, :, :]\n",
        "    Y = Y[permutation, :].reshape(m, Y.shape[1])\n",
        "\n",
        "    # Now get minibatches from shuffeled X and Y\n",
        "    n_complete_minibatches = math.floor(m / minibatch_size)\n",
        "\n",
        "    # Get all complete minibatches\n",
        "    for index in range(n_complete_minibatches):\n",
        "        minibatch_X = X[index * minibatch_size : (index + 1) * minibatch_size, :, :, :]\n",
        "        minibatch_Y = Y[index * minibatch_size : (index + 1) * minibatch_size, :]\n",
        "        minibatches.append((minibatch_X, minibatch_Y))\n",
        "\n",
        "    # Now handle the case of last incomplete minibatch\n",
        "    if not (m % minibatch_size == 0):\n",
        "        minibatch_X = X[n_complete_minibatches * minibatch_size: , :, :, :]\n",
        "        minibatch_Y = Y[n_complete_minibatches * minibatch_size: , :]\n",
        "        minibatches.append((minibatch_X, minibatch_Y))\n",
        "\n",
        "    return minibatches"
      ],
      "execution_count": 0,
      "outputs": []
    },
    {
      "cell_type": "code",
      "metadata": {
        "id": "oXnf7IZaFY5a",
        "colab_type": "code",
        "colab": {}
      },
      "source": [
        "def cnn_model(X_train, Y_train, X_test, Y_test, learning_rate = 0.02, n_epochs = 10, minibatch_size = 32):\n",
        "\n",
        "    tf.reset_default_graph()\n",
        "\n",
        "    X, Y, is_training = get_placeholders()\n",
        "    \n",
        "    # Forward propagate through CNN\n",
        "    logits = cnn_forward_propagate(X, is_training=is_training)\n",
        "\n",
        "    # Calculate the cost\n",
        "    cost = calculate_loss(Y, logits)\n",
        "\n",
        "    # Define optimizer\n",
        "    optimizer = tf.train.AdamOptimizer(learning_rate=learning_rate).minimize(cost)\n",
        "\n",
        "    # Initialize all tf variables\n",
        "    init = tf.global_variables_initializer()\n",
        "    costs, m = [], X_train.shape[0]\n",
        "\n",
        "    with tf.Session() as session:\n",
        "        session.run(init)\n",
        "        \n",
        "        for epoch in range(n_epochs):\n",
        "            n_minibatches, batch_cost = m // minibatch_size, 0\n",
        "            minibatches = get_random_minibatches(X_train, Y_train, minibatch_size)\n",
        "            for minibatch in minibatches:\n",
        "                xb, yb = minibatch\n",
        "                _, minibatch_cost = session.run([optimizer, cost], feed_dict = {X: xb, Y: yb, is_training: True})\n",
        "                batch_cost += minibatch_cost / n_minibatches\n",
        "            costs.append(batch_cost)\n",
        "            print (f'Costs after {epoch} epochs: {batch_cost}')\n",
        "        \n",
        "        x1 = tf.placeholder(name = 'x1', shape = [None, 28, 28, 1], dtype = tf.float32)\n",
        "        y1 = tf.placeholder(name = 'y1', shape = [None, 10], dtype = tf.float32)\n",
        "        \n",
        "        correct_preds = tf.equal(tf.argmax(cnn_forward_propagate(x1, tf.constant(False, dtype=tf.bool)), axis = 1), tf.argmax(y1, axis = 1))\n",
        "        accuracy = tf.reduce_mean(tf.cast(correct_preds, dtype= 'float'))\n",
        "        train_acc = session.run(accuracy, feed_dict = {x1: X_train, y1: Y_train})\n",
        "        test_acc = session.run(accuracy, feed_dict = {x1: X_test, y1: Y_test})\n",
        "\n",
        "        print (f'Training set Accuracy: {train_acc * 100}')\n",
        "        print (f'Dev set Accuracy: {test_acc * 100}')\n",
        "\n",
        "        return costs"
      ],
      "execution_count": 0,
      "outputs": []
    },
    {
      "cell_type": "code",
      "metadata": {
        "id": "9fN0F24clBSO",
        "colab_type": "code",
        "colab": {
          "base_uri": "https://localhost:8080/",
          "height": 218
        },
        "outputId": "42c2a4d2-48b7-4fdb-f381-ee48e33ddcd1"
      },
      "source": [
        "costs = cnn_model(X_train, Y_train, X_test, Y_test, learning_rate=0.02)"
      ],
      "execution_count": 35,
      "outputs": [
        {
          "output_type": "stream",
          "text": [
            "Costs after 0 epochs: 0.2106031302860595\n",
            "Costs after 1 epochs: 0.11452936458479998\n",
            "Costs after 2 epochs: 0.10847841451986238\n",
            "Costs after 3 epochs: 0.09341808373282345\n",
            "Costs after 4 epochs: 0.09205394123252807\n",
            "Costs after 5 epochs: 0.08836513661407262\n",
            "Costs after 6 epochs: 0.082242335551657\n",
            "Costs after 7 epochs: 0.09018467126903362\n",
            "Costs after 8 epochs: 0.08045991059465857\n",
            "Costs after 9 epochs: 0.08266968180889328\n",
            "Training set Accuracy: 98.82846474647522\n",
            "Dev set Accuracy: 96.50793671607971\n"
          ],
          "name": "stdout"
        }
      ]
    },
    {
      "cell_type": "code",
      "metadata": {
        "id": "ww0bqlovzfNp",
        "colab_type": "code",
        "colab": {
          "base_uri": "https://localhost:8080/",
          "height": 269
        },
        "outputId": "140e1990-ad2a-4f3c-e185-f57db2bd7fdd"
      },
      "source": [
        "plt.plot(costs)\n",
        "plt.show()"
      ],
      "execution_count": 36,
      "outputs": [
        {
          "output_type": "display_data",
          "data": {
            "image/png": "[encoded data removed]",
            "text/plain": [
              "<Figure size 432x288 with 1 Axes>"
            ]
          },
          "metadata": {
            "tags": []
          }
        }
      ]
    }
  ]
}