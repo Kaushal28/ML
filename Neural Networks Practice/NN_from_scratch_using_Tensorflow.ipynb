{
  "nbformat": 4,
  "nbformat_minor": 0,
  "metadata": {
    "colab": {
      "name": "NN from scratch using Tensorflow.ipynb",
      "version": "0.3.2",
      "provenance": [],
      "collapsed_sections": []
    },
    "kernelspec": {
      "name": "python3",
      "display_name": "Python 3"
    },
    "accelerator": "GPU"
  },
  "cells": [
    {
      "cell_type": "code",
      "metadata": {
        "id": "3fWqzh13pXL9",
        "colab_type": "code",
        "colab": {}
      },
      "source": [
        "# Imports\n",
        "import tensorflow as tf\n",
        "import numpy as np\n",
        "import pandas as pd\n",
        "import math\n",
        "from matplotlib import pyplot as plt"
      ],
      "execution_count": 0,
      "outputs": []
    },
    {
      "cell_type": "code",
      "metadata": {
        "id": "JheGjaGJpui1",
        "colab_type": "code",
        "colab": {}
      },
      "source": [
        "# # Download the MNIST fashion dataset\n",
        "# !wget wget --header=\"Host: storage.googleapis.com\" --header=\"User-Agent: Mozilla/5.0 (Windows NT 10.0; Win64; x64) AppleWebKit/537.36 (KHTML, like Gecko) Chrome/75.0.3770.142 Safari/537.36\" --header=\"Accept: text/html,application/xhtml+xml,application/xml;q=0.9,image/webp,image/apng,*/*;q=0.8,application/signed-exchange;v=b3\" --header=\"Accept-Language: en-GB,en-US;q=0.9,en;q=0.8,gu;q=0.7\" --header=\"Referer: https://www.kaggle.com/\" \"https://storage.googleapis.com/kaggle-datasets/2243/9243/fashionmnist.zip?GoogleAccessId=web-data@kaggle-161607.iam.gserviceaccount.com&Expires=1565064370&Signature=DF%2FEZ9PSQRlQbrEnyUUwAqtn6Dr6ltNKR2Pkwv4sESxmtW7%2B2FUUw76q0U5Fe3ff6%2Fckv0bCBUGQuv%2BvM406LkbNdC6F060oiyTQ3SmESAAoAh1Hg10Xpv6%2BRYteLBZf%2BUZbT1%2BNA8Klrmj2nawQbcWwdLhKvrWvbDRHYRH6jmK6zFjBviXx%2BjQLsRM%2BufMFQ5ZWefYchFcYsoFvknvrPLho8ExzHoT3C44%2B%2FvuKkKZT2yjUCId8KqoDT1nNdjpPUoFSViZGo2GpKhU1XbUgfQx5mOaopAzK%2BMX8UjofSFFOlR0Qmz43NGYlePyXttVvvzVh42U%2FP5goKrrtWFZxuA%3D%3D\" -O \"fashionmnist.zip\" -c\n",
        "# !unzip fashionmnist.zip\n",
        "# !rm -rf fashionmnist.zip t10k-images-idx3-ubyte t10k-labels-idx1-ubyte train-images-idx3-ubyte train-labels-idx1-ubyte sample_data"
      ],
      "execution_count": 0,
      "outputs": []
    },
    {
      "cell_type": "code",
      "metadata": {
        "id": "OisXcCWZ64sr",
        "colab_type": "code",
        "colab": {}
      },
      "source": [
        "def get_data_from_csv(csv_file, label_header_name):\n",
        "        data_frame = pd.read_csv(csv_file)\n",
        "        X = data_frame.drop(label_header_name, axis = 1)\n",
        "        Y = data_frame[label_header_name]\n",
        "        X, Y = np.array(X), np.array(Y)\n",
        "        return X.T, Y.reshape(1, -1)\n",
        "\n",
        "def get_one_hot_encoding(array, num_classes):\n",
        "    return np.squeeze(np.eye(num_classes)[array]).T\n",
        "\n",
        "def normalize(array):\n",
        "    return array / 255.0"
      ],
      "execution_count": 0,
      "outputs": []
    },
    {
      "cell_type": "code",
      "metadata": {
        "id": "VRdO9Fglp7Dk",
        "colab_type": "code",
        "outputId": "4b1def73-086b-45a0-f580-650edb0265f0",
        "colab": {
          "base_uri": "https://localhost:8080/",
          "height": 84
        }
      },
      "source": [
        "num_classes = 10\n",
        "X_train, Y_train = get_data_from_csv(csv_file='fashion-mnist_train.csv', label_header_name = 'label')\n",
        "X_test, Y_test = get_data_from_csv(csv_file='fashion-mnist_test.csv', label_header_name = 'label')\n",
        "X_train, X_test = normalize(X_train), normalize(X_test)\n",
        "Y_train, Y_test = get_one_hot_encoding(Y_train, num_classes), get_one_hot_encoding(Y_test, num_classes)\n",
        "print (f'X_train shape = {X_train.shape}')\n",
        "print (f'Y_test shape = {Y_test.shape}')\n",
        "print (f'X_test shape = {X_train.shape}')\n",
        "print (f'Y_test shape = {Y_test.shape}')\n",
        "labels_map = {\n",
        "    0: 'T-shirt/Top',\n",
        "    1: 'Trouser',\n",
        "    2: 'Pullover',\n",
        "    3: 'Dress',\n",
        "    4: 'Coat',\n",
        "    5: 'Sandal',\n",
        "    6: 'Shirt',\n",
        "    7: 'Sneaker',\n",
        "    8: 'Bag',\n",
        "    9: 'Ankel boot' \n",
        "}"
      ],
      "execution_count": 127,
      "outputs": [
        {
          "output_type": "stream",
          "text": [
            "X_train shape = (784, 60000)\n",
            "Y_test shape = (10, 10000)\n",
            "X_test shape = (784, 60000)\n",
            "Y_test shape = (10, 10000)\n"
          ],
          "name": "stdout"
        }
      ]
    },
    {
      "cell_type": "code",
      "metadata": {
        "id": "buVXHIdnzoBq",
        "colab_type": "code",
        "colab": {}
      },
      "source": [
        "# This will create placeholders for X and Y with different batch sizes (None is replacable by any size at runtime)\n",
        "def create_placeholders(n_x, n_y):\n",
        "    '''\n",
        "        n_x = number of features\n",
        "        n_y = number of classes\n",
        "    '''\n",
        "    X = tf.placeholder(tf.float32, [n_x, None], name = 'X')\n",
        "    Y = tf.placeholder(tf.float32, [n_y, None], name='Y')\n",
        "\n",
        "    return X, Y"
      ],
      "execution_count": 0,
      "outputs": []
    },
    {
      "cell_type": "code",
      "metadata": {
        "id": "TifE5JlLeLs7",
        "colab_type": "code",
        "colab": {}
      },
      "source": [
        "# Initialize the parameters of neural network based on given architecture\n",
        "def initialize_parameters(n_x, n_y, hidden_layers):\n",
        "\n",
        "    '''\n",
        "        n_x = number of features\n",
        "        n_y = number of classes\n",
        "        hidden_layers = list of number of neurons in each of the hidden layers\n",
        "    '''\n",
        "\n",
        "    parameters = {}\n",
        "    \n",
        "    hidden_layers.insert(0, n_x)\n",
        "    hidden_layers.append(n_y)\n",
        "    for i in range(len(hidden_layers) - 1):\n",
        "        n_layer = i + 1\n",
        "        parameters['W' + str(n_layer)] = tf.get_variable('W' + str(n_layer), \n",
        "                                                         [hidden_layers[n_layer], hidden_layers[n_layer - 1]],\n",
        "                                                         initializer = tf.contrib.layers.xavier_initializer(seed = 1))\n",
        "        parameters['b' + str(n_layer)] = tf.get_variable('b' + str(n_layer), \n",
        "                                                         [hidden_layers[n_layer], 1], \n",
        "                                                         initializer = tf.zeros_initializer())\n",
        "    return parameters\n"
      ],
      "execution_count": 0,
      "outputs": []
    },
    {
      "cell_type": "code",
      "metadata": {
        "id": "bV1luGcehKmp",
        "colab_type": "code",
        "colab": {}
      },
      "source": [
        "# Computes forward propagation for given data and parameters\n",
        "def forward_propagation(X, parameters):\n",
        "\n",
        "    '''\n",
        "        X = input data\n",
        "        parameters = weights of neural network to be learned\n",
        "    '''\n",
        "\n",
        "    Ws, bs = [], []\n",
        "\n",
        "    for param in parameters.keys():\n",
        "        if 'W' in param: Ws.append(parameters[param])\n",
        "        else: bs.append(parameters[param])\n",
        "\n",
        "    A_prev = X\n",
        "\n",
        "    # forward propagate\n",
        "    for W, b in zip(Ws, bs):\n",
        "        Z = tf.add(tf.matmul(W, A_prev), b)\n",
        "        A_prev = tf.nn.relu(Z)\n",
        "    \n",
        "    return Z"
      ],
      "execution_count": 0,
      "outputs": []
    },
    {
      "cell_type": "code",
      "metadata": {
        "id": "BRHJR5HChad_",
        "colab_type": "code",
        "colab": {}
      },
      "source": [
        "# Computes the costs for given forward propagation output (Z_L) and actual labels\n",
        "def compute_cost(Z_L, Y):\n",
        "    '''\n",
        "        tf.nn.softmax_cross_entropy_with_logits expcts Z_L instead of A_L, It will apply softmax and calculate A_L. \n",
        "        Reference: https://stackoverflow.com/questions/34240703/what-is-logits-softmax-and-softmax-cross-entropy-with-logits\n",
        "\n",
        "        It also expects the dimention on Z_L and Y as (m, C), where m = number of examples and C is number of classes\n",
        "    '''\n",
        "\n",
        "    Z_L, Y = tf.transpose(Z_L), tf.transpose(Y)\n",
        "    cost = tf.reduce_mean(tf.nn.softmax_cross_entropy_with_logits(logits = Z_L, labels = Y))\n",
        "\n",
        "    return cost"
      ],
      "execution_count": 0,
      "outputs": []
    },
    {
      "cell_type": "code",
      "metadata": {
        "id": "immbY9D7B8ov",
        "colab_type": "code",
        "colab": {}
      },
      "source": [
        "def get_random_minibatches(X, Y, minibatch_size = 64, seed = 0):\n",
        "\n",
        "    # First set the seed\n",
        "    np.random.seed(seed)\n",
        "    m = X.shape[1]\n",
        "    minibatches = []\n",
        "\n",
        "    # Then get the permutation of indices and using that, shuffel X and Y\n",
        "    permutation = list(np.random.permutation(m))\n",
        "    X = X[:, permutation]\n",
        "    Y = Y[:, permutation].reshape(Y.shape[0], m)\n",
        "\n",
        "    # Now get minibatches from shuffeled X and Y\n",
        "    n_complete_minibatches = math.floor(m / minibatch_size)\n",
        "\n",
        "    # Get all complete minibatches\n",
        "    for index in range(n_complete_minibatches):\n",
        "        minibatch_X = X[:, index * minibatch_size : (index + 1) * minibatch_size]\n",
        "        minibatch_Y = Y[:, index * minibatch_size : (index + 1) * minibatch_size]\n",
        "        minibatches.append((minibatch_X, minibatch_Y))\n",
        "\n",
        "    # Now handle the case of last incomplete minibatch\n",
        "    if not (m % minibatch_size == 0):\n",
        "        minibatch_X = X[:, n_complete_minibatches * minibatch_size: ]\n",
        "        minibatch_Y = Y[:, n_complete_minibatches * minibatch_size: ]\n",
        "        minibatches.append((minibatch_X, minibatch_Y))\n",
        "\n",
        "    return minibatches"
      ],
      "execution_count": 0,
      "outputs": []
    },
    {
      "cell_type": "code",
      "metadata": {
        "id": "zJpzk-RzcNWZ",
        "colab_type": "code",
        "colab": {}
      },
      "source": [
        "def softmax(x):\n",
        "    \"\"\"Compute softmax values for each sets of scores in x.\"\"\"\n",
        "    e_x = np.exp(x - np.max(x))\n",
        "    return e_x / e_x.sum(axis=0) # only difference"
      ],
      "execution_count": 0,
      "outputs": []
    },
    {
      "cell_type": "code",
      "metadata": {
        "id": "cw8fzmdYhxzD",
        "colab_type": "code",
        "colab": {}
      },
      "source": [
        "def predict(images, trained_parameters):\n",
        "\n",
        "    Ws, bs = [], []\n",
        "    parameters = {}\n",
        "\n",
        "    for param in trained_parameters.keys():\n",
        "        parameters[param] = tf.convert_to_tensor(trained_parameters[param])\n",
        "    \n",
        "    X = tf.placeholder(tf.float32, [images.shape[0], None], name = 'X')\n",
        "    Z_L = forward_propagation(X, trained_parameters)\n",
        "    \n",
        "    p = tf.argmax(Z_L) # Working fine\n",
        "    # p = tf.argmax(tf.nn.softmax(Z_L)) # not working if softmax is applied\n",
        "\n",
        "    with tf.Session() as session:\n",
        "        prediction = session.run(p, feed_dict={X: images})\n",
        "    \n",
        "    return prediction"
      ],
      "execution_count": 0,
      "outputs": []
    },
    {
      "cell_type": "code",
      "metadata": {
        "id": "Qql8UVSkk-Np",
        "colab_type": "code",
        "colab": {}
      },
      "source": [
        "# Defines neural network model\n",
        "def model(X_train, Y_train, X_test, Y_test, learning_rate = 0.0001, n_epochs = 1500, minibatch_size = 64, sgd = True):\n",
        "\n",
        "    # Initialize necessary parameters\n",
        "    tf.reset_default_graph()\n",
        "    tf.set_random_seed(1)\n",
        "    seed = 3\n",
        "    n_x, m = X_train.shape\n",
        "    n_y = Y_train.shape[0]\n",
        "    costs = []\n",
        "\n",
        "    X, Y = create_placeholders(n_x, n_y)\n",
        "    parameters = initialize_parameters(n_x, n_y, [128, 128, 128])  # list of nurons in each hidden layers\n",
        "    Z_L = forward_propagation(X, parameters=parameters)\n",
        "    cost = compute_cost(Z_L, Y)\n",
        "\n",
        "    # Backpropagate\n",
        "    optimizer = tf.train.AdamOptimizer(learning_rate=learning_rate).minimize(cost)\n",
        "\n",
        "    # Initialize Tensorflow variables\n",
        "    init = tf.global_variables_initializer()\n",
        "\n",
        "    # Start Tensorflow session\n",
        "    with tf.Session() as session:\n",
        "\n",
        "        session.run(init)\n",
        "\n",
        "        # Gradient descent training loop\n",
        "        for epoch in range(n_epochs):\n",
        "\n",
        "            batch_cost = 0\n",
        "\n",
        "            # If batch gradient descent is required\n",
        "            if not sgd: \n",
        "                _, batch_cost = session.run([optimizer, cost], feed_dict = {X: X_train, Y: Y_train})\n",
        "            else: # else perform SGD (mini-batch gradient descent)\n",
        "                n_minibatches = m // minibatch_size\n",
        "                seed += 1\n",
        "                minibatches = get_random_minibatches(X_train, Y_train, minibatch_size, seed)\n",
        "\n",
        "                # Loop over all the mini batches to complete 1 epoch\n",
        "                for minibatch in minibatches:\n",
        "\n",
        "                    minibatch_X, minibatch_Y = minibatch\n",
        "                    _, minibatch_cost = session.run([optimizer, cost], feed_dict = {X: minibatch_X, Y: minibatch_Y})\n",
        "\n",
        "                    batch_cost += minibatch_cost / n_minibatches\n",
        "\n",
        "            if epoch % 100 == 0:\n",
        "                print (f'Cost after {epoch}: {batch_cost}')\n",
        "            if epoch % 5 == 0:\n",
        "                costs.append(batch_cost)\n",
        "\n",
        "        # plot the cost\n",
        "        plt.plot(np.squeeze(costs))\n",
        "        plt.ylabel('cost')\n",
        "        plt.xlabel('iterations (per tens)')\n",
        "        plt.title(\"Learning rate =\" + str(learning_rate))\n",
        "        plt.show()\n",
        "\n",
        "        parameters = session.run(parameters)\n",
        "\n",
        "        # Calculate the correct predictions\n",
        "        correct_prediction = tf.equal(tf.argmax(Z_L), tf.argmax(Y))\n",
        "\n",
        "        # Calculate accuracy on the test set\n",
        "        accuracy = tf.reduce_mean(tf.cast(correct_prediction, \"float\"))\n",
        "\n",
        "        print (\"Train Accuracy:\", accuracy.eval({X: X_train, Y: Y_train}))\n",
        "        print (\"Test Accuracy:\", accuracy.eval({X: X_test, Y: Y_test}))\n",
        "    \n",
        "    return parameters "
      ],
      "execution_count": 0,
      "outputs": []
    },
    {
      "cell_type": "code",
      "metadata": {
        "id": "uzXKtVx6ocSx",
        "colab_type": "code",
        "outputId": "e315f114-7c76-433a-f72f-b4c98c238086",
        "colab": {
          "base_uri": "https://localhost:8080/",
          "height": 396
        }
      },
      "source": [
        "# Train the model with stochastic gradient descent with minibatch size 64\n",
        "sgd_parameters = model(X_train, Y_train, X_test, Y_test, learning_rate = 0.0004, n_epochs=301, minibatch_size = 64, sgd = True)"
      ],
      "execution_count": 43,
      "outputs": [
        {
          "output_type": "stream",
          "text": [
            "Cost after 0: 0.5471795220862323\n",
            "Cost after 100: 0.025768067277997738\n",
            "Cost after 200: 0.01527737170309381\n",
            "Cost after 300: 0.016043536441956188\n"
          ],
          "name": "stdout"
        },
        {
          "output_type": "display_data",
          "data": {
            "image/png": "[encoded data removed]",
            "text/plain": [
              "<Figure size 432x288 with 1 Axes>"
            ]
          },
          "metadata": {
            "tags": []
          }
        },
        {
          "output_type": "stream",
          "text": [
            "Train Accuracy: 0.99876666\n",
            "Test Accuracy: 0.9016\n"
          ],
          "name": "stdout"
        }
      ]
    },
    {
      "cell_type": "code",
      "metadata": {
        "id": "9IyKjnADJ43y",
        "colab_type": "code",
        "colab": {
          "base_uri": "https://localhost:8080/",
          "height": 766
        },
        "outputId": "912ef143-c669-4d82-e1cb-657e36e440b2"
      },
      "source": [
        "# Train the same model with batch gradient descent\n",
        "batch_gd_parameters = model(X_train, Y_train, X_test, Y_test, learning_rate = 0.0004, n_epochs=2501, minibatch_size = 64, sgd = False)"
      ],
      "execution_count": 114,
      "outputs": [
        {
          "output_type": "stream",
          "text": [
            "Cost after 0: 2.3151276111602783\n",
            "Cost after 100: 0.44193437695503235\n",
            "Cost after 200: 0.35051223635673523\n",
            "Cost after 300: 0.30339133739471436\n",
            "Cost after 400: 0.2671626806259155\n",
            "Cost after 500: 0.2400396317243576\n",
            "Cost after 600: 0.22727961838245392\n",
            "Cost after 700: 0.20063602924346924\n",
            "Cost after 800: 0.1882523149251938\n",
            "Cost after 900: 0.17210930585861206\n",
            "Cost after 1000: 0.15840016305446625\n",
            "Cost after 1100: 0.1470840722322464\n",
            "Cost after 1200: 0.13805793225765228\n",
            "Cost after 1300: 0.129301980137825\n",
            "Cost after 1400: 0.12407298386096954\n",
            "Cost after 1500: 0.11397857218980789\n",
            "Cost after 1600: 0.1045432910323143\n",
            "Cost after 1700: 0.10067469626665115\n",
            "Cost after 1800: 0.0920945480465889\n",
            "Cost after 1900: 0.08864093571901321\n",
            "Cost after 2000: 0.09509384632110596\n",
            "Cost after 2100: 0.07805415242910385\n",
            "Cost after 2200: 0.07586508989334106\n",
            "Cost after 2300: 0.07377352565526962\n",
            "Cost after 2400: 0.06723052263259888\n",
            "Cost after 2500: 0.06029225140810013\n"
          ],
          "name": "stdout"
        },
        {
          "output_type": "display_data",
          "data": {
            "image/png": "[encoded data removed]",
            "text/plain": [
              "<Figure size 432x288 with 1 Axes>"
            ]
          },
          "metadata": {
            "tags": []
          }
        },
        {
          "output_type": "stream",
          "text": [
            "Train Accuracy: 0.9831667\n",
            "Test Accuracy: 0.8849\n"
          ],
          "name": "stdout"
        }
      ]
    },
    {
      "cell_type": "code",
      "metadata": {
        "id": "HHHxjKe8Ycd0",
        "colab_type": "code",
        "colab": {}
      },
      "source": [
        "# Note the difference between convergence rate of batch gradient and mini batch gradient descent in above calculations"
      ],
      "execution_count": 0,
      "outputs": []
    },
    {
      "cell_type": "code",
      "metadata": {
        "id": "XjYPyjN2fxdh",
        "colab_type": "code",
        "colab": {
          "base_uri": "https://localhost:8080/",
          "height": 281
        },
        "outputId": "fadd7a04-8790-4bb4-e214-b01205d789cd"
      },
      "source": [
        "# Ploting few predictions on test set\n",
        "\n",
        "count = 0\n",
        "for index in range (6, 12):\n",
        "  plt.subplot(2, 3, count + 1)\n",
        "  plt.title(labels_map[predict(X_test[:, index].reshape(-1, 1), sgd_parameters)[0]], color = 'Yellow')\n",
        "  plt.imshow(X_test[:, index].reshape(28, 28))\n",
        "  count += 1\n",
        "plt.show()"
      ],
      "execution_count": 187,
      "outputs": [
        {
          "output_type": "display_data",
          "data": {
            "image/png": "[encoded data removed]",
            "text/plain": [
              "<Figure size 432x288 with 6 Axes>"
            ]
          },
          "metadata": {
            "tags": []
          }
        }
      ]
    }
  ]
}