{
  "nbformat": 4,
  "nbformat_minor": 0,
  "metadata": {
    "colab": {
      "name": "K-Means from scratch.ipynb",
      "version": "0.3.2",
      "provenance": [],
      "collapsed_sections": [],
      "include_colab_link": true
    },
    "language_info": {
      "codemirror_mode": {
        "name": "ipython",
        "version": 3
      },
      "file_extension": ".py",
      "mimetype": "text/x-python",
      "name": "python",
      "nbconvert_exporter": "python",
      "pygments_lexer": "ipython3",
      "version": "3.6.5"
    },
    "kernelspec": {
      "display_name": "Python 3",
      "language": "python",
      "name": "python3"
    }
  },
  "cells": [
    {
      "cell_type": "markdown",
      "metadata": {
        "id": "view-in-github",
        "colab_type": "text"
      },
      "source": [
        "<a href=\"https://colab.research.google.com/github/Kaushal28/ML/blob/master/K_Means_from_scratch.ipynb\" target=\"_parent\"><img src=\"https://colab.research.google.com/assets/colab-badge.svg\" alt=\"Open In Colab\"/></a>"
      ]
    },
    {
      "cell_type": "code",
      "metadata": {
        "id": "aRZyLp9IQ4Np",
        "colab_type": "code",
        "colab": {}
      },
      "source": [
        "import numpy as np\n",
        "from sklearn.datasets import make_blobs\n",
        "from matplotlib import pyplot as plt"
      ],
      "execution_count": 0,
      "outputs": []
    },
    {
      "cell_type": "code",
      "metadata": {
        "id": "rJRpPYDYQ4Nt",
        "colab_type": "code",
        "outputId": "bce9c13d-53ae-4e97-9e5a-66f4c97650e8",
        "colab": {
          "base_uri": "https://localhost:8080/",
          "height": 269
        }
      },
      "source": [
        "#generate linearly separable data\n",
        "X, y = make_blobs(n_samples = 100, centers = 2, cluster_std=1.0, n_features = 1, random_state = 1)\n",
        "\n",
        "#randomize the value of y as it's only generating 0 or 1\n",
        "y = y*np.random.rand(100) + np.random.rand(100, )\n",
        "X = X.ravel()\n",
        "plt.scatter(X, y, color = 'red')\n",
        "plt.show()"
      ],
      "execution_count": 0,
      "outputs": [
        {
          "output_type": "display_data",
          "data": {
            "image/png": "[encoded data removed]",
            "text/plain": [
              "<Figure size 432x288 with 1 Axes>"
            ]
          },
          "metadata": {
            "tags": []
          }
        }
      ]
    },
    {
      "cell_type": "code",
      "metadata": {
        "id": "R5FaaFGBQ4Nz",
        "colab_type": "code",
        "colab": {}
      },
      "source": [
        "def get_distance(p1, p2):\n",
        "    return np.linalg.norm(p1-p2)"
      ],
      "execution_count": 0,
      "outputs": []
    },
    {
      "cell_type": "code",
      "metadata": {
        "id": "Oimrs1wqQ4N2",
        "colab_type": "code",
        "outputId": "ded1e8e4-f6b3-4d31-a840-8f10d268bd9f",
        "colab": {
          "base_uri": "https://localhost:8080/",
          "height": 269
        }
      },
      "source": [
        "#initialize the k centers (k = 2)\n",
        "c1 = np.array([0, 1])\n",
        "c2 = np.array([2, 1])\n",
        "\n",
        "# plot the centroids along with data\n",
        "plt.scatter(X, y, color = 'red')\n",
        "plt.scatter([c1[0], c2[0]], [c1[1], c2[1]], color = 'blue', s = 100)\n",
        "plt.show()    "
      ],
      "execution_count": 0,
      "outputs": [
        {
          "output_type": "display_data",
          "data": {
            "image/png": "[encoded data removed]",
            "text/plain": [
              "<Figure size 432x288 with 1 Axes>"
            ]
          },
          "metadata": {
            "tags": []
          }
        }
      ]
    },
    {
      "cell_type": "code",
      "metadata": {
        "id": "f_47yqm-Q4N5",
        "colab_type": "code",
        "colab": {}
      },
      "source": [
        "#Assign the data points to closest centroids\n",
        "def assign_closest_points(X, y, c1, c2):\n",
        "    c1s_list, c2s_list = [], []\n",
        "    for x_, y_ in zip(X, y):\n",
        "        point = np.array([x_.tolist(), y_.tolist()])\n",
        "        if get_distance(point, c1) < get_distance(point, c2):\n",
        "            c1s_list.append(point)\n",
        "        else:\n",
        "            c2s_list.append(point)\n",
        "    return c1s_list, c2s_list "
      ],
      "execution_count": 0,
      "outputs": []
    },
    {
      "cell_type": "code",
      "metadata": {
        "id": "0WyJ7VXSQ4N8",
        "colab_type": "code",
        "colab": {}
      },
      "source": [
        "def simplify_arrays(array):\n",
        "    return np.stack(array, axis = 0)\n",
        "\n",
        "# simplify the arrays\n",
        "# c1s_list, c2s_list = simplify_arrays(c1s_list), simplify_arrays(c2s_list)"
      ],
      "execution_count": 0,
      "outputs": []
    },
    {
      "cell_type": "code",
      "metadata": {
        "id": "bBSDGgT7Q4N_",
        "colab_type": "code",
        "colab": {}
      },
      "source": [
        "# get mean of given points\n",
        "def get_mean(points):\n",
        "    return np.array([np.mean(points[:, :1]), np.mean(points[:, 1:])])"
      ],
      "execution_count": 0,
      "outputs": []
    },
    {
      "cell_type": "code",
      "metadata": {
        "id": "3I40FfyyQ4OC",
        "colab_type": "code",
        "outputId": "b9d393e6-95ff-4a23-921a-010e848fb155",
        "colab": {
          "base_uri": "https://localhost:8080/",
          "height": 34
        }
      },
      "source": [
        "# update the centroids\n",
        "no_of_itrs = 0\n",
        "while True:\n",
        "    prev_c1, prev_c2 = c1, c2\n",
        "    \n",
        "    no_of_itrs += 1\n",
        "    c1s_list, c2s_list  = assign_closest_points(X, y, c1, c2)\n",
        "    \n",
        "    # simplify the arrays\n",
        "    c1s_list, c2s_list = simplify_arrays(c1s_list), simplify_arrays(c2s_list)\n",
        "    \n",
        "    c1 = get_mean(c1s_list)\n",
        "    c2 = get_mean(c2s_list)\n",
        "\n",
        "    if np.linalg.norm(prev_c1 - c1) <= 0.000000001 and np.linalg.norm(prev_c2 - c2) <= 0.000000001:\n",
        "      break\n",
        "\n",
        "print ('Calculated centroids {0} and {1} in {2} iteration(s).'.format(c1, c2, no_of_itrs))"
      ],
      "execution_count": 0,
      "outputs": [
        {
          "output_type": "stream",
          "text": [
            "Calculated centroids [-1.70636812  0.45539643] and [4.56975959 1.00874661] in 2 iteration(s).\n"
          ],
          "name": "stdout"
        }
      ]
    },
    {
      "cell_type": "code",
      "metadata": {
        "id": "v5b9Wq3NQ4OH",
        "colab_type": "code",
        "outputId": "fe41edad-b81f-4324-c610-f2e0a88d7c98",
        "colab": {
          "base_uri": "https://localhost:8080/",
          "height": 269
        }
      },
      "source": [
        "# plot the centroids along with data\n",
        "plt.scatter(X, y, color = 'red')\n",
        "plt.scatter([c1[0], c2[0]], [c1[1], c2[1]], color = 'blue', s = 100)\n",
        "plt.show()   "
      ],
      "execution_count": 0,
      "outputs": [
        {
          "output_type": "display_data",
          "data": {
            "image/png": "[encoded data removed]",
            "text/plain": [
              "<Figure size 432x288 with 1 Axes>"
            ]
          },
          "metadata": {
            "tags": []
          }
        }
      ]
    }
  ]
}