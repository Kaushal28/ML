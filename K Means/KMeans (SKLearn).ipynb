{
 "cells": [
  {
   "cell_type": "code",
   "execution_count": 62,
   "metadata": {},
   "outputs": [],
   "source": [
    "# imports\n",
    "from sklearn.cluster import KMeans\n",
    "import numpy as np\n",
    "from matplotlib import pyplot as plt\n",
    "%matplotlib inline"
   ]
  },
  {
   "cell_type": "code",
   "execution_count": 63,
   "metadata": {},
   "outputs": [],
   "source": [
    "# linearly separable  data generator\n",
    "class DataGenerator(object):\n",
    "\n",
    "    def _generate_rand_xs(self, dimensions):\n",
    "        return np.append(np.random.randint(0, 10, (dimensions-1, ))*np.random.choice([1, -1]), 1)\n",
    "\n",
    "    def _get_data_points(self, data, count, dimensions, coefficients, number_of_datapoints, _class):\n",
    "        for data_point in range(count):\n",
    "            x_s = self._generate_rand_xs(dimensions)\n",
    "            dot_product = np.dot(x_s, coefficients)\n",
    "            if _class != 'positive':\n",
    "                shifted_data = x_s[:-1] + np.random.randint(-number_of_datapoints, -2)\n",
    "            else:\n",
    "                shifted_data = x_s[:-1] + np.random.randint(2, number_of_datapoints)\n",
    "            single_data = np.append(shifted_data, dot_product)\n",
    "            data.append(single_data.tolist())\n",
    "        return data\n",
    "\n",
    "    def linearly_separable (self, number_of_datapoints, coefficients, dimensions = 2):\n",
    "\n",
    "        if dimensions != len(coefficients):\n",
    "            raise Exception('Dimensions and coefficient array should have same length.')\n",
    "\n",
    "        positive_class_count = number_of_datapoints // 2\n",
    "        negative_class_count = number_of_datapoints - positive_class_count\n",
    "\n",
    "        #convert coefficient array to numpy\n",
    "        coefficients = np.array(coefficients)\n",
    "        data = self._get_data_points([], positive_class_count, dimensions, coefficients, number_of_datapoints, 'positive')\n",
    "        return self._get_data_points(data, negative_class_count, dimensions, coefficients, number_of_datapoints, 'negative')"
   ]
  },
  {
   "cell_type": "code",
   "execution_count": 64,
   "metadata": {},
   "outputs": [],
   "source": [
    "# generate 250 data points which are linearly separable by line y = 2x + 5\n",
    "data_generator = DataGenerator()\n",
    "dataset = np.array(data_generator.linearly_separable(250, [2, 5]))"
   ]
  },
  {
   "cell_type": "code",
   "execution_count": 65,
   "metadata": {},
   "outputs": [
    {
     "data": {
      "text/plain": [
       "KMeans(algorithm='auto', copy_x=True, init='k-means++', max_iter=300,\n",
       "    n_clusters=2, n_init=10, n_jobs=1, precompute_distances='auto',\n",
       "    random_state=None, tol=0.0001, verbose=0)"
      ]
     },
     "execution_count": 65,
     "metadata": {},
     "output_type": "execute_result"
    }
   ],
   "source": [
    "kmeans = KMeans(n_clusters = 2)\n",
    "kmeans.fit(dataset)"
   ]
  },
  {
   "cell_type": "code",
   "execution_count": 66,
   "metadata": {},
   "outputs": [
    {
     "data": {
      "image/png": "[encoded data removed]",
      "text/plain": [
       "<Figure size 432x288 with 1 Axes>"
      ]
     },
     "metadata": {},
     "output_type": "display_data"
    }
   ],
   "source": [
    "def get_xs(dataset, and_labels, label):\n",
    "    x_s = []\n",
    "    for a_single_data, and_a_label in zip(dataset, and_labels):\n",
    "        if and_a_label == label:\n",
    "            x_s.append(a_single_data[0])\n",
    "    return x_s\n",
    "\n",
    "def get_ys(dataset, and_labels, label):\n",
    "    y_s = []\n",
    "    for a_single_data, and_a_label in zip(dataset, and_labels):\n",
    "        if and_a_label == label:\n",
    "            y_s.append(a_single_data[1])\n",
    "    return y_s\n",
    "\n",
    "def get_centroid_xs(centroid_array):\n",
    "    x_s = []\n",
    "    for a_centroid in centroid_array:\n",
    "        x_s.append(a_centroid[0])\n",
    "    return x_s\n",
    "\n",
    "def get_centroid_ys(centroid_array):\n",
    "    y_s = []\n",
    "    for a_centroid in centroid_array:\n",
    "        y_s.append(a_centroid[1])\n",
    "    return y_s\n",
    "\n",
    "plt.scatter(get_xs(dataset, kmeans.labels_, 0), get_ys(dataset, kmeans.labels_, 0), color = 'g')\n",
    "plt.scatter(get_xs(dataset, kmeans.labels_, 1), get_ys(dataset, kmeans.labels_, 1), color = 'b')\n",
    "\n",
    "#plot centroids as red\n",
    "for a_centroid in kmeans.cluster_centers_:\n",
    "    plt.scatter(a_centroid[0], a_centroid[1], color = 'r', s = 100)\n",
    "plt.show()"
   ]
  },
  {
   "cell_type": "code",
   "execution_count": null,
   "metadata": {},
   "outputs": [],
   "source": []
  }
 ],
 "metadata": {
  "kernelspec": {
   "display_name": "Python 3",
   "language": "python",
   "name": "python3"
  },
  "language_info": {
   "codemirror_mode": {
    "name": "ipython",
    "version": 3
   },
   "file_extension": ".py",
   "mimetype": "text/x-python",
   "name": "python",
   "nbconvert_exporter": "python",
   "pygments_lexer": "ipython3",
   "version": "3.6.5"
  }
 },
 "nbformat": 4,
 "nbformat_minor": 2
}
