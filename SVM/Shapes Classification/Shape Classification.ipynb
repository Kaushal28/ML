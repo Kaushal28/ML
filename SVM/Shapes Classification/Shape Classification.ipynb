{
 "cells": [
  {
   "cell_type": "code",
   "execution_count": 248,
   "metadata": {},
   "outputs": [],
   "source": [
    "# %load C:\\Users\\Aspire5\\Desktop\\ML\\Code\\data_generator.py\n",
    "import numpy as np\n",
    "import matplotlib.pyplot as plt\n",
    "import itertools\n",
    "from random import shuffle"
   ]
  },
  {
   "cell_type": "code",
   "execution_count": 249,
   "metadata": {},
   "outputs": [],
   "source": [
    "class DataGenerator(object):\n",
    "\n",
    "    def triangle_rect_images(self, number_of_images, image_size, save_as_image):\n",
    "        img_size = image_size\n",
    "        min_rect_size = 3\n",
    "        max_rect_size = 10\n",
    "        num_objects = 2\n",
    "\n",
    "        if not save_as_image:\n",
    "            data = []\n",
    "            labels = []\n",
    "\n",
    "        number_of_rects = number_of_images // 2\n",
    "        number_of_triangles = number_of_images - number_of_rects\n",
    "        for i_img in range(number_of_rects):\n",
    "            imgs = np.zeros((img_size, img_size))\n",
    "            width, height = np.random.randint(min_rect_size, max_rect_size, size=2)\n",
    "            x = np.random.randint(0, img_size - width)\n",
    "            y = np.random.randint(0, img_size - height)\n",
    "            imgs[x:x+width, y:y+height] = 1.\n",
    "            if not save_as_image:\n",
    "                data.append(imgs.T.reshape(1, -1).tolist())\n",
    "                labels.append(1) #denote rectangle as 1\n",
    "            else:\n",
    "                plt.imsave('square'+str(i_img)+'.jpeg', imgs.T)\n",
    "        \n",
    "        for i_img in range(number_of_triangles):\n",
    "            imgs = np.zeros((img_size, img_size))\n",
    "            size = np.random.randint(min_rect_size, max_rect_size)\n",
    "            x, y = np.random.randint(0, img_size - size, size=2)\n",
    "            mask = np.tril_indices(size)\n",
    "            imgs[x + mask[0], y + mask[1]] = 1.\n",
    "            if not save_as_image:\n",
    "                data.append(imgs.T.reshape(1, -1).tolist())\n",
    "                labels.append(0) #denote triangle as 0\n",
    "            else:\n",
    "                plt.imsave('triangle'+str(i_img)+'.jpeg', imgs.T)\n",
    "\n",
    "        if not save_as_image:\n",
    "            return data, labels"
   ]
  },
  {
   "cell_type": "code",
   "execution_count": 250,
   "metadata": {},
   "outputs": [],
   "source": [
    "#generate images (array) of rectangle and triangle\n",
    "image_size = 20\n",
    "data_gen = DataGenerator()\n",
    "X, y = data_gen.triangle_rect_images(30000, image_size, False)\n",
    "X_train, X_test, y_train, y_test = train_test_split(np.array(X), np.array(y), test_size = 0.33, random_state = 87)"
   ]
  },
  {
   "cell_type": "code",
   "execution_count": 251,
   "metadata": {},
   "outputs": [],
   "source": [
    "def plot_images(X, y, image_size, number_of_images):\n",
    "    if number_of_images%2 != 0:\n",
    "        raise Exception('Number of images should be even')\n",
    "    count = 0\n",
    "    for a_single_image in X:\n",
    "        if count >= number_of_images: break;\n",
    "        plt.subplot(2, number_of_images // 2, count + 1)\n",
    "        plt.title('Square' if y[count] == 1 else 'Triangle')\n",
    "        plt.imshow(a_single_image.reshape(image_size, image_size), interpolation='none', origin='lower', extent=[0, image_size, 0, image_size])\n",
    "        count += 1\n",
    "\n",
    "    plt.tight_layout()\n",
    "    plt.show()"
   ]
  },
  {
   "cell_type": "code",
   "execution_count": 252,
   "metadata": {},
   "outputs": [
    {
     "data": {
      "image/png": "[encoded data removed]",
      "text/plain": [
       "<Figure size 432x288 with 6 Axes>"
      ]
     },
     "metadata": {},
     "output_type": "display_data"
    }
   ],
   "source": [
    "# plot first 6 images from traing data-set \n",
    "plot_images(X_train, y_train, image_size, 6)"
   ]
  },
  {
   "cell_type": "code",
   "execution_count": 253,
   "metadata": {},
   "outputs": [],
   "source": [
    "# reshape the array of images\n",
    "X_train = X_train.reshape(-1, image_size*image_size)\n",
    "X_test = X_test.reshape(-1, image_size*image_size)"
   ]
  },
  {
   "cell_type": "code",
   "execution_count": 254,
   "metadata": {},
   "outputs": [
    {
     "name": "stdout",
     "output_type": "stream",
     "text": [
      "[LibSVM]"
     ]
    },
    {
     "data": {
      "text/plain": [
       "SVC(C=4, cache_size=200, class_weight=None, coef0=0.0,\n",
       "  decision_function_shape='ovr', degree=3, gamma=0.1, kernel='rbf',\n",
       "  max_iter=-1, probability=False, random_state=None, shrinking=True,\n",
       "  tol=0.001, verbose=True)"
      ]
     },
     "execution_count": 254,
     "metadata": {},
     "output_type": "execute_result"
    }
   ],
   "source": [
    "# training on 30,000 images of squares and triangles\n",
    "classifier = SVC(C = 4, gamma = 0.1, verbose = True)\n",
    "classifier.fit(X_train, y_train)"
   ]
  },
  {
   "cell_type": "code",
   "execution_count": 259,
   "metadata": {},
   "outputs": [
    {
     "name": "stdout",
     "output_type": "stream",
     "text": [
      "Accuracy of model: 99.82828282828284 %\n"
     ]
    }
   ],
   "source": [
    "# checking accuracy\n",
    "print ('Accuracy of model: {0} %'.format(classifier.score(X_test, y_test)*100))"
   ]
  },
  {
   "cell_type": "code",
   "execution_count": 256,
   "metadata": {},
   "outputs": [],
   "source": [
    "#prediction\n",
    "X_for_prediction, _ = data_gen.triangle_rect_images(10, image_size, False)\n",
    "shuffle(X_for_prediction)"
   ]
  },
  {
   "cell_type": "code",
   "execution_count": 257,
   "metadata": {},
   "outputs": [],
   "source": [
    "y_predicted = classifier.predict(np.array(X_for_prediction).reshape(-1, image_size*image_size))"
   ]
  },
  {
   "cell_type": "code",
   "execution_count": 258,
   "metadata": {},
   "outputs": [
    {
     "data": {
      "image/png": "[encoded data removed]",
      "text/plain": [
       "<Figure size 432x288 with 10 Axes>"
      ]
     },
     "metadata": {},
     "output_type": "display_data"
    }
   ],
   "source": [
    "plot_images(np.array(X_for_prediction).reshape(-1, image_size*image_size), y_predicted, image_size, len(X_for_prediction))"
   ]
  },
  {
   "cell_type": "code",
   "execution_count": null,
   "metadata": {},
   "outputs": [],
   "source": []
  }
 ],
 "metadata": {
  "kernelspec": {
   "display_name": "Python 3",
   "language": "python",
   "name": "python3"
  },
  "language_info": {
   "codemirror_mode": {
    "name": "ipython",
    "version": 3
   },
   "file_extension": ".py",
   "mimetype": "text/x-python",
   "name": "python",
   "nbconvert_exporter": "python",
   "pygments_lexer": "ipython3",
   "version": "3.6.5"
  }
 },
 "nbformat": 4,
 "nbformat_minor": 2
}
