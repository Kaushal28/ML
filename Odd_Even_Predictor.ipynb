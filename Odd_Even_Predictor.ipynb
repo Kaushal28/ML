{
  "nbformat": 4,
  "nbformat_minor": 0,
  "metadata": {
    "colab": {
      "name": "Odd Even Predictor.ipynb",
      "version": "0.3.2",
      "provenance": [],
      "collapsed_sections": [],
      "include_colab_link": true
    },
    "kernelspec": {
      "name": "python3",
      "display_name": "Python 3"
    },
    "accelerator": "GPU"
  },
  "cells": [
    {
      "cell_type": "markdown",
      "metadata": {
        "id": "view-in-github",
        "colab_type": "text"
      },
      "source": [
        "<a href=\"https://colab.research.google.com/github/Kaushal28/ML/blob/master/Odd_Even_Predictor.ipynb\" target=\"_parent\"><img src=\"https://colab.research.google.com/assets/colab-badge.svg\" alt=\"Open In Colab\"/></a>"
      ]
    },
    {
      "cell_type": "code",
      "metadata": {
        "id": "kOxO1TuINlmo",
        "colab_type": "code",
        "outputId": "789ee1d0-9f42-42a6-d865-bee6e22d2f2d",
        "colab": {
          "base_uri": "https://localhost:8080/",
          "height": 34
        }
      },
      "source": [
        "# Odd even predictor using neural network!\n",
        "from keras.models import Sequential\n",
        "from keras.layers import Dense\n",
        "import numpy"
      ],
      "execution_count": 0,
      "outputs": [
        {
          "output_type": "stream",
          "text": [
            "Using TensorFlow backend.\n"
          ],
          "name": "stderr"
        }
      ]
    },
    {
      "cell_type": "code",
      "metadata": {
        "id": "QCUWxdl4N2_Q",
        "colab_type": "code",
        "colab": {}
      },
      "source": [
        "# Generate the dataset\n",
        "X, Y = [], []\n",
        "prev_len = 0\n",
        "for x in range(10000, 0, -1):\n",
        "  if x%2 == 0:\n",
        "    Y.append(list('10'))\n",
        "  else:\n",
        "    Y.append(list('01'))\n",
        "  \n",
        "  if len(X) == 0:\n",
        "    X.append(list(str(bin(x))[2:]))\n",
        "    prev_len = len(list(str(bin(x))[2:]))\n",
        "  else:\n",
        "    if prev_len == list(str(bin(x))[2:]):\n",
        "      X.append(list(str(bin(x))[2:]))\n",
        "    else:\n",
        "      diff = prev_len - len(list(str(bin(x))[2:]))\n",
        "      zeros = ''\n",
        "      for i in range (diff):\n",
        "        zeros += '0'\n",
        "      X.append(list(zeros + str(bin(x))[2:]))\n",
        "      \n",
        "X = numpy.array(X)\n",
        "Y = numpy.array(Y)"
      ],
      "execution_count": 0,
      "outputs": []
    },
    {
      "cell_type": "code",
      "metadata": {
        "id": "E4gPQjN-OhND",
        "colab_type": "code",
        "outputId": "ecdc48e8-dbe7-442d-f394-71e2883c253b",
        "colab": {
          "base_uri": "https://localhost:8080/",
          "height": 608
        }
      },
      "source": [
        "# create model\n",
        "model = Sequential()\n",
        "model.add(Dense(14, input_dim=14, activation='relu'))\n",
        "# model.add(Dense(5, activation='relu'))\n",
        "model.add(Dense(2, activation='sigmoid'))\n",
        "# Compile model\n",
        "model.compile(loss='binary_crossentropy', optimizer='adam', metrics=['accuracy'])\n",
        "# Fit the model\n",
        "model.fit(X, Y, epochs=15, batch_size=100)"
      ],
      "execution_count": 0,
      "outputs": [
        {
          "output_type": "stream",
          "text": [
            "WARNING:tensorflow:From /usr/local/lib/python3.6/dist-packages/tensorflow/python/ops/math_ops.py:3066: to_int32 (from tensorflow.python.ops.math_ops) is deprecated and will be removed in a future version.\n",
            "Instructions for updating:\n",
            "Use tf.cast instead.\n",
            "Epoch 1/15\n",
            "10000/10000 [==============================] - 3s 283us/step - loss: 0.6325 - acc: 0.6773\n",
            "Epoch 2/15\n",
            "10000/10000 [==============================] - 0s 34us/step - loss: 0.4968 - acc: 0.8741\n",
            "Epoch 3/15\n",
            "10000/10000 [==============================] - 0s 34us/step - loss: 0.3390 - acc: 0.9831\n",
            "Epoch 4/15\n",
            "10000/10000 [==============================] - 0s 35us/step - loss: 0.2009 - acc: 1.0000\n",
            "Epoch 5/15\n",
            "10000/10000 [==============================] - 0s 35us/step - loss: 0.1167 - acc: 1.0000\n",
            "Epoch 6/15\n",
            "10000/10000 [==============================] - 0s 34us/step - loss: 0.0716 - acc: 1.0000\n",
            "Epoch 7/15\n",
            "10000/10000 [==============================] - 0s 33us/step - loss: 0.0471 - acc: 1.0000\n",
            "Epoch 8/15\n",
            "10000/10000 [==============================] - 0s 33us/step - loss: 0.0328 - acc: 1.0000\n",
            "Epoch 9/15\n",
            "10000/10000 [==============================] - 0s 32us/step - loss: 0.0240 - acc: 1.0000\n",
            "Epoch 10/15\n",
            "10000/10000 [==============================] - 0s 33us/step - loss: 0.0182 - acc: 1.0000\n",
            "Epoch 11/15\n",
            "10000/10000 [==============================] - 0s 33us/step - loss: 0.0142 - acc: 1.0000\n",
            "Epoch 12/15\n",
            "10000/10000 [==============================] - 0s 32us/step - loss: 0.0114 - acc: 1.0000\n",
            "Epoch 13/15\n",
            "10000/10000 [==============================] - 0s 33us/step - loss: 0.0093 - acc: 1.0000\n",
            "Epoch 14/15\n",
            "10000/10000 [==============================] - 0s 33us/step - loss: 0.0077 - acc: 1.0000\n",
            "Epoch 15/15\n",
            "10000/10000 [==============================] - 0s 33us/step - loss: 0.0065 - acc: 1.0000\n"
          ],
          "name": "stdout"
        },
        {
          "output_type": "execute_result",
          "data": {
            "text/plain": [
              "<keras.callbacks.History at 0x7f7640444da0>"
            ]
          },
          "metadata": {
            "tags": []
          },
          "execution_count": 4
        }
      ]
    },
    {
      "cell_type": "code",
      "metadata": {
        "id": "ksKZT_biYp7l",
        "colab_type": "code",
        "outputId": "ad8154fa-059b-4a75-c54d-ac376d54c531",
        "colab": {
          "base_uri": "https://localhost:8080/",
          "height": 50
        }
      },
      "source": [
        "# Predictions and calculate accuracy on unseen data\n",
        "correct, wrong = 0, 0\n",
        "for i in range (10001, 16384):\n",
        "  \n",
        "  op = model.predict(numpy.array([list(str(bin(i))[2:])]))\n",
        "  \n",
        "  if i%2 == 0 and op[0][0] >= 0.5:\n",
        "    correct += 1\n",
        "  elif i%2 == 1 and op[0][1] >= 0.5:\n",
        "    correct += 1\n",
        "  else:\n",
        "    wrong += 1\n",
        "    \n",
        "    \n",
        "print ('Correct: {0}, Wrong: {1}'.format(correct, wrong))\n",
        "print ('Accuracy: {0} %'.format(((correct - wrong) / correct) * 100))"
      ],
      "execution_count": 0,
      "outputs": [
        {
          "output_type": "stream",
          "text": [
            "Correct: 6383, Wrong: 0\n",
            "Accuracy: 100.0 %\n"
          ],
          "name": "stdout"
        }
      ]
    },
    {
      "cell_type": "code",
      "metadata": {
        "id": "mmrlr_k1cdl0",
        "colab_type": "code",
        "colab": {}
      },
      "source": [
        ""
      ],
      "execution_count": 0,
      "outputs": []
    }
  ]
}