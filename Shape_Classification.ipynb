{
  "nbformat": 4,
  "nbformat_minor": 0,
  "metadata": {
    "colab": {
      "name": "Shape Classification.ipynb",
      "version": "0.3.2",
      "provenance": [],
      "collapsed_sections": [],
      "include_colab_link": true
    },
    "language_info": {
      "codemirror_mode": {
        "name": "ipython",
        "version": 3
      },
      "file_extension": ".py",
      "mimetype": "text/x-python",
      "name": "python",
      "nbconvert_exporter": "python",
      "pygments_lexer": "ipython3",
      "version": "3.6.5"
    },
    "kernelspec": {
      "display_name": "Python 3",
      "language": "python",
      "name": "python3"
    }
  },
  "cells": [
    {
      "cell_type": "markdown",
      "metadata": {
        "id": "view-in-github",
        "colab_type": "text"
      },
      "source": [
        "<a href=\"https://colab.research.google.com/github/Kaushal28/ML/blob/master/Shape_Classification.ipynb\" target=\"_parent\"><img src=\"https://colab.research.google.com/assets/colab-badge.svg\" alt=\"Open In Colab\"/></a>"
      ]
    },
    {
      "cell_type": "code",
      "metadata": {
        "id": "fXZEDUNyNxsi",
        "colab_type": "code",
        "colab": {}
      },
      "source": [
        "# %load C:\\Users\\Aspire5\\Desktop\\ML\\Code\\data_generator.py\n",
        "import numpy as np\n",
        "import matplotlib.pyplot as plt\n",
        "import itertools\n",
        "from random import shuffle\n",
        "from sklearn.model_selection import train_test_split\n",
        "from keras.models import Sequential\n",
        "from keras.layers import Dense"
      ],
      "execution_count": 0,
      "outputs": []
    },
    {
      "cell_type": "code",
      "metadata": {
        "id": "MipKGHmUNxsp",
        "colab_type": "code",
        "colab": {}
      },
      "source": [
        "class DataGenerator(object):\n",
        "\n",
        "    def triangle_rect_images(self, number_of_images, image_size, save_as_image):\n",
        "        img_size = image_size\n",
        "        min_rect_size = 3\n",
        "        max_rect_size = 10\n",
        "        num_objects = 2\n",
        "\n",
        "        if not save_as_image:\n",
        "            data = []\n",
        "            labels = []\n",
        "\n",
        "        number_of_rects = number_of_images // 2\n",
        "        number_of_triangles = number_of_images - number_of_rects\n",
        "        for i_img in range(number_of_rects):\n",
        "            imgs = np.zeros((img_size, img_size))\n",
        "            width, height = np.random.randint(min_rect_size, max_rect_size, size=2)\n",
        "            x = np.random.randint(0, img_size - width)\n",
        "            y = np.random.randint(0, img_size - height)\n",
        "            imgs[x:x+width, y:y+height] = 1.\n",
        "            if not save_as_image:\n",
        "                data.append(imgs.T.reshape(1, -1).tolist())\n",
        "                labels.append(1) #denote rectangle as 1\n",
        "            else:\n",
        "                plt.imsave('square'+str(i_img)+'.jpeg', imgs.T)\n",
        "        \n",
        "        for i_img in range(number_of_triangles):\n",
        "            imgs = np.zeros((img_size, img_size))\n",
        "            size = np.random.randint(min_rect_size, max_rect_size)\n",
        "            x, y = np.random.randint(0, img_size - size, size=2)\n",
        "            mask = np.tril_indices(size)\n",
        "            imgs[x + mask[0], y + mask[1]] = 1.\n",
        "            if not save_as_image:\n",
        "                data.append(imgs.T.reshape(1, -1).tolist())\n",
        "                labels.append(0) #denote triangle as 0\n",
        "            else:\n",
        "                plt.imsave('triangle'+str(i_img)+'.jpeg', imgs.T)\n",
        "\n",
        "        if not save_as_image:\n",
        "            return data, labels"
      ],
      "execution_count": 0,
      "outputs": []
    },
    {
      "cell_type": "code",
      "metadata": {
        "id": "ly9pkoIRNxsv",
        "colab_type": "code",
        "colab": {}
      },
      "source": [
        "#generate images (array) of rectangle and triangle\n",
        "image_size = 20\n",
        "data_gen = DataGenerator()\n",
        "X, y = data_gen.triangle_rect_images(100000, image_size, False)\n",
        "X_train, X_test, y_train, y_test = train_test_split(np.array(X), np.array(y), test_size = 0.33, random_state = 87)"
      ],
      "execution_count": 0,
      "outputs": []
    },
    {
      "cell_type": "code",
      "metadata": {
        "id": "AsdpM9aHNxs1",
        "colab_type": "code",
        "colab": {}
      },
      "source": [
        "def plot_images(X, y, image_size, number_of_images):\n",
        "    if number_of_images%2 != 0:\n",
        "        raise Exception('Number of images should be even')\n",
        "    count = 0\n",
        "    for a_single_image in X:\n",
        "        if count >= number_of_images: break;\n",
        "        plt.subplot(2, number_of_images // 2, count + 1)\n",
        "        plt.title('Square' if y[count] == 1 else 'Triangle')\n",
        "        plt.imshow(a_single_image.reshape(image_size, image_size), interpolation='none', origin='lower', extent=[0, image_size, 0, image_size])\n",
        "        count += 1\n",
        "\n",
        "    plt.tight_layout()\n",
        "    plt.show()"
      ],
      "execution_count": 0,
      "outputs": []
    },
    {
      "cell_type": "code",
      "metadata": {
        "id": "uOqmd4SONxs6",
        "colab_type": "code",
        "outputId": "4b520a8b-9d45-4031-e6f2-4f0c8c4c342a",
        "colab": {
          "base_uri": "https://localhost:8080/",
          "height": 298
        }
      },
      "source": [
        "# plot first 6 images from traing data-set \n",
        "plot_images(X_train, y_train, image_size, 6)"
      ],
      "execution_count": 0,
      "outputs": [
        {
          "output_type": "display_data",
          "data": {
            "image/png": "[encoded data removed]",
            "text/plain": [
              "<Figure size 432x288 with 6 Axes>"
            ]
          },
          "metadata": {
            "tags": []
          }
        }
      ]
    },
    {
      "cell_type": "code",
      "metadata": {
        "id": "1ftdV2uUNxtE",
        "colab_type": "code",
        "outputId": "a158dda1-33ef-4438-a0f6-ddcc8c7c7f18",
        "colab": {
          "base_uri": "https://localhost:8080/",
          "height": 34
        }
      },
      "source": [
        "# reshape the array of images\n",
        "X_train = X_train.reshape(-1, image_size*image_size)\n",
        "X_test = X_test.reshape(-1, image_size*image_size)\n",
        "\n",
        "y_train_ = []\n",
        "for y in y_train:\n",
        "  if (y == 0):\n",
        "    y_train_.append([1, 0])\n",
        "  else:\n",
        "    y_train_.append([0, 1]);\n",
        "    \n",
        "y_train = np.array(y_train_)\n",
        "print (y_train[0])"
      ],
      "execution_count": 0,
      "outputs": [
        {
          "output_type": "stream",
          "text": [
            "[1 0]\n"
          ],
          "name": "stdout"
        }
      ]
    },
    {
      "cell_type": "code",
      "metadata": {
        "id": "qK5kcP_RNxtt",
        "colab_type": "code",
        "outputId": "753bbc12-d156-49e7-fbed-18f327a5867c",
        "colab": {
          "base_uri": "https://localhost:8080/",
          "height": 2050
        }
      },
      "source": [
        "# define a neural network to classify shapes\n",
        "model = Sequential()\n",
        "model.add(Dense(25, input_dim = 400, activation = 'relu'))\n",
        "model.add(Dense(20, activation = 'relu'))\n",
        "model.add(Dense(15, activation = 'relu'))\n",
        "model.add(Dense(10, activation = 'relu'))\n",
        "model.add(Dense(2, activation = 'sigmoid'))\n",
        "# Compile model\n",
        "model.compile(loss='binary_crossentropy', optimizer='adam', metrics=['accuracy'])\n",
        "# Fit the model\n",
        "model.fit(X_train, y_train, epochs=60, batch_size=10000)"
      ],
      "execution_count": 0,
      "outputs": [
        {
          "output_type": "stream",
          "text": [
            "Epoch 1/60\n",
            "67000/67000 [==============================] - 1s 21us/step - loss: 0.6919 - acc: 0.5208\n",
            "Epoch 2/60\n",
            "67000/67000 [==============================] - 0s 6us/step - loss: 0.6791 - acc: 0.5743\n",
            "Epoch 3/60\n",
            "67000/67000 [==============================] - 0s 6us/step - loss: 0.6612 - acc: 0.6190\n",
            "Epoch 4/60\n",
            "67000/67000 [==============================] - 0s 6us/step - loss: 0.6351 - acc: 0.6651\n",
            "Epoch 5/60\n",
            "67000/67000 [==============================] - 0s 6us/step - loss: 0.6011 - acc: 0.7179\n",
            "Epoch 6/60\n",
            "67000/67000 [==============================] - 0s 6us/step - loss: 0.5618 - acc: 0.7547\n",
            "Epoch 7/60\n",
            "67000/67000 [==============================] - 0s 6us/step - loss: 0.5199 - acc: 0.7973\n",
            "Epoch 8/60\n",
            "67000/67000 [==============================] - 0s 5us/step - loss: 0.4759 - acc: 0.8301\n",
            "Epoch 9/60\n",
            "67000/67000 [==============================] - 0s 6us/step - loss: 0.4294 - acc: 0.8594\n",
            "Epoch 10/60\n",
            "67000/67000 [==============================] - 0s 6us/step - loss: 0.3815 - acc: 0.8875\n",
            "Epoch 11/60\n",
            "67000/67000 [==============================] - 0s 6us/step - loss: 0.3335 - acc: 0.9093\n",
            "Epoch 12/60\n",
            "67000/67000 [==============================] - 0s 6us/step - loss: 0.2867 - acc: 0.9254\n",
            "Epoch 13/60\n",
            "67000/67000 [==============================] - 0s 6us/step - loss: 0.2424 - acc: 0.9401\n",
            "Epoch 14/60\n",
            "67000/67000 [==============================] - 0s 6us/step - loss: 0.2016 - acc: 0.9520\n",
            "Epoch 15/60\n",
            "67000/67000 [==============================] - 0s 6us/step - loss: 0.1666 - acc: 0.9611\n",
            "Epoch 16/60\n",
            "67000/67000 [==============================] - 0s 5us/step - loss: 0.1377 - acc: 0.9684\n",
            "Epoch 17/60\n",
            "67000/67000 [==============================] - 0s 5us/step - loss: 0.1144 - acc: 0.9740\n",
            "Epoch 18/60\n",
            "67000/67000 [==============================] - 0s 6us/step - loss: 0.0956 - acc: 0.9780\n",
            "Epoch 19/60\n",
            "67000/67000 [==============================] - 0s 6us/step - loss: 0.0806 - acc: 0.9814\n",
            "Epoch 20/60\n",
            "67000/67000 [==============================] - 0s 6us/step - loss: 0.0684 - acc: 0.9843\n",
            "Epoch 21/60\n",
            "67000/67000 [==============================] - 0s 6us/step - loss: 0.0586 - acc: 0.9870\n",
            "Epoch 22/60\n",
            "67000/67000 [==============================] - 0s 6us/step - loss: 0.0502 - acc: 0.9889\n",
            "Epoch 23/60\n",
            "67000/67000 [==============================] - 0s 6us/step - loss: 0.0432 - acc: 0.9904\n",
            "Epoch 24/60\n",
            "67000/67000 [==============================] - 0s 6us/step - loss: 0.0374 - acc: 0.9916\n",
            "Epoch 25/60\n",
            "67000/67000 [==============================] - 0s 6us/step - loss: 0.0325 - acc: 0.9928\n",
            "Epoch 26/60\n",
            "67000/67000 [==============================] - 0s 6us/step - loss: 0.0285 - acc: 0.9939\n",
            "Epoch 27/60\n",
            "67000/67000 [==============================] - 0s 6us/step - loss: 0.0250 - acc: 0.9948\n",
            "Epoch 28/60\n",
            "67000/67000 [==============================] - 0s 6us/step - loss: 0.0223 - acc: 0.9956\n",
            "Epoch 29/60\n",
            "67000/67000 [==============================] - 0s 5us/step - loss: 0.0198 - acc: 0.9967\n",
            "Epoch 30/60\n",
            "67000/67000 [==============================] - 0s 5us/step - loss: 0.0177 - acc: 0.9972\n",
            "Epoch 31/60\n",
            "67000/67000 [==============================] - 0s 6us/step - loss: 0.0159 - acc: 0.9975\n",
            "Epoch 32/60\n",
            "67000/67000 [==============================] - 0s 5us/step - loss: 0.0143 - acc: 0.9978\n",
            "Epoch 33/60\n",
            "67000/67000 [==============================] - 0s 6us/step - loss: 0.0129 - acc: 0.9982\n",
            "Epoch 34/60\n",
            "67000/67000 [==============================] - 0s 6us/step - loss: 0.0117 - acc: 0.9985\n",
            "Epoch 35/60\n",
            "67000/67000 [==============================] - 0s 6us/step - loss: 0.0107 - acc: 0.9985\n",
            "Epoch 36/60\n",
            "67000/67000 [==============================] - 0s 6us/step - loss: 0.0097 - acc: 0.9987\n",
            "Epoch 37/60\n",
            "67000/67000 [==============================] - 0s 6us/step - loss: 0.0089 - acc: 0.9989\n",
            "Epoch 38/60\n",
            "67000/67000 [==============================] - 0s 6us/step - loss: 0.0082 - acc: 0.9992\n",
            "Epoch 39/60\n",
            "67000/67000 [==============================] - 0s 6us/step - loss: 0.0075 - acc: 0.9992\n",
            "Epoch 40/60\n",
            "67000/67000 [==============================] - 0s 6us/step - loss: 0.0069 - acc: 0.9993\n",
            "Epoch 41/60\n",
            "67000/67000 [==============================] - 0s 6us/step - loss: 0.0064 - acc: 0.9995\n",
            "Epoch 42/60\n",
            "67000/67000 [==============================] - 0s 6us/step - loss: 0.0059 - acc: 0.9994\n",
            "Epoch 43/60\n",
            "67000/67000 [==============================] - 0s 6us/step - loss: 0.0055 - acc: 0.9995\n",
            "Epoch 44/60\n",
            "67000/67000 [==============================] - 0s 6us/step - loss: 0.0051 - acc: 0.9996\n",
            "Epoch 45/60\n",
            "67000/67000 [==============================] - 0s 6us/step - loss: 0.0047 - acc: 0.9996\n",
            "Epoch 46/60\n",
            "67000/67000 [==============================] - 0s 6us/step - loss: 0.0044 - acc: 0.9997\n",
            "Epoch 47/60\n",
            "67000/67000 [==============================] - 0s 6us/step - loss: 0.0041 - acc: 0.9997\n",
            "Epoch 48/60\n",
            "67000/67000 [==============================] - 0s 6us/step - loss: 0.0038 - acc: 0.9998\n",
            "Epoch 49/60\n",
            "67000/67000 [==============================] - 0s 6us/step - loss: 0.0036 - acc: 0.9998\n",
            "Epoch 50/60\n",
            "67000/67000 [==============================] - 0s 6us/step - loss: 0.0034 - acc: 0.9999\n",
            "Epoch 51/60\n",
            "67000/67000 [==============================] - 0s 6us/step - loss: 0.0032 - acc: 0.9999\n",
            "Epoch 52/60\n",
            "67000/67000 [==============================] - 0s 6us/step - loss: 0.0030 - acc: 0.9999\n",
            "Epoch 53/60\n",
            "67000/67000 [==============================] - 0s 6us/step - loss: 0.0028 - acc: 0.9999\n",
            "Epoch 54/60\n",
            "67000/67000 [==============================] - 0s 6us/step - loss: 0.0026 - acc: 0.9999\n",
            "Epoch 55/60\n",
            "67000/67000 [==============================] - 0s 6us/step - loss: 0.0025 - acc: 0.9999\n",
            "Epoch 56/60\n",
            "67000/67000 [==============================] - 0s 6us/step - loss: 0.0024 - acc: 0.9999\n",
            "Epoch 57/60\n",
            "67000/67000 [==============================] - 0s 6us/step - loss: 0.0022 - acc: 0.9999\n",
            "Epoch 58/60\n",
            "67000/67000 [==============================] - 0s 6us/step - loss: 0.0021 - acc: 1.0000\n",
            "Epoch 59/60\n",
            "67000/67000 [==============================] - 0s 6us/step - loss: 0.0020 - acc: 1.0000\n",
            "Epoch 60/60\n",
            "67000/67000 [==============================] - 0s 6us/step - loss: 0.0019 - acc: 1.0000\n"
          ],
          "name": "stdout"
        },
        {
          "output_type": "execute_result",
          "data": {
            "text/plain": [
              "<keras.callbacks.History at 0x7fb1f5b07080>"
            ]
          },
          "metadata": {
            "tags": []
          },
          "execution_count": 107
        }
      ]
    },
    {
      "cell_type": "code",
      "metadata": {
        "id": "wgCF20Yo3xpQ",
        "colab_type": "code",
        "colab": {}
      },
      "source": [
        "y_test_ = []\n",
        "for y in y_test:\n",
        "  if (y == 0):\n",
        "    y_test_.append([1, 0])\n",
        "  else:\n",
        "    y_test_.append([0, 1]);\n",
        "    \n",
        "y_test = np.array(y_test_)"
      ],
      "execution_count": 0,
      "outputs": []
    },
    {
      "cell_type": "code",
      "metadata": {
        "id": "eT-5Xwg1VbtJ",
        "colab_type": "code",
        "outputId": "c86e1834-205a-43de-8b07-6242ccdef5a1",
        "colab": {
          "base_uri": "https://localhost:8080/",
          "height": 50
        }
      },
      "source": [
        "model.evaluate(X_test, y_test)"
      ],
      "execution_count": 0,
      "outputs": [
        {
          "output_type": "stream",
          "text": [
            "33000/33000 [==============================] - 1s 39us/step\n"
          ],
          "name": "stdout"
        },
        {
          "output_type": "execute_result",
          "data": {
            "text/plain": [
              "[0.003400249002536646, 0.9994090909090909]"
            ]
          },
          "metadata": {
            "tags": []
          },
          "execution_count": 109
        }
      ]
    }
  ]
}