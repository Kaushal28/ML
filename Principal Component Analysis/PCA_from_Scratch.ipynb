{
  "nbformat": 4,
  "nbformat_minor": 0,
  "metadata": {
    "colab": {
      "name": "PCA from Scratch.ipynb",
      "version": "0.3.2",
      "provenance": [],
      "collapsed_sections": [],
      "include_colab_link": true
    },
    "language_info": {
      "codemirror_mode": {
        "name": "ipython",
        "version": 3
      },
      "file_extension": ".py",
      "mimetype": "text/x-python",
      "name": "python",
      "nbconvert_exporter": "python",
      "pygments_lexer": "ipython3",
      "version": "3.6.5"
    },
    "kernelspec": {
      "display_name": "Python 3",
      "language": "python",
      "name": "python3"
    }
  },
  "cells": [
    {
      "cell_type": "markdown",
      "metadata": {
        "id": "view-in-github",
        "colab_type": "text"
      },
      "source": [
        "<a href=\"https://colab.research.google.com/github/Kaushal28/ML/blob/develop/PCA_from_Scratch.ipynb\" target=\"_parent\"><img src=\"https://colab.research.google.com/assets/colab-badge.svg\" alt=\"Open In Colab\"/></a>"
      ]
    },
    {
      "cell_type": "code",
      "metadata": {
        "id": "peDQKl7AUofL",
        "colab_type": "code",
        "colab": {}
      },
      "source": [
        "import numpy as np\n",
        "from numpy import linalg as LA\n",
        "from matplotlib import pyplot as plt"
      ],
      "execution_count": 0,
      "outputs": []
    },
    {
      "cell_type": "code",
      "metadata": {
        "id": "x644ymWUUofQ",
        "colab_type": "code",
        "outputId": "df415727-9dd5-4da9-ce82-9a2def75277c",
        "colab": {
          "base_uri": "https://localhost:8080/",
          "height": 67
        }
      },
      "source": [
        "# sample random dataset\n",
        "X = np.array([1, 2, 3, 4, 5, 6, 7, 8, 9, 10])\n",
        "y = np.array([10, 10, 12, 13, 14, 15, 16, 17, 19, 19])\n",
        "\n",
        "x_mean = np.mean(X)\n",
        "y_mean = np.mean(y)\n",
        "\n",
        "print ('Mean of X: {0}\\nMean of y: {1}'.format(x_mean, y_mean))\n",
        "\n",
        "# center the data\n",
        "X = X - x_mean\n",
        "y = y - y_mean\n",
        "\n",
        "#define this data as a single matrix\n",
        "data_matrix = np.array([X, y])\n",
        "\n",
        "print (X, y)"
      ],
      "execution_count": 0,
      "outputs": [
        {
          "output_type": "stream",
          "text": [
            "Mean of X: 5.5\n",
            "Mean of y: 14.5\n",
            "[-4.5 -3.5 -2.5 -1.5 -0.5  0.5  1.5  2.5  3.5  4.5] [-4.5 -4.5 -2.5 -1.5 -0.5  0.5  1.5  2.5  4.5  4.5]\n"
          ],
          "name": "stdout"
        }
      ]
    },
    {
      "cell_type": "code",
      "metadata": {
        "id": "LAJXbhBtUofW",
        "colab_type": "code",
        "outputId": "ed3acf07-6aa1-488c-8643-6b25cb6433b6",
        "colab": {
          "base_uri": "https://localhost:8080/",
          "height": 403
        }
      },
      "source": [
        "# calculate covariance matrix\n",
        "cov_matrix = np.cov(X, y)\n",
        "print ('Covariance matrix:\\n{0}'.format(cov_matrix))\n",
        "\n",
        "# calculate eigen vactors and eigen values\n",
        "eig_values, eig_vectors = LA.eigh(cov_matrix)\n",
        "\n",
        "# eigh gives the array in ascending order sorted, In PCA we need highest eigen values so reverse the arrays\n",
        "eig_values = eig_values[::-1]\n",
        "eig_vectors = eig_vectors[::-1]\n",
        "\n",
        "#print the eigen valus and eigen vectors\n",
        "print ('Eigen Values:\\n{0}'.format(eig_values))\n",
        "print ('Eigen Vectors:\\n{0}'.format(eig_vectors))\n",
        "\n",
        "#plot the graph\n",
        "origin = [0], [0]\n",
        "plt.quiver(*origin, eig_vectors[:, 0], eig_vectors[:, 1], color = ['r', 'b'], scale = 10)\n",
        "plt.scatter(X, y)\n",
        "plt.show()"
      ],
      "execution_count": 0,
      "outputs": [
        {
          "output_type": "stream",
          "text": [
            "Covariance matrix:\n",
            "[[ 9.16666667  9.94444444]\n",
            " [ 9.94444444 10.94444444]]\n",
            "Eigen Values:\n",
            "[20.03964784  0.07146327]\n",
            "Eigen Vectors:\n",
            "[[ 0.6748961   0.73791277]\n",
            " [-0.73791277  0.6748961 ]]\n"
          ],
          "name": "stdout"
        },
        {
          "output_type": "display_data",
          "data": {
            "image/png": "[encoded data removed]",
            "text/plain": [
              "<Figure size 432x288 with 1 Axes>"
            ]
          },
          "metadata": {
            "tags": []
          }
        }
      ]
    },
    {
      "cell_type": "code",
      "metadata": {
        "id": "yumybZ3BUofa",
        "colab_type": "code",
        "colab": {}
      },
      "source": [
        "# returns first n principal components\n",
        "def get_n_components(n, eig_vectors):\n",
        "    return eig_vectors[:n, :]"
      ],
      "execution_count": 0,
      "outputs": []
    },
    {
      "cell_type": "code",
      "metadata": {
        "id": "Mq_1TLgAUofd",
        "colab_type": "code",
        "outputId": "b4b8b38d-637a-4bc5-a1fe-21b1db8ac837",
        "colab": {
          "base_uri": "https://localhost:8080/",
          "height": 50
        }
      },
      "source": [
        "principal_components = get_n_components(1, eig_vectors)\n",
        "print ('Shape of Principal Components matrix: {0}'.format(principal_components.shape))\n",
        "print ('Shape of data matrix: {0}'.format(data_matrix.shape))"
      ],
      "execution_count": 0,
      "outputs": [
        {
          "output_type": "stream",
          "text": [
            "Shape of Principal Components matrix: (1, 2)\n",
            "Shape of data matrix: (2, 10)\n"
          ],
          "name": "stdout"
        }
      ]
    },
    {
      "cell_type": "code",
      "metadata": {
        "id": "llHOy9-1Uofg",
        "colab_type": "code",
        "outputId": "bde0ddfe-cc66-4e61-dc02-f47d9b632efa",
        "colab": {
          "base_uri": "https://localhost:8080/",
          "height": 50
        }
      },
      "source": [
        "# Transfor the original data set to reduced dimensions defined by its principal components\n",
        "transformed_data = np.matmul(principal_components, data_matrix)\n",
        "print (transformed_data)"
      ],
      "execution_count": 0,
      "outputs": [
        {
          "output_type": "stream",
          "text": [
            "[[-6.35763991 -5.68274381 -3.53202217 -2.1192133  -0.70640443  0.70640443\n",
            "   2.1192133   3.53202217  5.68274381  6.35763991]]\n"
          ],
          "name": "stdout"
        }
      ]
    },
    {
      "cell_type": "code",
      "metadata": {
        "id": "dFb_Liy6Uofk",
        "colab_type": "code",
        "outputId": "f78beaf7-01e7-463f-e81b-d8e043c9370a",
        "colab": {
          "base_uri": "https://localhost:8080/",
          "height": 269
        }
      },
      "source": [
        "# Plot the transformed data. It's 1D.\n",
        "plt.plot(transformed_data, np.zeros_like(transformed_data), 'o')\n",
        "plt.show()"
      ],
      "execution_count": 0,
      "outputs": [
        {
          "output_type": "display_data",
          "data": {
            "image/png": "[encoded data removed]",
            "text/plain": [
              "<Figure size 432x288 with 1 Axes>"
            ]
          },
          "metadata": {
            "tags": []
          }
        }
      ]
    },
    {
      "cell_type": "code",
      "metadata": {
        "id": "BavK8CpjUofn",
        "colab_type": "code",
        "outputId": "da09fb41-2fa4-46a8-aac2-9c187cc15817",
        "colab": {
          "base_uri": "https://localhost:8080/",
          "height": 319
        }
      },
      "source": [
        "# Getting the original data back\n",
        "original_data_retrieved = np.matmul(principal_components.T, transformed_data)\n",
        "original_data_transformed = [original_data_retrieved[0]+ x_mean, original_data_retrieved[1] + y_mean]\n",
        "print (original_data_transformed)\n",
        "\n",
        "#Plot the original data\n",
        "plt.scatter(original_data_transformed[0], original_data_transformed[1])\n",
        "plt.show()"
      ],
      "execution_count": 0,
      "outputs": [
        {
          "output_type": "stream",
          "text": [
            "[array([1.20925364, 1.66473838, 3.11625202, 4.06975121, 5.0232504 ,\n",
            "       5.9767496 , 6.93024879, 7.88374798, 9.33526162, 9.79074636]), array([ 9.80861632, 10.30663077, 11.89367573, 12.93620544, 13.97873515,\n",
            "       15.02126485, 16.06379456, 17.10632427, 18.69336923, 19.19138368])]\n"
          ],
          "name": "stdout"
        },
        {
          "output_type": "display_data",
          "data": {
            "image/png": "[encoded data removed]",
            "text/plain": [
              "<Figure size 432x288 with 1 Axes>"
            ]
          },
          "metadata": {
            "tags": []
          }
        }
      ]
    },
    {
      "cell_type": "code",
      "metadata": {
        "id": "Y70Eua6DUofr",
        "colab_type": "code",
        "outputId": "e7579aa5-34a5-414d-e5b5-f6b7609ed593",
        "colab": {
          "base_uri": "https://localhost:8080/",
          "height": 386
        }
      },
      "source": [
        "# Using sklearns PCA for comparision\n",
        "from sklearn.decomposition import PCA\n",
        "pca = PCA(n_components = 1)\n",
        "\n",
        "xy_pair = []\n",
        "for i, j in zip(X, y):\n",
        "    xy_pair.append([i, j])\n",
        "\n",
        "sklearns_transformed_data = pca.fit_transform(xy_pair)\n",
        "print ('sklearns transformed data:\\n{0}'.format(sklearns_transformed_data))\n",
        "print ('Our data:\\n{0}'.format(transformed_data.T))"
      ],
      "execution_count": 0,
      "outputs": [
        {
          "output_type": "stream",
          "text": [
            "sklearns transformed data:\n",
            "[[ 6.35763991]\n",
            " [ 5.68274381]\n",
            " [ 3.53202217]\n",
            " [ 2.1192133 ]\n",
            " [ 0.70640443]\n",
            " [-0.70640443]\n",
            " [-2.1192133 ]\n",
            " [-3.53202217]\n",
            " [-5.68274381]\n",
            " [-6.35763991]]\n",
            "Our data:\n",
            "[[-6.35763991]\n",
            " [-5.68274381]\n",
            " [-3.53202217]\n",
            " [-2.1192133 ]\n",
            " [-0.70640443]\n",
            " [ 0.70640443]\n",
            " [ 2.1192133 ]\n",
            " [ 3.53202217]\n",
            " [ 5.68274381]\n",
            " [ 6.35763991]]\n"
          ],
          "name": "stdout"
        }
      ]
    }
  ]
}